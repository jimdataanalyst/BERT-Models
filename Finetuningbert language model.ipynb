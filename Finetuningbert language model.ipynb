{
 "cells": [
  {
   "cell_type": "code",
   "execution_count": 1,
   "metadata": {
    "gather": {
     "logged": 1602681489351
    }
   },
   "outputs": [],
   "source": [
    "from transformers import DistilBertModel, DistilBertTokenizer, LineByLineTextDataset, DataCollatorForLanguageModeling\n",
    "from transformers import Trainer, TrainingArguments"
   ]
  },
  {
   "cell_type": "code",
   "execution_count": 2,
   "metadata": {
    "gather": {
     "logged": 1602681490577
    },
    "jupyter": {
     "outputs_hidden": false,
     "source_hidden": false
    },
    "nteract": {
     "transient": {
      "deleting": false
     }
    }
   },
   "outputs": [],
   "source": [
    "import pandas as pd\n",
    "import numpy as np\n",
    "import torch\n",
    "import transformers\n",
    "from torch.utils.data import Dataset, DataLoader\n",
    "from transformers import DistilBertModel, DistilBertTokenizer\n",
    "from nltk.stem import PorterStemmer \n",
    "from nltk.stem import WordNetLemmatizer \n",
    "import nltk as nltk\n",
    "import re\n",
    "from bs4 import BeautifulSoup\n",
    "from nltk.corpus import stopwords\n",
    "from wordcloud import WordCloud, STOPWORDS, ImageColorGenerator\n",
    "import string\n",
    "from nltk.tokenize import word_tokenize\n",
    "from transformers import BertForMaskedLM,BertConfig,BertTokenizer"
   ]
  },
  {
   "cell_type": "code",
   "execution_count": 3,
   "metadata": {
    "gather": {
     "logged": 1602681495505
    },
    "jupyter": {
     "outputs_hidden": false,
     "source_hidden": false
    },
    "nteract": {
     "transient": {
      "deleting": false
     }
    }
   },
   "outputs": [
    {
     "name": "stdout",
     "output_type": "stream",
     "text": [
      "\n",
      "\n",
      "Null Value list \n",
      " Title                        0\n",
      "Domain                       0\n",
      "Area                      2444\n",
      "BudgetLine                1728\n",
      "ProjectName                  0\n",
      "ProjectDescription           0\n",
      "Region                    1441\n",
      "RequirementDescription      71\n",
      "SolutionSummary           3994\n",
      "SolutionDescription       3790\n",
      "SolutionAssumption        6955\n",
      "ProductName               3093\n",
      "RecommendedPricing         264\n",
      "Sizing_bins               3765\n",
      "dtype: int64\n",
      "\n",
      "\n",
      "<class 'pandas.core.frame.DataFrame'>\n",
      "RangeIndex: 11113 entries, 0 to 11112\n",
      "Data columns (total 14 columns):\n",
      "Title                     11113 non-null object\n",
      "Domain                    11113 non-null object\n",
      "Area                      8669 non-null object\n",
      "BudgetLine                9385 non-null object\n",
      "ProjectName               11113 non-null object\n",
      "ProjectDescription        11113 non-null object\n",
      "Region                    9672 non-null object\n",
      "RequirementDescription    11042 non-null object\n",
      "SolutionSummary           7119 non-null object\n",
      "SolutionDescription       7323 non-null object\n",
      "SolutionAssumption        4158 non-null object\n",
      "ProductName               8020 non-null object\n",
      "RecommendedPricing        10849 non-null object\n",
      "Sizing_bins               7348 non-null float64\n",
      "dtypes: float64(1), object(13)\n",
      "memory usage: 1.2+ MB\n",
      "None\n"
     ]
    }
   ],
   "source": [
    "df=pd.read_excel('data_sizing_bin1.xlsx')\n",
    "df=df.drop(['Unnamed: 0',\n",
    " 'Unnamed: 0.1',\n",
    " 'TaskID',\n",
    "'BudgetLineID',\n",
    " 'ProjectID',\n",
    " 'RegionID','CurrentProcess',\n",
    " 'PCPNumber',\n",
    " 'CR',\n",
    " 'PCPType','TaskStatus',\n",
    " 'DescopeReason','OOM',\n",
    " 'OOMStr', 'CategoryKeyword',\n",
    " 'LateUATJustification',\n",
    " 'OOMForumReview',\n",
    " 'OOMForumApproved',\n",
    " 'ExpiryFlag',\n",
    " 'DateOpen',\n",
    " 'OpenYear',\n",
    " 'AssessmentMode',\n",
    " 'OOMForumComments',\n",
    " 'OOMComments',\n",
    " 'AssessmentInfoComments',\n",
    " 'PCPComments','PCPCategory',\n",
    " 'Itemization',\n",
    " 'UpdatedDate','Sizing_cpy','UATDuration','AssessmentCategory','DomainID','AreaID','FundingSolution','totalwords_RequirementDescription','Sizing'],axis=1)\n",
    "cname=list(df.columns)\n",
    "df=df.reset_index(drop = True)\n",
    "df['Sizing_bins']=df['Sizing_bins'].replace(['Very Small','Small','Medium','Large'], [0,1,2,3])\n",
    "#df=df.drop(['Sizing_bins'],axis=1)\n",
    "print('\\n')\n",
    "print('Null Value list \\n',df.isnull().sum())\n",
    "print('\\n') \n",
    "print(df.info())"
   ]
  },
  {
   "cell_type": "code",
   "execution_count": 4,
   "metadata": {
    "gather": {
     "logged": 1602681495867
    },
    "jupyter": {
     "outputs_hidden": false,
     "source_hidden": false
    },
    "nteract": {
     "transient": {
      "deleting": false
     }
    }
   },
   "outputs": [
    {
     "name": "stdout",
     "output_type": "stream",
     "text": [
      "<class 'pandas.core.frame.DataFrame'>\n",
      "RangeIndex: 11113 entries, 0 to 11112\n",
      "Data columns (total 14 columns):\n",
      "Title                     11113 non-null object\n",
      "Domain                    11113 non-null object\n",
      "Area                      11113 non-null object\n",
      "BudgetLine                11113 non-null object\n",
      "ProjectName               11113 non-null object\n",
      "ProjectDescription        11113 non-null object\n",
      "Region                    11113 non-null object\n",
      "RequirementDescription    11113 non-null object\n",
      "SolutionSummary           11113 non-null object\n",
      "SolutionDescription       11113 non-null object\n",
      "SolutionAssumption        11113 non-null object\n",
      "ProductName               11113 non-null object\n",
      "RecommendedPricing        11113 non-null object\n",
      "Sizing_bins               11113 non-null object\n",
      "dtypes: object(14)\n",
      "memory usage: 1.2+ MB\n"
     ]
    }
   ],
   "source": [
    "df=df.astype(str)\n",
    "df.info()"
   ]
  },
  {
   "cell_type": "code",
   "execution_count": 5,
   "metadata": {
    "gather": {
     "logged": 1602681496102
    },
    "jupyter": {
     "outputs_hidden": false,
     "source_hidden": false
    },
    "nteract": {
     "transient": {
      "deleting": false
     }
    }
   },
   "outputs": [],
   "source": [
    "REPLACE_BY_SPACE_RE = re.compile('[/(){}\\[\\]\\|@,;]')\n",
    "BAD_SYMBOLS_RE = re.compile('[^0-9a-z #+_]')\n",
    "REMOVE_NUMBERS =re.compile(\"[\\d+]\")\n",
    "STOPWORDS = set(stopwords.words('english'))\n",
    "\n",
    "\n",
    "def clean_text(text):\n",
    "    \"\"\"\n",
    "        text: a string\n",
    "        \n",
    "        return: modified initial string\n",
    "    \"\"\"\n",
    "    text = BeautifulSoup(text, \"lxml\").text # HTML decoding\n",
    "    text = text.lower() # lowercase text\n",
    "    text = REPLACE_BY_SPACE_RE.sub(' ', text) # replace REPLACE_BY_SPACE_RE symbols by space in text\n",
    "    text = REMOVE_NUMBERS.sub('',text) # replace REMOVE_NUMBERS by space in text\n",
    "    text = BAD_SYMBOLS_RE.sub('', text) # delete symbols which are in BAD_SYMBOLS_RE from text\n",
    "    text = ' '.join(word for word in text.split() if word not in STOPWORDS)# delete stopwors from text\n",
    "    #text = ' '.join(word for word in text.split() if word not in common_words)\n",
    "    return text"
   ]
  },
  {
   "cell_type": "code",
   "execution_count": 6,
   "metadata": {
    "gather": {
     "logged": 1602681568550
    },
    "jupyter": {
     "outputs_hidden": false,
     "source_hidden": false
    },
    "nteract": {
     "transient": {
      "deleting": false
     }
    }
   },
   "outputs": [
    {
     "name": "stderr",
     "output_type": "stream",
     "text": [
      "/anaconda/envs/azureml_py36/lib/python3.6/site-packages/bs4/__init__.py:333: MarkupResemblesLocatorWarning: \".\" looks like a filename, not markup. You should probably open this file and pass the filehandle into Beautiful Soup.\n",
      "  MarkupResemblesLocatorWarning\n",
      "/anaconda/envs/azureml_py36/lib/python3.6/site-packages/bs4/__init__.py:421: MarkupResemblesLocatorWarning: \"https://rndwww.nce.amadeus.net/agile/browse/HITPP-1238\" looks like a URL. Beautiful Soup is not an HTTP client. You should probably use an HTTP client like requests to get the document behind the URL, and feed that document to Beautiful Soup.\n",
      "  MarkupResemblesLocatorWarning\n",
      "/anaconda/envs/azureml_py36/lib/python3.6/site-packages/bs4/__init__.py:421: MarkupResemblesLocatorWarning: \"https://rndwww.nce.amadeus.net/agile/browse/HITPP-1239\" looks like a URL. Beautiful Soup is not an HTTP client. You should probably use an HTTP client like requests to get the document behind the URL, and feed that document to Beautiful Soup.\n",
      "  MarkupResemblesLocatorWarning\n",
      "/anaconda/envs/azureml_py36/lib/python3.6/site-packages/bs4/__init__.py:421: MarkupResemblesLocatorWarning: \"https://rndwww.nce.amadeus.net/agile/browse/HITPP-1243\" looks like a URL. Beautiful Soup is not an HTTP client. You should probably use an HTTP client like requests to get the document behind the URL, and feed that document to Beautiful Soup.\n",
      "  MarkupResemblesLocatorWarning\n",
      "/anaconda/envs/azureml_py36/lib/python3.6/site-packages/bs4/__init__.py:421: MarkupResemblesLocatorWarning: \"https://rndwww.nce.amadeus.net/agile/browse/HITPP-1240\" looks like a URL. Beautiful Soup is not an HTTP client. You should probably use an HTTP client like requests to get the document behind the URL, and feed that document to Beautiful Soup.\n",
      "  MarkupResemblesLocatorWarning\n",
      "/anaconda/envs/azureml_py36/lib/python3.6/site-packages/bs4/__init__.py:421: MarkupResemblesLocatorWarning: \"https://rndwww.nce.amadeus.net/agile/browse/HITPP-1241\" looks like a URL. Beautiful Soup is not an HTTP client. You should probably use an HTTP client like requests to get the document behind the URL, and feed that document to Beautiful Soup.\n",
      "  MarkupResemblesLocatorWarning\n",
      "/anaconda/envs/azureml_py36/lib/python3.6/site-packages/bs4/__init__.py:421: MarkupResemblesLocatorWarning: \"https://rndwww.nce.amadeus.net/agile/browse/HITPP-1242\" looks like a URL. Beautiful Soup is not an HTTP client. You should probably use an HTTP client like requests to get the document behind the URL, and feed that document to Beautiful Soup.\n",
      "  MarkupResemblesLocatorWarning\n",
      "/anaconda/envs/azureml_py36/lib/python3.6/site-packages/bs4/__init__.py:421: MarkupResemblesLocatorWarning: \"https://share.amadeus.com/sites/Impacted_Systems/AirlineDocsandPages/SK%20Sizing%20-%20e-retail%20XML%20Implementation%20-%20FP%20EBANK%2015348622.docx\" looks like a URL. Beautiful Soup is not an HTTP client. You should probably use an HTTP client like requests to get the document behind the URL, and feed that document to Beautiful Soup.\n",
      "  MarkupResemblesLocatorWarning\n",
      "/anaconda/envs/azureml_py36/lib/python3.6/site-packages/bs4/__init__.py:421: MarkupResemblesLocatorWarning: \"https://partner.amadeus.com/pmo/IHG/Lists/V2%20Action%20Items/DispForm.aspx?ID=1154\" looks like a URL. Beautiful Soup is not an HTTP client. You should probably use an HTTP client like requests to get the document behind the URL, and feed that document to Beautiful Soup.\n",
      "  MarkupResemblesLocatorWarning\n",
      "/anaconda/envs/azureml_py36/lib/python3.6/site-packages/bs4/__init__.py:421: MarkupResemblesLocatorWarning: \"https://amadeusworkplace.sharepoint.com/sites/IHG/Lists/V2%20Action%20Items/DispForm.aspx?ID=2043\" looks like a URL. Beautiful Soup is not an HTTP client. You should probably use an HTTP client like requests to get the document behind the URL, and feed that document to Beautiful Soup.\n",
      "  MarkupResemblesLocatorWarning\n",
      "/anaconda/envs/azureml_py36/lib/python3.6/site-packages/bs4/__init__.py:421: MarkupResemblesLocatorWarning: \"https://rndwww.nce.amadeus.net/confluence/download/attachments/1358853297/SAS%20Sizing%20-%20eretail%20XML%20Implementation%20-%203DS%20v2%20_%2019189692.docx?version=1&amp;modificationDate=1588155886318&amp;api=v2\" looks like a URL. Beautiful Soup is not an HTTP client. You should probably use an HTTP client like requests to get the document behind the URL, and feed that document to Beautiful Soup.\n",
      "  MarkupResemblesLocatorWarning\n",
      "/anaconda/envs/azureml_py36/lib/python3.6/site-packages/bs4/__init__.py:421: MarkupResemblesLocatorWarning: \"https://ahppartners.amaext.tools/confluence/x/xED6AQ\" looks like a URL. Beautiful Soup is not an HTTP client. You should probably use an HTTP client like requests to get the document behind the URL, and feed that document to Beautiful Soup.\n",
      "  MarkupResemblesLocatorWarning\n",
      "/anaconda/envs/azureml_py36/lib/python3.6/site-packages/bs4/__init__.py:421: MarkupResemblesLocatorWarning: \"https://9m0jkj.axshare.com/#g=1&amp;p=lookup_control__pcp_81465__pcp_97212_\" looks like a URL. Beautiful Soup is not an HTTP client. You should probably use an HTTP client like requests to get the document behind the URL, and feed that document to Beautiful Soup.\n",
      "  MarkupResemblesLocatorWarning\n",
      "/anaconda/envs/azureml_py36/lib/python3.6/site-packages/bs4/__init__.py:421: MarkupResemblesLocatorWarning: \"https://rndwww.nce.amadeus.net/confluence/pages/viewpage.action?pageId=37954635&amp;preview=%2F37954635%2F208640628%2FAF+KL+DL+Seats+S3+Validation+-+3.0.pptx\" looks like a URL. Beautiful Soup is not an HTTP client. You should probably use an HTTP client like requests to get the document behind the URL, and feed that document to Beautiful Soup.\n",
      "  MarkupResemblesLocatorWarning\n",
      "/anaconda/envs/azureml_py36/lib/python3.6/site-packages/bs4/__init__.py:421: MarkupResemblesLocatorWarning: \"https://rndwww.nce.amadeus.net/confluence/display/GRP/Compute+Mixed+Itinerary?preview=%2F373883766%2F373883762%2FAGM-84+Mixed+cabin+itinerary.pptx\" looks like a URL. Beautiful Soup is not an HTTP client. You should probably use an HTTP client like requests to get the document behind the URL, and feed that document to Beautiful Soup.\n",
      "  MarkupResemblesLocatorWarning\n",
      "/anaconda/envs/azureml_py36/lib/python3.6/site-packages/bs4/__init__.py:421: MarkupResemblesLocatorWarning: \"https://rndwww.nce.amadeus.net/confluence/pages/editpage.action?pageId=294322446\" looks like a URL. Beautiful Soup is not an HTTP client. You should probably use an HTTP client like requests to get the document behind the URL, and feed that document to Beautiful Soup.\n",
      "  MarkupResemblesLocatorWarning\n",
      "/anaconda/envs/azureml_py36/lib/python3.6/site-packages/bs4/__init__.py:421: MarkupResemblesLocatorWarning: \"https://rndwww.nce.amadeus.net/confluence/display/ALBAEKDEV/JL-PCP-442%3AINV%3AARD+Flex+Pricer+Display+of+pricing+result+on+upsell+page+for+each+PTC+specified\" looks like a URL. Beautiful Soup is not an HTTP client. You should probably use an HTTP client like requests to get the document behind the URL, and feed that document to Beautiful Soup.\n",
      "  MarkupResemblesLocatorWarning\n",
      "/anaconda/envs/azureml_py36/lib/python3.6/site-packages/bs4/__init__.py:421: MarkupResemblesLocatorWarning: \"https://rndwww.nce.amadeus.net/confluence/pages/viewpage.action?pageId=403808137\" looks like a URL. Beautiful Soup is not an HTTP client. You should probably use an HTTP client like requests to get the document behind the URL, and feed that document to Beautiful Soup.\n",
      "  MarkupResemblesLocatorWarning\n",
      "/anaconda/envs/azureml_py36/lib/python3.6/site-packages/bs4/__init__.py:421: MarkupResemblesLocatorWarning: \"http://9m0jkj.axshare.com/#p=scrollspy__pcp_88204_&amp;g=1\" looks like a URL. Beautiful Soup is not an HTTP client. You should probably use an HTTP client like requests to get the document behind the URL, and feed that document to Beautiful Soup.\n",
      "  MarkupResemblesLocatorWarning\n",
      "/anaconda/envs/azureml_py36/lib/python3.6/site-packages/bs4/__init__.py:421: MarkupResemblesLocatorWarning: \"https://rndwww.nce.amadeus.net/confluence/pages/viewpage.action?pageId=452045330\" looks like a URL. Beautiful Soup is not an HTTP client. You should probably use an HTTP client like requests to get the document behind the URL, and feed that document to Beautiful Soup.\n",
      "  MarkupResemblesLocatorWarning\n",
      "/anaconda/envs/azureml_py36/lib/python3.6/site-packages/bs4/__init__.py:421: MarkupResemblesLocatorWarning: \"https://rndwww.nce.amadeus.net/confluence/pages/viewpage.action?pageId=437485811\" looks like a URL. Beautiful Soup is not an HTTP client. You should probably use an HTTP client like requests to get the document behind the URL, and feed that document to Beautiful Soup.\n",
      "  MarkupResemblesLocatorWarning\n",
      "/anaconda/envs/azureml_py36/lib/python3.6/site-packages/bs4/__init__.py:421: MarkupResemblesLocatorWarning: \"https://rndwww.nce.amadeus.net/confluence/display/ARDWSOL/CP+13816807+%3A+Amadeus+must+send+CPF+information+to+ARDWEB\" looks like a URL. Beautiful Soup is not an HTTP client. You should probably use an HTTP client like requests to get the document behind the URL, and feed that document to Beautiful Soup.\n",
      "  MarkupResemblesLocatorWarning\n"
     ]
    },
    {
     "name": "stderr",
     "output_type": "stream",
     "text": [
      "/anaconda/envs/azureml_py36/lib/python3.6/site-packages/bs4/__init__.py:421: MarkupResemblesLocatorWarning: \"https://rndwww.nce.amadeus.net/confluence/display/PDA/ST+89616+BR%3A+TKT%3A+Revalidation+control+for+name+ID+code+and+associated+condition\" looks like a URL. Beautiful Soup is not an HTTP client. You should probably use an HTTP client like requests to get the document behind the URL, and feed that document to Beautiful Soup.\n",
      "  MarkupResemblesLocatorWarning\n",
      "/anaconda/envs/azureml_py36/lib/python3.6/site-packages/bs4/__init__.py:421: MarkupResemblesLocatorWarning: \"https://rndwww.nce.amadeus.net/confluence/display/PDA/ST+89671+CI%3A+TKT%3A+Enhancement+of+Revalidation+Function\" looks like a URL. Beautiful Soup is not an HTTP client. You should probably use an HTTP client like requests to get the document behind the URL, and feed that document to Beautiful Soup.\n",
      "  MarkupResemblesLocatorWarning\n",
      "/anaconda/envs/azureml_py36/lib/python3.6/site-packages/bs4/__init__.py:421: MarkupResemblesLocatorWarning: \"https://rndwww.nce.amadeus.net/confluence/display/MERTPC/Rule+priority\" looks like a URL. Beautiful Soup is not an HTTP client. You should probably use an HTTP client like requests to get the document behind the URL, and feed that document to Beautiful Soup.\n",
      "  MarkupResemblesLocatorWarning\n",
      "/anaconda/envs/azureml_py36/lib/python3.6/site-packages/bs4/__init__.py:421: MarkupResemblesLocatorWarning: \"https://rndwww.nce.amadeus.net/confluence/pages/viewpage.action?pageId=445370053\" looks like a URL. Beautiful Soup is not an HTTP client. You should probably use an HTTP client like requests to get the document behind the URL, and feed that document to Beautiful Soup.\n",
      "  MarkupResemblesLocatorWarning\n",
      "/anaconda/envs/azureml_py36/lib/python3.6/site-packages/bs4/__init__.py:421: MarkupResemblesLocatorWarning: \"https://rndwww.nce.amadeus.net/confluence/display/MERTPC/Ability+to+sell+TPC+without+flight\" looks like a URL. Beautiful Soup is not an HTTP client. You should probably use an HTTP client like requests to get the document behind the URL, and feed that document to Beautiful Soup.\n",
      "  MarkupResemblesLocatorWarning\n",
      "/anaconda/envs/azureml_py36/lib/python3.6/site-packages/bs4/__init__.py:421: MarkupResemblesLocatorWarning: \"https://rndwww.nce.amadeus.net/confluence/display/ANAAHP/Booking+Tool+-+WaitList%2C+ForceSell+and+ForceOverride+workflows\" looks like a URL. Beautiful Soup is not an HTTP client. You should probably use an HTTP client like requests to get the document behind the URL, and feed that document to Beautiful Soup.\n",
      "  MarkupResemblesLocatorWarning\n",
      "/anaconda/envs/azureml_py36/lib/python3.6/site-packages/bs4/__init__.py:421: MarkupResemblesLocatorWarning: \"https://rndwww.nce.amadeus.net/confluence/display/PD/QF+to+EK+top+tier+file+format\" looks like a URL. Beautiful Soup is not an HTTP client. You should probably use an HTTP client like requests to get the document behind the URL, and feed that document to Beautiful Soup.\n",
      "  MarkupResemblesLocatorWarning\n",
      "/anaconda/envs/azureml_py36/lib/python3.6/site-packages/bs4/__init__.py:421: MarkupResemblesLocatorWarning: \"https://rndwww.nce.amadeus.net/confluence/display/DCSpec/CR14924954+v1.1\" looks like a URL. Beautiful Soup is not an HTTP client. You should probably use an HTTP client like requests to get the document behind the URL, and feed that document to Beautiful Soup.\n",
      "  MarkupResemblesLocatorWarning\n",
      "/anaconda/envs/azureml_py36/lib/python3.6/site-packages/bs4/__init__.py:421: MarkupResemblesLocatorWarning: \"https://rndwww.nce.amadeus.net/confluence/display/ARDWS/WN+-+PCP+98663+-+WN%3A1211%3ASecure+the+Special+Traveler+link+in+ARD+web+by+Office+ID\" looks like a URL. Beautiful Soup is not an HTTP client. You should probably use an HTTP client like requests to get the document behind the URL, and feed that document to Beautiful Soup.\n",
      "  MarkupResemblesLocatorWarning\n",
      "/anaconda/envs/azureml_py36/lib/python3.6/site-packages/bs4/__init__.py:421: MarkupResemblesLocatorWarning: \"https://amadeus.app.box.com/folder/48591969288\" looks like a URL. Beautiful Soup is not an HTTP client. You should probably use an HTTP client like requests to get the document behind the URL, and feed that document to Beautiful Soup.\n",
      "  MarkupResemblesLocatorWarning\n",
      "/anaconda/envs/azureml_py36/lib/python3.6/site-packages/bs4/__init__.py:421: MarkupResemblesLocatorWarning: \"https://rndwww.nce.amadeus.net/confluence/display/RDRDMCBTCMCAS/WN1219+ATC+Refund%3A+Passenger+Accepted+with+Bags-+Overall+Sequence+Diagram\" looks like a URL. Beautiful Soup is not an HTTP client. You should probably use an HTTP client like requests to get the document behind the URL, and feed that document to Beautiful Soup.\n",
      "  MarkupResemblesLocatorWarning\n",
      "/anaconda/envs/azureml_py36/lib/python3.6/site-packages/bs4/__init__.py:421: MarkupResemblesLocatorWarning: \"https://rndwww.nce.amadeus.net/confluence/pages/viewpage.action?spaceKey=BIGPNR&amp;title=Reduced+%28agreed%29+scope\" looks like a URL. Beautiful Soup is not an HTTP client. You should probably use an HTTP client like requests to get the document behind the URL, and feed that document to Beautiful Soup.\n",
      "  MarkupResemblesLocatorWarning\n",
      "/anaconda/envs/azureml_py36/lib/python3.6/site-packages/bs4/__init__.py:421: MarkupResemblesLocatorWarning: \"https://amadeus.app.box.com/file/298025336411\" looks like a URL. Beautiful Soup is not an HTTP client. You should probably use an HTTP client like requests to get the document behind the URL, and feed that document to Beautiful Soup.\n",
      "  MarkupResemblesLocatorWarning\n",
      "/anaconda/envs/azureml_py36/lib/python3.6/site-packages/bs4/__init__.py:421: MarkupResemblesLocatorWarning: \"https://rndwww.nce.amadeus.net/confluence/display/RDAIRTDFBTF/Option+1_Workaround+-+TASK+100914+-+Feasibility+Study\" looks like a URL. Beautiful Soup is not an HTTP client. You should probably use an HTTP client like requests to get the document behind the URL, and feed that document to Beautiful Soup.\n",
      "  MarkupResemblesLocatorWarning\n",
      "/anaconda/envs/azureml_py36/lib/python3.6/site-packages/bs4/__init__.py:421: MarkupResemblesLocatorWarning: \"https://rndwww.nce.amadeus.net/confluence/display/ANDCT/AV+NDC+CP+15295635+Send+Fraud+parameters\" looks like a URL. Beautiful Soup is not an HTTP client. You should probably use an HTTP client like requests to get the document behind the URL, and feed that document to Beautiful Soup.\n",
      "  MarkupResemblesLocatorWarning\n",
      "/anaconda/envs/azureml_py36/lib/python3.6/site-packages/bs4/__init__.py:421: MarkupResemblesLocatorWarning: \"https://rndwww.nce.amadeus.net/confluence/display/RDAIRTDFBTF/OOM+for+CPR+15442464+TI%3AAIRLINE%3A+TI+Product+Management%3A+QR%3A+RTTF+-+Frequent+flyer+number%2C+type+and+Airline\" looks like a URL. Beautiful Soup is not an HTTP client. You should probably use an HTTP client like requests to get the document behind the URL, and feed that document to Beautiful Soup.\n",
      "  MarkupResemblesLocatorWarning\n",
      "/anaconda/envs/azureml_py36/lib/python3.6/site-packages/bs4/__init__.py:421: MarkupResemblesLocatorWarning: \"https://rndwww.nce.amadeus.net/confluence/display/RDAIRTDFBTF/OOM+for+CPR+15442544+TI%3AAIRLINE%3A+TI+Product+Management%3A+QR%3A+RTTF+-+Fare+calculation+details+are+missing\" looks like a URL. Beautiful Soup is not an HTTP client. You should probably use an HTTP client like requests to get the document behind the URL, and feed that document to Beautiful Soup.\n",
      "  MarkupResemblesLocatorWarning\n",
      "/anaconda/envs/azureml_py36/lib/python3.6/site-packages/bs4/__init__.py:421: MarkupResemblesLocatorWarning: \"https://rndwww.nce.amadeus.net/confluence/display/RDAIRTDFBTF/OOM+for+CPR+15442645+TI%3AAIRLINE%3A+TI+Product+Management%3A+QR%3A+RTTF+-+Service+fee+is+missing\" looks like a URL. Beautiful Soup is not an HTTP client. You should probably use an HTTP client like requests to get the document behind the URL, and feed that document to Beautiful Soup.\n",
      "  MarkupResemblesLocatorWarning\n",
      "/anaconda/envs/azureml_py36/lib/python3.6/site-packages/bs4/__init__.py:421: MarkupResemblesLocatorWarning: \"https://rndwww.nce.amadeus.net/confluence/display/RDAIRTDFBTF/OOM+for+CPR+15442725+TI%3AAIRLINE%3A+TI+Product+Management%3A+QR%3A+RTTF+-+Net+Refund+details+are+missing+in+REFUNDs\" looks like a URL. Beautiful Soup is not an HTTP client. You should probably use an HTTP client like requests to get the document behind the URL, and feed that document to Beautiful Soup.\n",
      "  MarkupResemblesLocatorWarning\n",
      "/anaconda/envs/azureml_py36/lib/python3.6/site-packages/bs4/__init__.py:421: MarkupResemblesLocatorWarning: \"https://rndwww.nce.amadeus.net/confluence/pages/viewpage.action?pageId=607223858\" looks like a URL. Beautiful Soup is not an HTTP client. You should probably use an HTTP client like requests to get the document behind the URL, and feed that document to Beautiful Soup.\n",
      "  MarkupResemblesLocatorWarning\n"
     ]
    },
    {
     "name": "stderr",
     "output_type": "stream",
     "text": [
      "/anaconda/envs/azureml_py36/lib/python3.6/site-packages/bs4/__init__.py:421: MarkupResemblesLocatorWarning: \"https://rndwww.nce.amadeus.net/confluence/display/MERTPC/PCP%2315491994+-+Hotel+chain+provider+in+the+Teaser+Criteria\" looks like a URL. Beautiful Soup is not an HTTP client. You should probably use an HTTP client like requests to get the document behind the URL, and feed that document to Beautiful Soup.\n",
      "  MarkupResemblesLocatorWarning\n",
      "/anaconda/envs/azureml_py36/lib/python3.6/site-packages/bs4/__init__.py:421: MarkupResemblesLocatorWarning: \"https://rndwww.nce.amadeus.net/confluence/display/RDAIRTDFBTF/Feasibility+Study+-+CP+16075543\" looks like a URL. Beautiful Soup is not an HTTP client. You should probably use an HTTP client like requests to get the document behind the URL, and feed that document to Beautiful Soup.\n",
      "  MarkupResemblesLocatorWarning\n",
      "/anaconda/envs/azureml_py36/lib/python3.6/site-packages/bs4/__init__.py:421: MarkupResemblesLocatorWarning: \"https://rndwww.nce.amadeus.net/confluence/display/ARDWS/WN%3A1363%3ADivorce+-+Pricing+and+Repricing+by+Fare+Family\" looks like a URL. Beautiful Soup is not an HTTP client. You should probably use an HTTP client like requests to get the document behind the URL, and feed that document to Beautiful Soup.\n",
      "  MarkupResemblesLocatorWarning\n",
      "/anaconda/envs/azureml_py36/lib/python3.6/site-packages/bs4/__init__.py:421: MarkupResemblesLocatorWarning: \"https://rndwww.nce.amadeus.net/confluence/display/MERTPC/PCP%2315120295+-+Hotel+Dynamic+Descriptive+Content\" looks like a URL. Beautiful Soup is not an HTTP client. You should probably use an HTTP client like requests to get the document behind the URL, and feed that document to Beautiful Soup.\n",
      "  MarkupResemblesLocatorWarning\n",
      "/anaconda/envs/azureml_py36/lib/python3.6/site-packages/bs4/__init__.py:421: MarkupResemblesLocatorWarning: \"https://rndwww.nce.amadeus.net/confluence/pages/viewpage.action?pageId=781560261\" looks like a URL. Beautiful Soup is not an HTTP client. You should probably use an HTTP client like requests to get the document behind the URL, and feed that document to Beautiful Soup.\n",
      "  MarkupResemblesLocatorWarning\n",
      "/anaconda/envs/azureml_py36/lib/python3.6/site-packages/bs4/__init__.py:421: MarkupResemblesLocatorWarning: \"https://partner.amadeus.com/sites/Whitbread_Impl/Solution%20Workstream/Outbooking%20Solution%20Sizing%20-%2022MAR.pptx\" looks like a URL. Beautiful Soup is not an HTTP client. You should probably use an HTTP client like requests to get the document behind the URL, and feed that document to Beautiful Soup.\n",
      "  MarkupResemblesLocatorWarning\n",
      "/anaconda/envs/azureml_py36/lib/python3.6/site-packages/bs4/__init__.py:421: MarkupResemblesLocatorWarning: \"https://partner.amadeus.com/sites/Whitbread_Impl/Solution%20Workstream/NEXT_Groups_MultiSegmentSolutionSizing.pptx\" looks like a URL. Beautiful Soup is not an HTTP client. You should probably use an HTTP client like requests to get the document behind the URL, and feed that document to Beautiful Soup.\n",
      "  MarkupResemblesLocatorWarning\n",
      "/anaconda/envs/azureml_py36/lib/python3.6/site-packages/bs4/__init__.py:421: MarkupResemblesLocatorWarning: \"https://rndwww.nce.amadeus.net/confluence/display/RDAIRTDFBTF/16609482+-+NDC%3A+Improve+ISOC+field+in+the+header+line+of+CTR+RET-HOT+files+to+be+customizable+per+ailine+and+file+format\" looks like a URL. Beautiful Soup is not an HTTP client. You should probably use an HTTP client like requests to get the document behind the URL, and feed that document to Beautiful Soup.\n",
      "  MarkupResemblesLocatorWarning\n",
      "/anaconda/envs/azureml_py36/lib/python3.6/site-packages/bs4/__init__.py:421: MarkupResemblesLocatorWarning: \"https://rndwww.nce.amadeus.net/confluence/display/SWACC/WN1464+-+Gap+analysis\" looks like a URL. Beautiful Soup is not an HTTP client. You should probably use an HTTP client like requests to get the document behind the URL, and feed that document to Beautiful Soup.\n",
      "  MarkupResemblesLocatorWarning\n",
      "/anaconda/envs/azureml_py36/lib/python3.6/site-packages/bs4/__init__.py:421: MarkupResemblesLocatorWarning: \"https://share.amadeus.com/sites/Impacted_Systems/AirlineDocsandPages/New%20Branded%20Fares%20CR%2016730431.docx\" looks like a URL. Beautiful Soup is not an HTTP client. You should probably use an HTTP client like requests to get the document behind the URL, and feed that document to Beautiful Soup.\n",
      "  MarkupResemblesLocatorWarning\n",
      "/anaconda/envs/azureml_py36/lib/python3.6/site-packages/bs4/__init__.py:421: MarkupResemblesLocatorWarning: \"https://rndwww.nce.amadeus.net/confluence/pages/viewpage.action?spaceKey=SWACC&amp;title=WN1482%3AGDS+-+Trigger+Customer+Cancel+Notification+based+on+Segment\" looks like a URL. Beautiful Soup is not an HTTP client. You should probably use an HTTP client like requests to get the document behind the URL, and feed that document to Beautiful Soup.\n",
      "  MarkupResemblesLocatorWarning\n",
      "/anaconda/envs/azureml_py36/lib/python3.6/site-packages/bs4/__init__.py:421: MarkupResemblesLocatorWarning: \"https://partner.amadeus.com/pmo/IHG/ProjectDocuments/IHG%20-%20Amadeus%20Change%20Order%202019-Rally-ACSP%20v02.docx\" looks like a URL. Beautiful Soup is not an HTTP client. You should probably use an HTTP client like requests to get the document behind the URL, and feed that document to Beautiful Soup.\n",
      "  MarkupResemblesLocatorWarning\n",
      "/anaconda/envs/azureml_py36/lib/python3.6/site-packages/bs4/__init__.py:333: MarkupResemblesLocatorWarning: \"..\" looks like a filename, not markup. You should probably open this file and pass the filehandle into Beautiful Soup.\n",
      "  MarkupResemblesLocatorWarning\n",
      "/anaconda/envs/azureml_py36/lib/python3.6/site-packages/bs4/__init__.py:421: MarkupResemblesLocatorWarning: \"https://rndwww.nce.amadeus.net/confluence/x/XhxITQ\" looks like a URL. Beautiful Soup is not an HTTP client. You should probably use an HTTP client like requests to get the document behind the URL, and feed that document to Beautiful Soup.\n",
      "  MarkupResemblesLocatorWarning\n",
      "/anaconda/envs/azureml_py36/lib/python3.6/site-packages/bs4/__init__.py:421: MarkupResemblesLocatorWarning: \"https://ahppartners.amaext.tools/confluence/display/ICC/CR1278+-+136659+-+BESPOKE%3A+QDR+Shopping+Increase\" looks like a URL. Beautiful Soup is not an HTTP client. You should probably use an HTTP client like requests to get the document behind the URL, and feed that document to Beautiful Soup.\n",
      "  MarkupResemblesLocatorWarning\n",
      "/anaconda/envs/azureml_py36/lib/python3.6/site-packages/bs4/__init__.py:421: MarkupResemblesLocatorWarning: \"https://rndwww.nce.amadeus.net/confluence/x/WR1ITQ\" looks like a URL. Beautiful Soup is not an HTTP client. You should probably use an HTTP client like requests to get the document behind the URL, and feed that document to Beautiful Soup.\n",
      "  MarkupResemblesLocatorWarning\n",
      "/anaconda/envs/azureml_py36/lib/python3.6/site-packages/bs4/__init__.py:421: MarkupResemblesLocatorWarning: \"https://rndwww.nce.amadeus.net/confluence/display/SCHED/CP+19222324+AFKLDC043+-+Variations+to+schedule+publication\" looks like a URL. Beautiful Soup is not an HTTP client. You should probably use an HTTP client like requests to get the document behind the URL, and feed that document to Beautiful Soup.\n",
      "  MarkupResemblesLocatorWarning\n",
      "/anaconda/envs/azureml_py36/lib/python3.6/site-packages/bs4/__init__.py:421: MarkupResemblesLocatorWarning: \"https://rndwww.nce.amadeus.net/confluence/display/RDAIRTDFBTF/82152+-+NIT+printed+and+reported\" looks like a URL. Beautiful Soup is not an HTTP client. You should probably use an HTTP client like requests to get the document behind the URL, and feed that document to Beautiful Soup.\n",
      "  MarkupResemblesLocatorWarning\n",
      "/anaconda/envs/azureml_py36/lib/python3.6/site-packages/bs4/__init__.py:421: MarkupResemblesLocatorWarning: \"https://rndwww.nce.amadeus.net/confluence/display/ANAAHP/PCP+82572\" looks like a URL. Beautiful Soup is not an HTTP client. You should probably use an HTTP client like requests to get the document behind the URL, and feed that document to Beautiful Soup.\n",
      "  MarkupResemblesLocatorWarning\n",
      "/anaconda/envs/azureml_py36/lib/python3.6/site-packages/bs4/__init__.py:421: MarkupResemblesLocatorWarning: \"https://rndwww.nce.amadeus.net/confluence/pages/viewpage.action?pageId=234554162\" looks like a URL. Beautiful Soup is not an HTTP client. You should probably use an HTTP client like requests to get the document behind the URL, and feed that document to Beautiful Soup.\n",
      "  MarkupResemblesLocatorWarning\n"
     ]
    },
    {
     "name": "stderr",
     "output_type": "stream",
     "text": [
      "/anaconda/envs/azureml_py36/lib/python3.6/site-packages/bs4/__init__.py:421: MarkupResemblesLocatorWarning: \"https://rndwww.nce.amadeus.net/confluence/display/RDAIRTDFBTF/13484525%3A+Feasibility+study\" looks like a URL. Beautiful Soup is not an HTTP client. You should probably use an HTTP client like requests to get the document behind the URL, and feed that document to Beautiful Soup.\n",
      "  MarkupResemblesLocatorWarning\n",
      "/anaconda/envs/azureml_py36/lib/python3.6/site-packages/bs4/__init__.py:421: MarkupResemblesLocatorWarning: \"https://rndwww.nce.amadeus.net/confluence/display/ARDWSOL/SWA%3A0754%3AARD%3AAdd+SGA+Banner+in+ARD+shopping+and+availability+screens\" looks like a URL. Beautiful Soup is not an HTTP client. You should probably use an HTTP client like requests to get the document behind the URL, and feed that document to Beautiful Soup.\n",
      "  MarkupResemblesLocatorWarning\n",
      "/anaconda/envs/azureml_py36/lib/python3.6/site-packages/bs4/__init__.py:421: MarkupResemblesLocatorWarning: \"https://rndwww.nce.amadeus.net/confluence/display/ANAAHP/PCP+88202\" looks like a URL. Beautiful Soup is not an HTTP client. You should probably use an HTTP client like requests to get the document behind the URL, and feed that document to Beautiful Soup.\n",
      "  MarkupResemblesLocatorWarning\n",
      "/anaconda/envs/azureml_py36/lib/python3.6/site-packages/bs4/__init__.py:421: MarkupResemblesLocatorWarning: \"https://rndwww.nce.amadeus.net/agile/browse/OUIII-2518\" looks like a URL. Beautiful Soup is not an HTTP client. You should probably use an HTTP client like requests to get the document behind the URL, and feed that document to Beautiful Soup.\n",
      "  MarkupResemblesLocatorWarning\n",
      "/anaconda/envs/azureml_py36/lib/python3.6/site-packages/bs4/__init__.py:421: MarkupResemblesLocatorWarning: \"https://rndwww.nce.amadeus.net/confluence/display/RDAIRTDFBTF/14310535+-+My+feasibility+study\" looks like a URL. Beautiful Soup is not an HTTP client. You should probably use an HTTP client like requests to get the document behind the URL, and feed that document to Beautiful Soup.\n",
      "  MarkupResemblesLocatorWarning\n",
      "/anaconda/envs/azureml_py36/lib/python3.6/site-packages/bs4/__init__.py:421: MarkupResemblesLocatorWarning: \"https://rndwww.nce.amadeus.net/confluence/display/ANAAHP/PCP+98273\" looks like a URL. Beautiful Soup is not an HTTP client. You should probably use an HTTP client like requests to get the document behind the URL, and feed that document to Beautiful Soup.\n",
      "  MarkupResemblesLocatorWarning\n",
      "/anaconda/envs/azureml_py36/lib/python3.6/site-packages/bs4/__init__.py:421: MarkupResemblesLocatorWarning: \"https://rndwww.nce.amadeus.net/confluence/pages/viewpage.action?pageId=692626260\" looks like a URL. Beautiful Soup is not an HTTP client. You should probably use an HTTP client like requests to get the document behind the URL, and feed that document to Beautiful Soup.\n",
      "  MarkupResemblesLocatorWarning\n",
      "/anaconda/envs/azureml_py36/lib/python3.6/site-packages/bs4/__init__.py:421: MarkupResemblesLocatorWarning: \"https://rndwww.nce.amadeus.net/confluence/display/ANAAHP/Training+Environment+Visual+Identification\" looks like a URL. Beautiful Soup is not an HTTP client. You should probably use an HTTP client like requests to get the document behind the URL, and feed that document to Beautiful Soup.\n",
      "  MarkupResemblesLocatorWarning\n",
      "/anaconda/envs/azureml_py36/lib/python3.6/site-packages/bs4/__init__.py:421: MarkupResemblesLocatorWarning: \"https://rndwww.nce.amadeus.net/confluence/display/ANAAHP/Reservations+injector\" looks like a URL. Beautiful Soup is not an HTTP client. You should probably use an HTTP client like requests to get the document behind the URL, and feed that document to Beautiful Soup.\n",
      "  MarkupResemblesLocatorWarning\n",
      "/anaconda/envs/azureml_py36/lib/python3.6/site-packages/bs4/__init__.py:421: MarkupResemblesLocatorWarning: \"https://rndwww.nce.amadeus.net/confluence/display/ANAAHP/Training+env+external+connectivity\" looks like a URL. Beautiful Soup is not an HTTP client. You should probably use an HTTP client like requests to get the document behind the URL, and feed that document to Beautiful Soup.\n",
      "  MarkupResemblesLocatorWarning\n",
      "/anaconda/envs/azureml_py36/lib/python3.6/site-packages/bs4/__init__.py:421: MarkupResemblesLocatorWarning: \"https://rndwww.nce.amadeus.net/confluence/display/RDAIRTDFBTF/CP15284048+-+A3%3A+TKT%3A+TCM+-+Interline+-+HCSP+rule+-+EMD+document+-+Allow+FCS+from+O+to+E\" looks like a URL. Beautiful Soup is not an HTTP client. You should probably use an HTTP client like requests to get the document behind the URL, and feed that document to Beautiful Soup.\n",
      "  MarkupResemblesLocatorWarning\n",
      "/anaconda/envs/azureml_py36/lib/python3.6/site-packages/bs4/__init__.py:421: MarkupResemblesLocatorWarning: \"https://rndwww.nce.amadeus.net/confluence/pages/viewpage.action?pageId=570170259\" looks like a URL. Beautiful Soup is not an HTTP client. You should probably use an HTTP client like requests to get the document behind the URL, and feed that document to Beautiful Soup.\n",
      "  MarkupResemblesLocatorWarning\n",
      "/anaconda/envs/azureml_py36/lib/python3.6/site-packages/bs4/__init__.py:421: MarkupResemblesLocatorWarning: \"https://rndwww.nce.amadeus.net/confluence/pages/viewpage.action?pageId=570518618\" looks like a URL. Beautiful Soup is not an HTTP client. You should probably use an HTTP client like requests to get the document behind the URL, and feed that document to Beautiful Soup.\n",
      "  MarkupResemblesLocatorWarning\n",
      "/anaconda/envs/azureml_py36/lib/python3.6/site-packages/bs4/__init__.py:421: MarkupResemblesLocatorWarning: \"https://rndwww.nce.amadeus.net/confluence/display/RDAIRTDFBTF/OOM+for+CPR+15442782+TI%3AAIRLINE%3A+TI+Product+Management%3A+QR%3A+RTTF+-+Feed+daily+Statistics\" looks like a URL. Beautiful Soup is not an HTTP client. You should probably use an HTTP client like requests to get the document behind the URL, and feed that document to Beautiful Soup.\n",
      "  MarkupResemblesLocatorWarning\n",
      "/anaconda/envs/azureml_py36/lib/python3.6/site-packages/bs4/__init__.py:421: MarkupResemblesLocatorWarning: \"https://rndwww.nce.amadeus.net/confluence/display/DISTRIBE/LX-DIS013+-+Avoid+OPR+optimization+on+feeder+flights+from+specific+airlines\" looks like a URL. Beautiful Soup is not an HTTP client. You should probably use an HTTP client like requests to get the document behind the URL, and feed that document to Beautiful Soup.\n",
      "  MarkupResemblesLocatorWarning\n",
      "/anaconda/envs/azureml_py36/lib/python3.6/site-packages/bs4/__init__.py:421: MarkupResemblesLocatorWarning: \"https://rndwww.nce.amadeus.net/confluence/pages/viewpage.action?pageId=655725963\" looks like a URL. Beautiful Soup is not an HTTP client. You should probably use an HTTP client like requests to get the document behind the URL, and feed that document to Beautiful Soup.\n",
      "  MarkupResemblesLocatorWarning\n",
      "/anaconda/envs/azureml_py36/lib/python3.6/site-packages/bs4/__init__.py:421: MarkupResemblesLocatorWarning: \"https://rndwww.nce.amadeus.net/confluence/display/RDAIRTDFBTF/15499135%3A+feasibility+study\" looks like a URL. Beautiful Soup is not an HTTP client. You should probably use an HTTP client like requests to get the document behind the URL, and feed that document to Beautiful Soup.\n",
      "  MarkupResemblesLocatorWarning\n",
      "/anaconda/envs/azureml_py36/lib/python3.6/site-packages/bs4/__init__.py:421: MarkupResemblesLocatorWarning: \"https://rndwww.nce.amadeus.net/confluence/pages/viewpage.action?pageId=691945168\" looks like a URL. Beautiful Soup is not an HTTP client. You should probably use an HTTP client like requests to get the document behind the URL, and feed that document to Beautiful Soup.\n",
      "  MarkupResemblesLocatorWarning\n",
      "/anaconda/envs/azureml_py36/lib/python3.6/site-packages/bs4/__init__.py:421: MarkupResemblesLocatorWarning: \"https://rndwww.nce.amadeus.net/confluence/display/RDAIRTDFBTF/15878180%3A+AY%3A+TKT%3A+Migrate+AY+own+ticket+sales+from+RET+to+HOT\" looks like a URL. Beautiful Soup is not an HTTP client. You should probably use an HTTP client like requests to get the document behind the URL, and feed that document to Beautiful Soup.\n",
      "  MarkupResemblesLocatorWarning\n",
      "/anaconda/envs/azureml_py36/lib/python3.6/site-packages/bs4/__init__.py:421: MarkupResemblesLocatorWarning: \"https://rndwww.nce.amadeus.net/confluence/display/HRM/PCP+104826+-+FIG%3A+Meals+product+setting+in+V2I1\" looks like a URL. Beautiful Soup is not an HTTP client. You should probably use an HTTP client like requests to get the document behind the URL, and feed that document to Beautiful Soup.\n",
      "  MarkupResemblesLocatorWarning\n"
     ]
    },
    {
     "name": "stderr",
     "output_type": "stream",
     "text": [
      "/anaconda/envs/azureml_py36/lib/python3.6/site-packages/bs4/__init__.py:421: MarkupResemblesLocatorWarning: \"https://rndwww.nce.amadeus.net/confluence/display/HITREPORTING/106045+%5BCLARIFIED%5D+-+Migration+Status+Report\" looks like a URL. Beautiful Soup is not an HTTP client. You should probably use an HTTP client like requests to get the document behind the URL, and feed that document to Beautiful Soup.\n",
      "  MarkupResemblesLocatorWarning\n",
      "/anaconda/envs/azureml_py36/lib/python3.6/site-packages/bs4/__init__.py:421: MarkupResemblesLocatorWarning: \"https://rndwww.nce.amadeus.net/confluence/pages/viewpage.action?pageId=913927071\" looks like a URL. Beautiful Soup is not an HTTP client. You should probably use an HTTP client like requests to get the document behind the URL, and feed that document to Beautiful Soup.\n",
      "  MarkupResemblesLocatorWarning\n",
      "/anaconda/envs/azureml_py36/lib/python3.6/site-packages/bs4/__init__.py:421: MarkupResemblesLocatorWarning: \"https://rndwww.nce.amadeus.net/confluence/display/MERTPC/PCP%2316211078+-++Insurance+Price+Adjustment+-+AIG+price+check\" looks like a URL. Beautiful Soup is not an HTTP client. You should probably use an HTTP client like requests to get the document behind the URL, and feed that document to Beautiful Soup.\n",
      "  MarkupResemblesLocatorWarning\n",
      "/anaconda/envs/azureml_py36/lib/python3.6/site-packages/bs4/__init__.py:421: MarkupResemblesLocatorWarning: \"https://rndwww.nce.amadeus.net/confluence/display/MERTPC/PCP%2316542434+-+Insurance+Price+Adjustment+-+AIG+price+calculation\" looks like a URL. Beautiful Soup is not an HTTP client. You should probably use an HTTP client like requests to get the document behind the URL, and feed that document to Beautiful Soup.\n",
      "  MarkupResemblesLocatorWarning\n",
      "/anaconda/envs/azureml_py36/lib/python3.6/site-packages/bs4/__init__.py:421: MarkupResemblesLocatorWarning: \"https://rndwww.nce.amadeus.net/confluence/display/RDAIRTDFBTF/CP+16998466%3A+9B%3A+Lift+file+-+addition+of+pax+type\" looks like a URL. Beautiful Soup is not an HTTP client. You should probably use an HTTP client like requests to get the document behind the URL, and feed that document to Beautiful Soup.\n",
      "  MarkupResemblesLocatorWarning\n",
      "/anaconda/envs/azureml_py36/lib/python3.6/site-packages/bs4/__init__.py:421: MarkupResemblesLocatorWarning: \"https://rndwww.nce.amadeus.net/confluence/pages/viewpage.action?pageId=224038942\" looks like a URL. Beautiful Soup is not an HTTP client. You should probably use an HTTP client like requests to get the document behind the URL, and feed that document to Beautiful Soup.\n",
      "  MarkupResemblesLocatorWarning\n",
      "/anaconda/envs/azureml_py36/lib/python3.6/site-packages/bs4/__init__.py:421: MarkupResemblesLocatorWarning: \"https://rndwww.nce.amadeus.net/confluence/pages/viewpage.action?pageId=1010262197\" looks like a URL. Beautiful Soup is not an HTTP client. You should probably use an HTTP client like requests to get the document behind the URL, and feed that document to Beautiful Soup.\n",
      "  MarkupResemblesLocatorWarning\n",
      "/anaconda/envs/azureml_py36/lib/python3.6/site-packages/bs4/__init__.py:421: MarkupResemblesLocatorWarning: \"https://rndwww.nce.amadeus.net/confluence/pages/viewpage.action?pageId=1012870897\" looks like a URL. Beautiful Soup is not an HTTP client. You should probably use an HTTP client like requests to get the document behind the URL, and feed that document to Beautiful Soup.\n",
      "  MarkupResemblesLocatorWarning\n",
      "/anaconda/envs/azureml_py36/lib/python3.6/site-packages/bs4/__init__.py:421: MarkupResemblesLocatorWarning: \"https://rndwww.nce.amadeus.net/confluence/display/RDAIRTDFBTF/17570316%3A+QF%3A+OTHER%3A+Implement+New+Payment+Gateway\" looks like a URL. Beautiful Soup is not an HTTP client. You should probably use an HTTP client like requests to get the document behind the URL, and feed that document to Beautiful Soup.\n",
      "  MarkupResemblesLocatorWarning\n",
      "/anaconda/envs/azureml_py36/lib/python3.6/site-packages/bs4/__init__.py:333: MarkupResemblesLocatorWarning: \"/\" looks like a filename, not markup. You should probably open this file and pass the filehandle into Beautiful Soup.\n",
      "  MarkupResemblesLocatorWarning\n"
     ]
    }
   ],
   "source": [
    "cname=list(df.columns)\n",
    "for i in cname:\n",
    "    df[i]=df[i].apply(clean_text)"
   ]
  },
  {
   "cell_type": "code",
   "execution_count": 7,
   "metadata": {
    "gather": {
     "logged": 1602681568799
    },
    "jupyter": {
     "outputs_hidden": false,
     "source_hidden": false
    },
    "nteract": {
     "transient": {
      "deleting": false
     }
    }
   },
   "outputs": [],
   "source": [
    "corpus_df = df['Title']+ \" \" + df['Domain'] + \" \" + df['Area'] + \" \" + df['BudgetLine'] + \" \" + df['ProjectName'] + \" \" + df['ProjectDescription'] +\" \"+ df['Region'] + \" \" +df['RequirementDescription'] + df['SolutionSummary'] +' '+df['SolutionDescription']+' '+df['SolutionAssumption']+' '+df['ProductName']+' '+df['RecommendedPricing']"
   ]
  },
  {
   "cell_type": "code",
   "execution_count": 8,
   "metadata": {
    "gather": {
     "logged": 1602681569112
    },
    "jupyter": {
     "outputs_hidden": false,
     "source_hidden": false
    },
    "nteract": {
     "transient": {
      "deleting": false
     }
    }
   },
   "outputs": [],
   "source": [
    "corpus_df = corpus_df.str.split(' ')"
   ]
  },
  {
   "cell_type": "code",
   "execution_count": 9,
   "metadata": {
    "gather": {
     "logged": 1602681569431
    },
    "jupyter": {
     "outputs_hidden": false,
     "source_hidden": false
    },
    "nteract": {
     "transient": {
      "deleting": false
     }
    }
   },
   "outputs": [
    {
     "data": {
      "text/plain": [
       "0        [time, spent, reporting, airline, bespoke, cp,...\n",
       "1        [time, spent, reporting, airline, bespoke, cp,...\n",
       "2        [svecom, cs, atc, invol, online, dho, ecom, na...\n",
       "3        [afkl, inv, group, block, seating, inv, seat, ...\n",
       "4        [af, kl, inv, group, zone, inv, seat, regional...\n",
       "                               ...                        \n",
       "11108    [acpcpdcsprint, nd, atb, receipt, fop, debit, ...\n",
       "11109    [ozwcicredit, card, payment, wci, flow, dcs, n...\n",
       "11110    [brotherbr, ftp, accounts, password, change, t...\n",
       "11111    [namesizetypemodifiedattached, cp___branded_fa...\n",
       "11112    [dcs_actcm, activation, sn, crew, printing, ba...\n",
       "Length: 11113, dtype: object"
      ]
     },
     "execution_count": 9,
     "metadata": {},
     "output_type": "execute_result"
    }
   ],
   "source": [
    "corpus_df"
   ]
  },
  {
   "cell_type": "code",
   "execution_count": 10,
   "metadata": {
    "gather": {
     "logged": 1602681569718
    },
    "jupyter": {
     "outputs_hidden": false,
     "source_hidden": false
    },
    "nteract": {
     "transient": {
      "deleting": false
     }
    }
   },
   "outputs": [
    {
     "data": {
      "text/plain": [
       "'time spent reporting airline bespoke cp detailed assessment srb gui airline private development  amadeus nan time spent reporting airline bespoke cp detailed assessmenttime spent reporting airline bespoke cp detailed assessment task automatically created importing cr winaproach time spent reporting airline bespoke cp detailed assessment altea time rptg assessment time spent reporting airline bespoke cp oom assessment srb oui airline private development  amadeus nan time spent reporting airline b'"
      ]
     },
     "execution_count": 10,
     "metadata": {},
     "output_type": "execute_result"
    }
   ],
   "source": [
    "cleaned = []\n",
    "\n",
    "for text in corpus_df:\n",
    "    text = [x.strip(string.punctuation) for x in text]\n",
    "    cleaned.append(text)\n",
    "\n",
    "cleaned[0]\n",
    "\n",
    "text_spam = [\" \".join(text) for text in cleaned]\n",
    "final_text = \" \".join(text_spam)\n",
    "final_text[:500]"
   ]
  },
  {
   "cell_type": "code",
   "execution_count": 11,
   "metadata": {
    "gather": {
     "logged": 1602681578416
    },
    "jupyter": {
     "outputs_hidden": false,
     "source_hidden": false
    },
    "nteract": {
     "transient": {
      "deleting": false
     }
    }
   },
   "outputs": [],
   "source": [
    "tok_final_text=word_tokenize(final_text)"
   ]
  },
  {
   "cell_type": "code",
   "execution_count": 12,
   "metadata": {
    "gather": {
     "logged": 1602681578886
    },
    "jupyter": {
     "outputs_hidden": false,
     "source_hidden": false
    },
    "nteract": {
     "transient": {
      "deleting": false
     }
    }
   },
   "outputs": [
    {
     "data": {
      "text/plain": [
       "('nan', 19725)"
      ]
     },
     "execution_count": 12,
     "metadata": {},
     "output_type": "execute_result"
    }
   ],
   "source": [
    "from collections import Counter\n",
    "word_counts = Counter(tok_final_text)\n",
    "words = list(word_counts.most_common(5000))\n",
    "words.pop(0)"
   ]
  },
  {
   "cell_type": "code",
   "execution_count": 13,
   "metadata": {
    "gather": {
     "logged": 1602681579198
    },
    "jupyter": {
     "outputs_hidden": false,
     "source_hidden": false
    },
    "nteract": {
     "transient": {
      "deleting": false
     }
    }
   },
   "outputs": [
    {
     "data": {
      "text/plain": [
       "[('sold', 18811),\n",
       " ('added', 15656),\n",
       " ('new', 11728),\n",
       " ('airlines', 11027),\n",
       " ('cp', 11021),\n",
       " ('fee', 10472),\n",
       " ('fees', 10027),\n",
       " ('customer', 9845),\n",
       " ('requesting', 9799),\n",
       " ('airline', 9711),\n",
       " ('change', 7881),\n",
       " ('dcs', 7273),\n",
       " ('development', 6990),\n",
       " ('flight', 6875),\n",
       " ('amadeus', 6277),\n",
       " ('solution', 6261),\n",
       " ('created', 5987),\n",
       " ('code', 5974),\n",
       " ('task', 5519),\n",
       " ('automatically', 5214),\n",
       " ('pnr', 5153),\n",
       " ('document', 4886),\n",
       " ('apac', 4764),\n",
       " ('altea', 4607),\n",
       " ('importing', 4526),\n",
       " ('data', 4393),\n",
       " ('number', 4257),\n",
       " ('n', 4220),\n",
       " ('time', 4197),\n",
       " ('cm', 4152),\n",
       " ('information', 4140),\n",
       " ('would', 4061),\n",
       " ('res', 3988),\n",
       " ('update', 3752),\n",
       " ('display', 3701),\n",
       " ('one', 3673),\n",
       " ('addedusage', 3641),\n",
       " ('airlinesmaintenance', 3596),\n",
       " ('date', 3582),\n",
       " ('fare', 3569),\n",
       " ('seat', 3475),\n",
       " ('use', 3469),\n",
       " ('process', 3450),\n",
       " ('air', 3433),\n",
       " ('need', 3424),\n",
       " ('rule', 3410),\n",
       " ('boarding', 3392),\n",
       " ('customerhow', 3380),\n",
       " ('check', 3357),\n",
       " ('add', 3346),\n",
       " ('private', 3220),\n",
       " ('scope', 3194),\n",
       " ('requirement', 3190),\n",
       " ('web', 3160),\n",
       " ('based', 3084),\n",
       " ('per', 3052),\n",
       " ('booking', 3017),\n",
       " ('support', 3015),\n",
       " ('passenger', 2983),\n",
       " ('inv', 2975),\n",
       " ('case', 2963),\n",
       " ('user', 2953),\n",
       " ('service', 2883),\n",
       " ('flow', 2877),\n",
       " ('implementation', 2863),\n",
       " ('request', 2847),\n",
       " ('status', 2761),\n",
       " ('list', 2757),\n",
       " ('name', 2752),\n",
       " ('ssr', 2740),\n",
       " ('tkt', 2738),\n",
       " ('baggage', 2719),\n",
       " ('message', 2695),\n",
       " ('group', 2688),\n",
       " ('available', 2671),\n",
       " ('business', 2668),\n",
       " ('done', 2633),\n",
       " ('used', 2599),\n",
       " ('flights', 2584),\n",
       " ('nousage', 2500),\n",
       " ('current', 2483),\n",
       " ('system', 2425),\n",
       " ('part', 2417),\n",
       " ('able', 2361),\n",
       " ('changes', 2347),\n",
       " ('like', 2339),\n",
       " ('existing', 2334),\n",
       " ('payment', 2296),\n",
       " ('pax', 2274),\n",
       " ('please', 2269),\n",
       " ('services', 2247),\n",
       " ('file', 2244),\n",
       " ('via', 2243),\n",
       " ('type', 2235),\n",
       " ('word', 2210),\n",
       " ('ticket', 2196),\n",
       " ('following', 2194),\n",
       " ('applicable', 2194),\n",
       " ('bag', 2185),\n",
       " ('refund', 2181),\n",
       " ('using', 2166),\n",
       " ('already', 2148),\n",
       " ('option', 2137),\n",
       " ('required', 2117),\n",
       " ('product', 2117),\n",
       " ('specific', 2112),\n",
       " ('set', 2100),\n",
       " ('sent', 2089),\n",
       " ('community', 2088),\n",
       " ('sq', 2081),\n",
       " ('pass', 2060),\n",
       " ('segment', 2060),\n",
       " ('emd', 2032),\n",
       " ('sizing', 2029),\n",
       " ('also', 2016),\n",
       " ('agent', 2012),\n",
       " ('must', 2010),\n",
       " ('level', 2001),\n",
       " ('description', 2001),\n",
       " ('cee', 2000),\n",
       " ('screen', 1997),\n",
       " ('format', 1982),\n",
       " ('allow', 1975),\n",
       " ('found', 1953),\n",
       " ('details', 1947),\n",
       " ('send', 1922),\n",
       " ('fm', 1917),\n",
       " ('template', 1916),\n",
       " ('text', 1915),\n",
       " ('americas', 1889),\n",
       " ('may', 1883),\n",
       " ('order', 1883),\n",
       " ('ac', 1869),\n",
       " ('account', 1867),\n",
       " ('bespoke', 1860),\n",
       " ('cost', 1850),\n",
       " ('oom', 1848),\n",
       " ('rate', 1843),\n",
       " ('sponsored', 1824),\n",
       " ('needs', 1823),\n",
       " ('displayed', 1822),\n",
       " ('maintenance', 1818),\n",
       " ('print', 1807),\n",
       " ('wn', 1804),\n",
       " ('lh', 1781),\n",
       " ('first', 1779),\n",
       " ('ssci', 1775),\n",
       " ('without', 1754),\n",
       " ('checkin', 1735),\n",
       " ('value', 1734),\n",
       " ('field', 1733),\n",
       " ('source', 1732),\n",
       " ('logic', 1723),\n",
       " ('page', 1717),\n",
       " ('load', 1711),\n",
       " ('functionality', 1698),\n",
       " ('apx', 1684),\n",
       " ('class', 1677),\n",
       " ('email', 1660),\n",
       " ('pay', 1646),\n",
       " ('manager', 1646),\n",
       " ('pricing', 1645),\n",
       " ('passengers', 1618),\n",
       " ('original', 1605),\n",
       " ('crs', 1603),\n",
       " ('side', 1590),\n",
       " ('updated', 1589),\n",
       " ('currently', 1583),\n",
       " ('impact', 1575),\n",
       " ('jal', 1571),\n",
       " ('jfe', 1568),\n",
       " ('hotel', 1565),\n",
       " ('provide', 1563),\n",
       " ('additional', 1562),\n",
       " ('carrier', 1544),\n",
       " ('cr', 1542),\n",
       " ('access', 1540),\n",
       " ('rules', 1523),\n",
       " ('create', 1509),\n",
       " ('feed', 1509),\n",
       " ('include', 1502),\n",
       " ('handling', 1498),\n",
       " ('cabin', 1490),\n",
       " ('see', 1485),\n",
       " ('itr', 1462),\n",
       " ('sk', 1436),\n",
       " ('activation', 1434),\n",
       " ('amount', 1423),\n",
       " ('id', 1413),\n",
       " ('want', 1412),\n",
       " ('provided', 1412),\n",
       " ('card', 1412),\n",
       " ('amaintenance', 1406),\n",
       " ('defined', 1391),\n",
       " ('different', 1391),\n",
       " ('ui', 1390),\n",
       " ('report', 1385),\n",
       " ('error', 1372),\n",
       " ('jl', 1364),\n",
       " ('pcp', 1355),\n",
       " ('platform', 1354),\n",
       " ('tax', 1354),\n",
       " ('availability', 1350),\n",
       " ('hit', 1340),\n",
       " ('link', 1327),\n",
       " ('mobile', 1326),\n",
       " ('nwe', 1315),\n",
       " ('indicator', 1314),\n",
       " ('search', 1304),\n",
       " ('call', 1302),\n",
       " ('attached', 1293),\n",
       " ('weight', 1286),\n",
       " ('qf', 1282),\n",
       " ('ard', 1277),\n",
       " ('atc', 1268),\n",
       " ('management', 1265),\n",
       " ('revenue', 1251),\n",
       " ('year', 1249),\n",
       " ('possible', 1240),\n",
       " ('sites', 1238),\n",
       " ('departure', 1232),\n",
       " ('standard', 1229),\n",
       " ('today', 1224),\n",
       " ('within', 1212),\n",
       " ('customers', 1207),\n",
       " ('version', 1205),\n",
       " ('fop', 1205),\n",
       " ('canada', 1205),\n",
       " ('apply', 1202),\n",
       " ('atb', 1202),\n",
       " ('pnrs', 1201),\n",
       " ('office', 1194),\n",
       " ('requested', 1193),\n",
       " ('reservation', 1189),\n",
       " ('b', 1188),\n",
       " ('needed', 1178),\n",
       " ('find', 1177),\n",
       " ('southwest', 1169),\n",
       " ('element', 1169),\n",
       " ('upgrade', 1166),\n",
       " ('v', 1160),\n",
       " ('europe', 1158),\n",
       " ('kiosk', 1154),\n",
       " ('full', 1143),\n",
       " ('afkl', 1125),\n",
       " ('table', 1117),\n",
       " ('requirements', 1114),\n",
       " ('dcscm', 1101),\n",
       " ('price', 1100),\n",
       " ('figaro', 1100),\n",
       " ('end', 1096),\n",
       " ('creation', 1081),\n",
       " ('ssp', 1077),\n",
       " ('notification', 1074),\n",
       " ('forum', 1072),\n",
       " ('ihg', 1066),\n",
       " ('complete', 1066),\n",
       " ('period', 1057),\n",
       " ('ecom', 1054),\n",
       " ('acceptance', 1054),\n",
       " ('airport', 1046),\n",
       " ('tier', 1043),\n",
       " ('reuse', 1042),\n",
       " ('transfer', 1041),\n",
       " ('eco', 1040),\n",
       " ('inventory', 1039),\n",
       " ('profile', 1039),\n",
       " ('included', 1038),\n",
       " ('usage', 1028),\n",
       " ('website', 1027),\n",
       " ('implement', 1021),\n",
       " ('itinerary', 1020),\n",
       " ('airways', 1020),\n",
       " ('retrieve', 1018),\n",
       " ('layout', 1016),\n",
       " ('criteria', 1013),\n",
       " ('instead', 1011),\n",
       " ('fields', 1008),\n",
       " ('shall', 1006),\n",
       " ('server', 1006),\n",
       " ('application', 1003),\n",
       " ('meta', 1001),\n",
       " ('another', 1000),\n",
       " ('present', 995),\n",
       " ('test', 995),\n",
       " ('ausage', 992),\n",
       " ('mh', 991),\n",
       " ('af', 989),\n",
       " ('similar', 988),\n",
       " ('eg', 982),\n",
       " ('potential', 982),\n",
       " ('addition', 982),\n",
       " ('received', 982),\n",
       " ('ahp', 981),\n",
       " ('lx', 981),\n",
       " ('cc', 978),\n",
       " ('could', 975),\n",
       " ('qualified', 973),\n",
       " ('messages', 973),\n",
       " ('due', 970),\n",
       " ('total', 970),\n",
       " ('ba', 968),\n",
       " ('get', 966),\n",
       " ('team', 961),\n",
       " ('travel', 948),\n",
       " ('issuance', 945),\n",
       " ('swa', 944),\n",
       " ('operating', 943),\n",
       " ('however', 942),\n",
       " ('miles', 942),\n",
       " ('chargeable', 940),\n",
       " ('disruption', 931),\n",
       " ('example', 930),\n",
       " ('input', 928),\n",
       " ('limit', 924),\n",
       " ('two', 922),\n",
       " ('reason', 920),\n",
       " ('returned', 917),\n",
       " ('cx', 912),\n",
       " ('manual', 912),\n",
       " ('make', 905),\n",
       " ('content', 897),\n",
       " ('printed', 889),\n",
       " ('trigger', 888),\n",
       " ('show', 884),\n",
       " ('action', 884),\n",
       " ('return', 883),\n",
       " ('channel', 882),\n",
       " ('issue', 880),\n",
       " ('last', 877),\n",
       " ('three', 874),\n",
       " ('requests', 871),\n",
       " ('cem', 866),\n",
       " ('seats', 865),\n",
       " ('partneramadeuscom', 865),\n",
       " ('coupon', 862),\n",
       " ('processing', 860),\n",
       " ('remove', 857),\n",
       " ('associated', 857),\n",
       " ('hotels', 855),\n",
       " ('loy', 854),\n",
       " ('day', 851),\n",
       " ('info', 849),\n",
       " ('multiple', 848),\n",
       " ('qr', 846),\n",
       " ('tag', 846),\n",
       " ('segments', 844),\n",
       " ('ca', 843),\n",
       " ('loyalty', 843),\n",
       " ('fares', 841),\n",
       " ('accounting', 838),\n",
       " ('well', 837),\n",
       " ('setup', 834),\n",
       " ('stored', 833),\n",
       " ('confluence', 830),\n",
       " ('impacted', 830),\n",
       " ('ie', 829),\n",
       " ('dds', 828),\n",
       " ('#', 826),\n",
       " ('rndwwwnceamadeusnet', 825),\n",
       " ('requires', 825),\n",
       " ('selected', 823),\n",
       " ('given', 821),\n",
       " ('c', 818),\n",
       " ('ticketing', 817),\n",
       " ('control', 812),\n",
       " ('https', 809),\n",
       " ('sales', 802),\n",
       " ('app', 798),\n",
       " ('www', 795),\n",
       " ('api', 793),\n",
       " ('related', 786),\n",
       " ('next', 785),\n",
       " ('configuration', 785),\n",
       " ('ground', 785),\n",
       " ('templates', 781),\n",
       " ('take', 779),\n",
       " ('journey', 776),\n",
       " ('including', 774),\n",
       " ('validation', 774),\n",
       " ('checks', 773),\n",
       " ('default', 773),\n",
       " ('sections', 773),\n",
       " ('implemented', 771),\n",
       " ('still', 767),\n",
       " ('point', 764),\n",
       " ('wbs', 762),\n",
       " ('options', 762),\n",
       " ('forms', 761),\n",
       " ('applies', 760),\n",
       " ('family', 759),\n",
       " ('applied', 759),\n",
       " ('changed', 757),\n",
       " ('external', 757),\n",
       " ('way', 755),\n",
       " ('leg', 751),\n",
       " ('sell', 749),\n",
       " ('kl', 747),\n",
       " ('phase', 747),\n",
       " ('response', 745),\n",
       " ('printing', 745),\n",
       " ('codeshare', 742),\n",
       " ('airlineit', 741),\n",
       " ('tickets', 740),\n",
       " ('transaction', 738),\n",
       " ('receipt', 737),\n",
       " ('schedule', 736),\n",
       " ('hot', 731),\n",
       " ('considered', 729),\n",
       " ('priority', 729),\n",
       " ('justification', 728),\n",
       " ('integration', 727),\n",
       " ('baseline', 722),\n",
       " ('feature', 719),\n",
       " ('refer', 715),\n",
       " ('thecommunity', 715),\n",
       " ('shopping', 715),\n",
       " ('attachit', 714),\n",
       " ('bzr', 713),\n",
       " ('final', 713),\n",
       " ('recordthe', 711),\n",
       " ('thecase', 711),\n",
       " ('background', 710),\n",
       " ('communitysharepoint', 710),\n",
       " ('categoryhttps', 709),\n",
       " ('airlinecommunity', 709),\n",
       " ('shareddocuments', 709),\n",
       " ('warning', 707),\n",
       " ('agents', 707),\n",
       " ('ff', 706),\n",
       " ('us', 705),\n",
       " ('partner', 704),\n",
       " ('flag', 703),\n",
       " ('post', 703),\n",
       " ('button', 700),\n",
       " ('values', 700),\n",
       " ('ke', 699),\n",
       " ('issued', 699),\n",
       " ('center', 699),\n",
       " ('uat', 699),\n",
       " ('migration', 698),\n",
       " ('activate', 698),\n",
       " ('gds', 695),\n",
       " ('md', 694),\n",
       " ('long', 694),\n",
       " ('record', 694),\n",
       " ('documentsbycategoryaspxcontact', 694),\n",
       " ('handle', 691),\n",
       " ('webservices', 690),\n",
       " ('dev', 689),\n",
       " ('open', 688),\n",
       " ('interface', 687),\n",
       " ('confirmed', 685),\n",
       " ('single', 684),\n",
       " ('domestic', 683),\n",
       " ('etc', 680),\n",
       " ('queue', 680),\n",
       " ('address', 679),\n",
       " ('parameter', 679),\n",
       " ('made', 676),\n",
       " ('winaproach', 675),\n",
       " ('section', 675),\n",
       " ('category', 674),\n",
       " ('ensure', 673),\n",
       " ('documents', 672),\n",
       " ('wants', 672),\n",
       " ('cases', 672),\n",
       " ('china', 671),\n",
       " ('aam', 671),\n",
       " ('activated', 670),\n",
       " ('av', 669),\n",
       " ('back', 669),\n",
       " ('xml', 668),\n",
       " ('ari', 666),\n",
       " ('free', 665),\n",
       " ('work', 663),\n",
       " ('controller', 660),\n",
       " ('online', 659),\n",
       " ('ramp', 659),\n",
       " ('not', 658),\n",
       " ('rms', 658),\n",
       " ('ability', 657),\n",
       " ('bags', 657),\n",
       " ('tool', 655),\n",
       " ('elements', 655),\n",
       " ('even', 654),\n",
       " ('select', 652),\n",
       " ('formats', 652),\n",
       " ('credit', 652),\n",
       " ('can', 651),\n",
       " ('sv', 650),\n",
       " ('aircraft', 647),\n",
       " ('ecommerce', 645),\n",
       " ('view', 644),\n",
       " ('yes', 644),\n",
       " ('voucher', 644),\n",
       " ('participants', 643),\n",
       " ('fqtv', 643),\n",
       " ('bp', 642),\n",
       " ('fra', 641),\n",
       " ('crew', 641),\n",
       " ('market', 639),\n",
       " ('history', 637),\n",
       " ('passport', 634),\n",
       " ('non', 633),\n",
       " ('intercontinental', 633),\n",
       " ('line', 630),\n",
       " ('codes', 630),\n",
       " ('onlyhow', 625),\n",
       " ('ahow', 625),\n",
       " ('special', 624),\n",
       " ('accepted', 624),\n",
       " ('japan', 620),\n",
       " ('proposed', 619),\n",
       " ('gate', 619),\n",
       " ('effort', 617),\n",
       " ('note', 617),\n",
       " ('project', 615),\n",
       " ('activity', 614),\n",
       " ('plan', 613),\n",
       " ('confirmation', 612),\n",
       " ('expected', 612),\n",
       " ('nh', 610),\n",
       " ('approved', 608),\n",
       " ('enterprise', 606),\n",
       " ('define', 603),\n",
       " ('enable', 602),\n",
       " ('event', 602),\n",
       " ('reacc', 601),\n",
       " ('permission', 600),\n",
       " ('suite', 599),\n",
       " ('acu', 598),\n",
       " ('start', 595),\n",
       " ('users', 595),\n",
       " ('interest', 595),\n",
       " ('iata', 594),\n",
       " ('gaps', 593),\n",
       " ('direct', 593),\n",
       " ('singapore', 591),\n",
       " ('cancel', 590),\n",
       " ('receive', 590),\n",
       " ('logo', 589),\n",
       " ('impacts', 587),\n",
       " ('ay', 586),\n",
       " ('staff', 585),\n",
       " ('exchange', 585),\n",
       " ('match', 584),\n",
       " ('summary', 584),\n",
       " ('ci', 584),\n",
       " ('flows', 581),\n",
       " ('eticket', 581),\n",
       " ('taxes', 580),\n",
       " ('identify', 578),\n",
       " ('currency', 578),\n",
       " ('manually', 576),\n",
       " ('either', 574),\n",
       " ('regional', 573),\n",
       " ('filter', 572),\n",
       " ('member', 572),\n",
       " ('since', 570),\n",
       " ('item', 569),\n",
       " ('delivery', 568),\n",
       " ('files', 567),\n",
       " ('override', 564),\n",
       " ('written', 563),\n",
       " ('room', 562),\n",
       " ('selection', 558),\n",
       " ('security', 558),\n",
       " ('top', 556),\n",
       " ('cpr', 555),\n",
       " ('plus', 554),\n",
       " ('reissue', 551),\n",
       " ('correct', 551),\n",
       " ('x', 551),\n",
       " ('column', 551),\n",
       " ('destination', 551),\n",
       " ('updates', 550),\n",
       " ('r', 550),\n",
       " ('redemption', 548),\n",
       " ('days', 547),\n",
       " ('types', 547),\n",
       " ('centre', 546),\n",
       " ('old', 544),\n",
       " ('inter', 543),\n",
       " ('wb', 542),\n",
       " ('marketing', 541),\n",
       " ('award', 541),\n",
       " ('internal', 539),\n",
       " ('bookings', 539),\n",
       " ('detailed', 535),\n",
       " ('booked', 535),\n",
       " ('international', 535),\n",
       " ('limited', 532),\n",
       " ('competency', 529),\n",
       " ('lufthansa', 528),\n",
       " ('lhg', 527),\n",
       " ('split', 526),\n",
       " ('distribution', 526),\n",
       " ('baselinemaintenance', 525),\n",
       " ('e', 524),\n",
       " ('handled', 524),\n",
       " ('limitation', 523),\n",
       " ('charged', 523),\n",
       " ('country', 523),\n",
       " ('discount', 523),\n",
       " ('br', 522),\n",
       " ('cutover', 520),\n",
       " ('enhanced', 520),\n",
       " ('supported', 519),\n",
       " ('result', 518),\n",
       " ('prime', 517),\n",
       " ('pages', 517),\n",
       " ('contact', 517),\n",
       " ('items', 516),\n",
       " ('perform', 515),\n",
       " ('size', 514),\n",
       " ('developments', 514),\n",
       " ('years', 514),\n",
       " ('place', 514),\n",
       " ('eretail', 514),\n",
       " ('points', 514),\n",
       " ('opr', 514),\n",
       " ('allowed', 513),\n",
       " ('eligible', 512),\n",
       " ('store', 512),\n",
       " ('engine', 511),\n",
       " ('matching', 509),\n",
       " ('checked', 507),\n",
       " ('testing', 507),\n",
       " ('dedicated', 505),\n",
       " ('st', 503),\n",
       " ('implementations', 503),\n",
       " ('require', 502),\n",
       " ('mode', 499),\n",
       " ('basis', 498),\n",
       " ('ndc', 498),\n",
       " ('channels', 494),\n",
       " ('characters', 494),\n",
       " ('oz', 492),\n",
       " ('calculation', 487),\n",
       " ('actions', 487),\n",
       " ('mandatory', 487),\n",
       " ('location', 487),\n",
       " ('behavior', 486),\n",
       " ('track', 486),\n",
       " ('corporate', 482),\n",
       " ('reporting', 481),\n",
       " ('term', 481),\n",
       " ('btp', 481),\n",
       " ('scenario', 481),\n",
       " ('dynamic', 481),\n",
       " ('rac', 480),\n",
       " ('reference', 480),\n",
       " ('abr', 479),\n",
       " ('base', 477),\n",
       " ('always', 477),\n",
       " ('pacific', 477),\n",
       " ('qantas', 477),\n",
       " ('performed', 476),\n",
       " ('actual', 476),\n",
       " ('might', 475),\n",
       " ('step', 473),\n",
       " ('star', 472),\n",
       " ('eligibility', 469),\n",
       " ('sending', 469),\n",
       " ('several', 469),\n",
       " ('yearly', 468),\n",
       " ('raised', 468),\n",
       " ('window', 467),\n",
       " ('modify', 466),\n",
       " ('previous', 464),\n",
       " ('range', 463),\n",
       " ('according', 463),\n",
       " ('possibility', 463),\n",
       " ('carriers', 462),\n",
       " ('interline', 461),\n",
       " ('manage', 460),\n",
       " ('form', 460),\n",
       " ('paid', 460),\n",
       " ('removed', 459),\n",
       " ('max', 458),\n",
       " ('drop', 457),\n",
       " ('p', 456),\n",
       " ('keep', 456),\n",
       " ('ancillary', 455),\n",
       " ('yesusage', 455),\n",
       " ('potentially', 454),\n",
       " ('ok', 453),\n",
       " ('shown', 453),\n",
       " ('frequent', 452),\n",
       " ('missing', 451),\n",
       " ('transactions', 450),\n",
       " ('offer', 449),\n",
       " ('study', 447),\n",
       " ('sole', 447),\n",
       " ('read', 447),\n",
       " ('separate', 446),\n",
       " ('production', 446),\n",
       " ('offices', 446),\n",
       " ('cancellation', 445),\n",
       " ('entry', 444),\n",
       " ('france', 443),\n",
       " ('equal', 443),\n",
       " ('taken', 443),\n",
       " ('k', 443),\n",
       " ('context', 442),\n",
       " ('connection', 442),\n",
       " ('valid', 441),\n",
       " ('future', 441),\n",
       " ('go', 440),\n",
       " ('pcv', 440),\n",
       " ('program', 439),\n",
       " ('target', 438),\n",
       " ('hk', 438),\n",
       " ('language', 438),\n",
       " ('webservice', 437),\n",
       " ('setting', 437),\n",
       " ('solutions', 435),\n",
       " ('zone', 433),\n",
       " ('od', 433),\n",
       " ('members', 433),\n",
       " ('compensation', 433),\n",
       " ('g', 433),\n",
       " ('gap', 432),\n",
       " ('gui', 431),\n",
       " ('entered', 428),\n",
       " ('includes', 428),\n",
       " ('accept', 428),\n",
       " ('adding', 427),\n",
       " ('klm', 426),\n",
       " ('identified', 426),\n",
       " ('opened', 426),\n",
       " ('loadsheet', 426),\n",
       " ('partial', 424),\n",
       " ('box', 424),\n",
       " ('aa', 420),\n",
       " ('funding', 420),\n",
       " ('vat', 420),\n",
       " ('nov', 420),\n",
       " ('mea', 419),\n",
       " ('maximum', 419),\n",
       " ('consider', 419),\n",
       " ('servicing', 419),\n",
       " ('numbers', 419),\n",
       " ('avianca', 416),\n",
       " ('excess', 416),\n",
       " ('aacc', 416),\n",
       " ('rebooking', 415),\n",
       " ('seatmap', 414),\n",
       " ('triggered', 413),\n",
       " ('allowance', 413),\n",
       " ('templatenan', 413),\n",
       " ('flyer', 412),\n",
       " ('lss', 410),\n",
       " ('cover', 410),\n",
       " ('main', 409),\n",
       " ('lms', 408),\n",
       " ('addedn', 406),\n",
       " ('flybe', 405),\n",
       " ('backend', 403),\n",
       " ('whether', 402),\n",
       " ('mapping', 402),\n",
       " ('fuel', 402),\n",
       " ('lhdcs', 401),\n",
       " ('ardw', 399),\n",
       " ('automatic', 398),\n",
       " ('rates', 398),\n",
       " ('rbd', 397),\n",
       " ('contain', 396),\n",
       " ('regulatory', 396),\n",
       " ('digital', 395),\n",
       " ('generated', 395),\n",
       " ('processed', 395),\n",
       " ('arrival', 395),\n",
       " ('dates', 394),\n",
       " ('billing', 394),\n",
       " ('enhancement', 394),\n",
       " ('problem', 393),\n",
       " ('offline', 392),\n",
       " ('move', 392),\n",
       " ('avoid', 391),\n",
       " ('conditions', 391),\n",
       " ('extra', 391),\n",
       " ('cryptic', 391),\n",
       " ('city', 391),\n",
       " ('export', 391),\n",
       " ('respect', 390),\n",
       " ('pms', 390),\n",
       " ('therefore', 389),\n",
       " ('panel', 389),\n",
       " ('loyal', 388),\n",
       " ('depending', 388),\n",
       " ('right', 387),\n",
       " ('popup', 387),\n",
       " ('ir', 387),\n",
       " ('general', 386),\n",
       " ('policy', 386),\n",
       " ('lounge', 386),\n",
       " ('force', 385),\n",
       " ('iatci', 384),\n",
       " ('behaviour', 384),\n",
       " ('function', 384),\n",
       " ('cpiscina', 383),\n",
       " ('pdf', 383),\n",
       " ('agreement', 382),\n",
       " ('doc', 381),\n",
       " ('bound', 381),\n",
       " ('cargo', 381),\n",
       " ('alliance', 380),\n",
       " ('corresponding', 378),\n",
       " ('f', 378),\n",
       " ('assumption', 377),\n",
       " ('rtdp', 377),\n",
       " ('uk', 375),\n",
       " ('sor', 375),\n",
       " ('generic', 374),\n",
       " ('contains', 374),\n",
       " ('called', 374),\n",
       " ('block', 372),\n",
       " ('enter', 371),\n",
       " ('si', 371),\n",
       " ('flex', 370),\n",
       " ('know', 370),\n",
       " ('site', 368),\n",
       " ('charge', 368),\n",
       " ('determine', 366),\n",
       " ('owner', 366),\n",
       " ('least', 366),\n",
       " ('functional', 365),\n",
       " ('events', 365),\n",
       " ('space', 364),\n",
       " ('db', 364),\n",
       " ('alms', 364),\n",
       " ('upon', 363),\n",
       " ('seating', 362),\n",
       " ('cash', 362),\n",
       " ('delete', 360),\n",
       " ('active', 360),\n",
       " ('mean', 359),\n",
       " ('rd', 359),\n",
       " ('regards', 359),\n",
       " ('parameters', 357),\n",
       " ('global', 356),\n",
       " ('review', 355),\n",
       " ('costs', 355),\n",
       " ('oa', 355),\n",
       " ('output', 354),\n",
       " ('continue', 354),\n",
       " ('commercial', 353),\n",
       " ('flown', 353),\n",
       " ('hours', 353),\n",
       " ('image', 353),\n",
       " ('dgsl', 353),\n",
       " ('high', 351),\n",
       " ('enhance', 351),\n",
       " ('design', 351),\n",
       " ('means', 350),\n",
       " ('hence', 350),\n",
       " ('best', 350),\n",
       " ('tty', 349),\n",
       " ('put', 349),\n",
       " ('icon', 348),\n",
       " ('database', 348),\n",
       " ('switch', 347),\n",
       " ('fast', 347),\n",
       " ('screens', 347),\n",
       " ('property', 347),\n",
       " ('reuses', 346),\n",
       " ('board', 346),\n",
       " ('classes', 346),\n",
       " ('uld', 346),\n",
       " ('delivered', 345),\n",
       " ('tp', 345),\n",
       " ('os', 343),\n",
       " ('position', 342),\n",
       " ('unilaterally', 341),\n",
       " ('cease', 341),\n",
       " ('sn', 340),\n",
       " ('increase', 340),\n",
       " ('ssrs', 339),\n",
       " ('jan', 339),\n",
       " ('dga', 339),\n",
       " ('definition', 338),\n",
       " ('admin', 337),\n",
       " ('feeds', 337),\n",
       " ('daily', 334),\n",
       " ('dbm', 334),\n",
       " ('operated', 333),\n",
       " ('scenarios', 333),\n",
       " ('cop', 333),\n",
       " ('partners', 332),\n",
       " ('aaas', 331),\n",
       " ('later', 330),\n",
       " ('pectab', 330),\n",
       " ('filing', 330),\n",
       " ('modification', 330),\n",
       " ('identification', 330),\n",
       " ('cmg', 329),\n",
       " ('developed', 329),\n",
       " ('run', 329),\n",
       " ('fi', 329),\n",
       " ('exclusivity', 328),\n",
       " ('eot', 328),\n",
       " ('closed', 328),\n",
       " ('comment', 327),\n",
       " ('wo', 326),\n",
       " ('reported', 326),\n",
       " ('optional', 326),\n",
       " ('exists', 325),\n",
       " ('j', 325),\n",
       " ('retrieved', 324),\n",
       " ('party', 324),\n",
       " ('dx', 323),\n",
       " ('results', 323),\n",
       " ('sale', 323),\n",
       " ('malaysia', 322),\n",
       " ('linked', 322),\n",
       " ('second', 322),\n",
       " ('containing', 321),\n",
       " ('confirm', 321),\n",
       " ('purpose', 321),\n",
       " ('traffic', 320),\n",
       " ('agreed', 320),\n",
       " ('l', 318),\n",
       " ('initial', 318),\n",
       " ('described', 317),\n",
       " ('necessary', 317),\n",
       " ('auto', 317),\n",
       " ('push', 317),\n",
       " ('acars', 317),\n",
       " ('follow', 316),\n",
       " ('capture', 316),\n",
       " ('ly', 316),\n",
       " ('asc', 315),\n",
       " ('dom', 315),\n",
       " ('method', 315),\n",
       " ('evolutions', 315),\n",
       " ('en', 315),\n",
       " ('budgetlineonly', 315),\n",
       " ('coupons', 314),\n",
       " ('configurable', 314),\n",
       " ('de', 314),\n",
       " ('mds', 314),\n",
       " ('edifact', 313),\n",
       " ('cathay', 313),\n",
       " ('row', 313),\n",
       " ('infant', 312),\n",
       " ('agm', 311),\n",
       " ('exist', 310),\n",
       " ('modified', 309),\n",
       " ('involuntary', 309),\n",
       " ('ghing', 308),\n",
       " ('processes', 306),\n",
       " ('remain', 306),\n",
       " ('directly', 306),\n",
       " ('tab', 306),\n",
       " ('impl', 306),\n",
       " ('attachment', 306),\n",
       " ('calls', 305),\n",
       " ('audit', 304),\n",
       " ('dl', 304),\n",
       " ('prd', 304),\n",
       " ('exemption', 304),\n",
       " ('copy', 303),\n",
       " ('query', 302),\n",
       " ('automated', 302),\n",
       " ('costhow', 302),\n",
       " ('amounts', 302),\n",
       " ('notice', 301),\n",
       " ('adc', 301),\n",
       " ('lg', 301),\n",
       " ('conversion', 301),\n",
       " ('count', 300),\n",
       " ('onload', 299),\n",
       " ('ptr', 299),\n",
       " ('applicablemaintenance', 299),\n",
       " ('whitbread', 298),\n",
       " ('assessment', 297),\n",
       " ('economy', 297),\n",
       " ('url', 297),\n",
       " ('invoice', 297),\n",
       " ('pos', 295),\n",
       " ('catalogue', 295),\n",
       " ('pm', 294),\n",
       " ('book', 293),\n",
       " ('functionalities', 293),\n",
       " ('trip', 293),\n",
       " ('ds', 293),\n",
       " ('yq', 293),\n",
       " ('proposal', 292),\n",
       " ('covered', 292),\n",
       " ('mentioned', 292),\n",
       " ('csx', 291),\n",
       " ('meal', 291),\n",
       " ('validate', 290),\n",
       " ('certification', 289),\n",
       " ('cancelled', 289),\n",
       " ('h', 289),\n",
       " ('authorization', 287),\n",
       " ('allows', 286),\n",
       " ...]"
      ]
     },
     "execution_count": 13,
     "metadata": {},
     "output_type": "execute_result"
    }
   ],
   "source": [
    "words"
   ]
  },
  {
   "cell_type": "code",
   "execution_count": 14,
   "metadata": {
    "gather": {
     "logged": 1602681601781
    },
    "jupyter": {
     "outputs_hidden": false,
     "source_hidden": false
    },
    "nteract": {
     "transient": {
      "deleting": false
     }
    }
   },
   "outputs": [
    {
     "name": "stderr",
     "output_type": "stream",
     "text": [
      "Some weights of the model checkpoint at bert-base-uncased were not used when initializing BertForMaskedLM: ['cls.seq_relationship.weight', 'cls.seq_relationship.bias']\n",
      "- This IS expected if you are initializing BertForMaskedLM from the checkpoint of a model trained on another task or with another architecture (e.g. initializing a BertForSequenceClassification model from a BertForPretraining model).\n",
      "- This IS NOT expected if you are initializing BertForMaskedLM from the checkpoint of a model that you expect to be exactly identical (initializing a BertForSequenceClassification model from a BertForSequenceClassification model).\n",
      "Some weights of BertForMaskedLM were not initialized from the model checkpoint at bert-base-uncased and are newly initialized: ['cls.predictions.decoder.bias']\n",
      "You should probably TRAIN this model on a down-stream task to be able to use it for predictions and inference.\n"
     ]
    },
    {
     "name": "stdout",
     "output_type": "stream",
     "text": [
      "30522\n",
      "35521\n"
     ]
    },
    {
     "data": {
      "text/plain": [
       "Embedding(35521, 768)"
      ]
     },
     "execution_count": 14,
     "metadata": {},
     "output_type": "execute_result"
    }
   ],
   "source": [
    "import torch\n",
    "from transformers import BertTokenizer, BertModel\n",
    "tokenizer = BertTokenizer.from_pretrained(\"bert-base-uncased\")\n",
    "model = BertForMaskedLM.from_pretrained(\"bert-base-uncased\")\n",
    "print(len(tokenizer))  # 28996\n",
    "tokenizer.add_tokens(words)\n",
    "print(len(tokenizer)) \n",
    "model.resize_token_embeddings(len(tokenizer)) "
   ]
  },
  {
   "cell_type": "code",
   "execution_count": 15,
   "metadata": {
    "jupyter": {
     "outputs_hidden": false,
     "source_hidden": false
    },
    "nteract": {
     "transient": {
      "deleting": false
     }
    }
   },
   "outputs": [
    {
     "name": "stdout",
     "output_type": "stream",
     "text": [
      "CPU times: user 54.4 s, sys: 506 ms, total: 54.9 s\n",
      "Wall time: 55.2 s\n"
     ]
    }
   ],
   "source": [
    "%%time\n",
    "from transformers import TextDataset\n",
    "\n",
    "dataset = TextDataset(\n",
    "    tokenizer=tokenizer,\n",
    "    file_path=\"corpus.txt\",\n",
    "    block_size=64,\n",
    ")"
   ]
  },
  {
   "cell_type": "code",
   "execution_count": 16,
   "metadata": {
    "gather": {
     "logged": 1602681602582
    },
    "jupyter": {
     "outputs_hidden": false,
     "source_hidden": false
    },
    "nteract": {
     "transient": {
      "deleting": false
     }
    }
   },
   "outputs": [],
   "source": [
    "# Batching + preprocessing for MLM\n",
    "data_collator = DataCollatorForLanguageModeling(\n",
    "    tokenizer=tokenizer, mlm=True, mlm_probability=0.15\n",
    ")"
   ]
  },
  {
   "cell_type": "code",
   "execution_count": 17,
   "metadata": {
    "gather": {
     "logged": 1602681604635
    },
    "jupyter": {
     "outputs_hidden": false,
     "source_hidden": false
    },
    "nteract": {
     "transient": {
      "deleting": false
     }
    }
   },
   "outputs": [
    {
     "name": "stderr",
     "output_type": "stream",
     "text": [
      "/anaconda/envs/azureml_py36/lib/python3.6/site-packages/transformers/trainer.py:256: FutureWarning: Passing `prediction_loss_only` as a keyword argument is deprecated and won't be possible in a future version. Use `args.prediction_loss_only` instead.\n",
      "  FutureWarning,\n"
     ]
    }
   ],
   "source": [
    "from transformers import Trainer, TrainingArguments\n",
    "\n",
    "training_args = TrainingArguments(\n",
    "    output_dir=\"~/cloudfiles/code/Users/jimharrington.johnselvynnallathambi\",\n",
    "    overwrite_output_dir=True,\n",
    "    num_train_epochs=20,\n",
    "    per_gpu_train_batch_size=4,\n",
    "    save_steps=10_000,\n",
    "    save_total_limit=1,\n",
    ")\n",
    "\n",
    "trainer = Trainer(\n",
    "    model=model,\n",
    "    args=training_args,\n",
    "    data_collator=data_collator,\n",
    "    train_dataset=dataset,\n",
    "    prediction_loss_only=True,\n",
    ")"
   ]
  },
  {
   "cell_type": "code",
   "execution_count": 18,
   "metadata": {
    "jupyter": {
     "outputs_hidden": false,
     "source_hidden": false
    },
    "nteract": {
     "transient": {
      "deleting": false
     }
    }
   },
   "outputs": [
    {
     "name": "stderr",
     "output_type": "stream",
     "text": [
      "Using deprecated `--per_gpu_train_batch_size` argument which will be removed in a future version. Using `--per_device_train_batch_size` is preferred.\n",
      "Using deprecated `--per_gpu_train_batch_size` argument which will be removed in a future version. Using `--per_device_train_batch_size` is preferred.\n",
      "Using deprecated `--per_gpu_train_batch_size` argument which will be removed in a future version. Using `--per_device_train_batch_size` is preferred.\n"
     ]
    },
    {
     "data": {
      "application/vnd.jupyter.widget-view+json": {
       "model_id": "5ea57f1dc677451c9f36e213d012e3aa",
       "version_major": 2,
       "version_minor": 0
      },
      "text/plain": [
       "HBox(children=(FloatProgress(value=0.0, description='Epoch', max=20.0, style=ProgressStyle(description_width='…"
      ]
     },
     "metadata": {},
     "output_type": "display_data"
    },
    {
     "data": {
      "application/vnd.jupyter.widget-view+json": {
       "model_id": "7990f4a01c96441e974ab1e788a07bff",
       "version_major": 2,
       "version_minor": 0
      },
      "text/plain": [
       "HBox(children=(FloatProgress(value=0.0, description='Iteration', max=7170.0, style=ProgressStyle(description_w…"
      ]
     },
     "metadata": {},
     "output_type": "display_data"
    },
    {
     "name": "stdout",
     "output_type": "stream",
     "text": [
      "{'loss': 5.31205126953125, 'learning_rate': 4.9825662482566246e-05, 'epoch': 0.0697350069735007, 'total_flos': 87512924928000, 'step': 500}\n",
      "{'loss': 4.82885693359375, 'learning_rate': 4.9651324965132504e-05, 'epoch': 0.1394700139470014, 'total_flos': 175025849856000, 'step': 1000}\n",
      "{'loss': 4.64662890625, 'learning_rate': 4.947698744769875e-05, 'epoch': 0.20920502092050208, 'total_flos': 262538774784000, 'step': 1500}\n",
      "{'loss': 4.61073046875, 'learning_rate': 4.930264993026499e-05, 'epoch': 0.2789400278940028, 'total_flos': 350051699712000, 'step': 2000}\n",
      "{'loss': 4.47573046875, 'learning_rate': 4.912831241283124e-05, 'epoch': 0.3486750348675035, 'total_flos': 437564624640000, 'step': 2500}\n",
      "{'loss': 4.368923828125, 'learning_rate': 4.895397489539749e-05, 'epoch': 0.41841004184100417, 'total_flos': 525077549568000, 'step': 3000}\n",
      "{'loss': 4.373060546875, 'learning_rate': 4.877963737796374e-05, 'epoch': 0.4881450488145049, 'total_flos': 612590474496000, 'step': 3500}\n",
      "{'loss': 4.356376953125, 'learning_rate': 4.860529986052999e-05, 'epoch': 0.5578800557880056, 'total_flos': 700103399424000, 'step': 4000}\n",
      "{'loss': 4.23286328125, 'learning_rate': 4.843096234309624e-05, 'epoch': 0.6276150627615062, 'total_flos': 787616324352000, 'step': 4500}\n",
      "{'loss': 4.18137109375, 'learning_rate': 4.825662482566248e-05, 'epoch': 0.697350069735007, 'total_flos': 875129249280000, 'step': 5000}\n",
      "{'loss': 4.20489453125, 'learning_rate': 4.808228730822873e-05, 'epoch': 0.7670850767085077, 'total_flos': 962642174208000, 'step': 5500}\n",
      "{'loss': 4.1759765625, 'learning_rate': 4.7907949790794984e-05, 'epoch': 0.8368200836820083, 'total_flos': 1050155099136000, 'step': 6000}\n",
      "{'loss': 4.13906640625, 'learning_rate': 4.773361227336123e-05, 'epoch': 0.9065550906555091, 'total_flos': 1137668024064000, 'step': 6500}\n",
      "{'loss': 4.07419921875, 'learning_rate': 4.755927475592748e-05, 'epoch': 0.9762900976290098, 'total_flos': 1225180948992000, 'step': 7000}\n",
      "\n"
     ]
    },
    {
     "data": {
      "application/vnd.jupyter.widget-view+json": {
       "model_id": "71fcb6b5b80e4ff1a72cb50aee898fce",
       "version_major": 2,
       "version_minor": 0
      },
      "text/plain": [
       "HBox(children=(FloatProgress(value=0.0, description='Iteration', max=7170.0, style=ProgressStyle(description_w…"
      ]
     },
     "metadata": {},
     "output_type": "display_data"
    },
    {
     "name": "stdout",
     "output_type": "stream",
     "text": [
      "{'loss': 4.02865234375, 'learning_rate': 4.738493723849373e-05, 'epoch': 1.0460251046025104, 'total_flos': 1312693873920000, 'step': 7500}\n",
      "{'loss': 3.989609375, 'learning_rate': 4.7210599721059973e-05, 'epoch': 1.1157601115760112, 'total_flos': 1400206798848000, 'step': 8000}\n",
      "{'loss': 3.9699375, 'learning_rate': 4.7036262203626224e-05, 'epoch': 1.185495118549512, 'total_flos': 1487719723776000, 'step': 8500}\n",
      "{'loss': 4.012328125, 'learning_rate': 4.686192468619247e-05, 'epoch': 1.2552301255230125, 'total_flos': 1575232648704000, 'step': 9000}\n",
      "{'loss': 3.941671875, 'learning_rate': 4.668758716875872e-05, 'epoch': 1.3249651324965133, 'total_flos': 1662745573632000, 'step': 9500}\n",
      "{'loss': 3.96065625, 'learning_rate': 4.651324965132497e-05, 'epoch': 1.394700139470014, 'total_flos': 1750258498560000, 'step': 10000}\n",
      "{'loss': 3.9030234375, 'learning_rate': 4.6338912133891213e-05, 'epoch': 1.4644351464435146, 'total_flos': 1837771423488000, 'step': 10500}\n",
      "{'loss': 3.9408046875, 'learning_rate': 4.6164574616457464e-05, 'epoch': 1.5341701534170153, 'total_flos': 1925284348416000, 'step': 11000}\n",
      "{'loss': 3.918234375, 'learning_rate': 4.5990237099023715e-05, 'epoch': 1.6039051603905161, 'total_flos': 2012797273344000, 'step': 11500}\n",
      "{'loss': 3.95371875, 'learning_rate': 4.581589958158996e-05, 'epoch': 1.6736401673640167, 'total_flos': 2100310198272000, 'step': 12000}\n",
      "{'loss': 3.8607109375, 'learning_rate': 4.564156206415621e-05, 'epoch': 1.7433751743375174, 'total_flos': 2187823123200000, 'step': 12500}\n",
      "{'loss': 3.870734375, 'learning_rate': 4.546722454672246e-05, 'epoch': 1.8131101813110182, 'total_flos': 2275336048128000, 'step': 13000}\n",
      "{'loss': 3.8334453125, 'learning_rate': 4.5292887029288704e-05, 'epoch': 1.8828451882845187, 'total_flos': 2362848973056000, 'step': 13500}\n",
      "{'loss': 3.821890625, 'learning_rate': 4.5118549511854955e-05, 'epoch': 1.9525801952580195, 'total_flos': 2450361897984000, 'step': 14000}\n",
      "\n"
     ]
    },
    {
     "data": {
      "application/vnd.jupyter.widget-view+json": {
       "model_id": "ce034f3e6383496db239f10b6003da5f",
       "version_major": 2,
       "version_minor": 0
      },
      "text/plain": [
       "HBox(children=(FloatProgress(value=0.0, description='Iteration', max=7170.0, style=ProgressStyle(description_w…"
      ]
     },
     "metadata": {},
     "output_type": "display_data"
    },
    {
     "name": "stdout",
     "output_type": "stream",
     "text": [
      "{'loss': 3.793375, 'learning_rate': 4.4944211994421206e-05, 'epoch': 2.0223152022315203, 'total_flos': 2537874822912000, 'step': 14500}\n",
      "{'loss': 3.7606796875, 'learning_rate': 4.476987447698745e-05, 'epoch': 2.092050209205021, 'total_flos': 2625387747840000, 'step': 15000}\n",
      "{'loss': 3.773015625, 'learning_rate': 4.4595536959553694e-05, 'epoch': 2.161785216178522, 'total_flos': 2712900672768000, 'step': 15500}\n",
      "{'loss': 3.741859375, 'learning_rate': 4.442119944211995e-05, 'epoch': 2.2315202231520224, 'total_flos': 2800413597696000, 'step': 16000}\n",
      "{'loss': 3.757171875, 'learning_rate': 4.4246861924686195e-05, 'epoch': 2.301255230125523, 'total_flos': 2887926522624000, 'step': 16500}\n",
      "{'loss': 3.72765625, 'learning_rate': 4.407252440725244e-05, 'epoch': 2.370990237099024, 'total_flos': 2975439447552000, 'step': 17000}\n",
      "{'loss': 3.69540625, 'learning_rate': 4.389818688981869e-05, 'epoch': 2.4407252440725244, 'total_flos': 3062952372480000, 'step': 17500}\n",
      "{'loss': 3.715859375, 'learning_rate': 4.372384937238494e-05, 'epoch': 2.510460251046025, 'total_flos': 3150465297408000, 'step': 18000}\n",
      "{'loss': 3.731859375, 'learning_rate': 4.3549511854951185e-05, 'epoch': 2.5801952580195255, 'total_flos': 3237978222336000, 'step': 18500}\n",
      "{'loss': 3.7544375, 'learning_rate': 4.3375174337517435e-05, 'epoch': 2.6499302649930265, 'total_flos': 3325491147264000, 'step': 19000}\n",
      "{'loss': 3.7115625, 'learning_rate': 4.3200836820083686e-05, 'epoch': 2.719665271966527, 'total_flos': 3413004072192000, 'step': 19500}\n",
      "{'loss': 3.62375, 'learning_rate': 4.302649930264993e-05, 'epoch': 2.789400278940028, 'total_flos': 3500516997120000, 'step': 20000}\n",
      "{'loss': 3.651265625, 'learning_rate': 4.285216178521618e-05, 'epoch': 2.8591352859135286, 'total_flos': 3588029922048000, 'step': 20500}\n",
      "{'loss': 3.65478125, 'learning_rate': 4.267782426778243e-05, 'epoch': 2.928870292887029, 'total_flos': 3675542846976000, 'step': 21000}\n",
      "{'loss': 3.662890625, 'learning_rate': 4.2503486750348675e-05, 'epoch': 2.99860529986053, 'total_flos': 3763055771904000, 'step': 21500}\n",
      "\n"
     ]
    },
    {
     "data": {
      "application/vnd.jupyter.widget-view+json": {
       "model_id": "705e630c9b654678b7fa911df9c4dc75",
       "version_major": 2,
       "version_minor": 0
      },
      "text/plain": [
       "HBox(children=(FloatProgress(value=0.0, description='Iteration', max=7170.0, style=ProgressStyle(description_w…"
      ]
     },
     "metadata": {},
     "output_type": "display_data"
    },
    {
     "name": "stdout",
     "output_type": "stream",
     "text": [
      "{'loss': 3.607515625, 'learning_rate': 4.2329149232914926e-05, 'epoch': 3.0683403068340307, 'total_flos': 3850568696832000, 'step': 22000}\n",
      "{'loss': 3.572328125, 'learning_rate': 4.215481171548118e-05, 'epoch': 3.1380753138075312, 'total_flos': 3938081621760000, 'step': 22500}\n",
      "{'loss': 3.6033125, 'learning_rate': 4.198047419804742e-05, 'epoch': 3.2078103207810322, 'total_flos': 4025594546688000, 'step': 23000}\n",
      "{'loss': 3.576046875, 'learning_rate': 4.180613668061367e-05, 'epoch': 3.2775453277545328, 'total_flos': 4113107471616000, 'step': 23500}\n",
      "{'loss': 3.51809375, 'learning_rate': 4.1631799163179915e-05, 'epoch': 3.3472803347280333, 'total_flos': 4200620396544000, 'step': 24000}\n",
      "{'loss': 3.571875, 'learning_rate': 4.1457461645746166e-05, 'epoch': 3.4170153417015343, 'total_flos': 4288133321472000, 'step': 24500}\n",
      "{'loss': 3.557171875, 'learning_rate': 4.128312412831242e-05, 'epoch': 3.486750348675035, 'total_flos': 4375646246400000, 'step': 25000}\n",
      "{'loss': 3.58646875, 'learning_rate': 4.110878661087866e-05, 'epoch': 3.5564853556485354, 'total_flos': 4463159171328000, 'step': 25500}\n",
      "{'loss': 3.5789375, 'learning_rate': 4.093444909344491e-05, 'epoch': 3.6262203626220364, 'total_flos': 4550672096256000, 'step': 26000}\n",
      "{'loss': 3.503015625, 'learning_rate': 4.076011157601116e-05, 'epoch': 3.695955369595537, 'total_flos': 4638185021184000, 'step': 26500}\n",
      "{'loss': 3.542328125, 'learning_rate': 4.041143654114366e-05, 'epoch': 3.8354253835425385, 'total_flos': 4813210871040000, 'step': 27500}\n",
      "{'loss': 3.594203125, 'learning_rate': 4.023709902370991e-05, 'epoch': 3.905160390516039, 'total_flos': 4900723795968000, 'step': 28000}\n",
      "{'loss': 3.55846875, 'learning_rate': 4.006276150627615e-05, 'epoch': 3.97489539748954, 'total_flos': 4988236720896000, 'step': 28500}\n",
      "\n"
     ]
    },
    {
     "data": {
      "application/vnd.jupyter.widget-view+json": {
       "model_id": "775b5517d1074f59b6b6832e336419ee",
       "version_major": 2,
       "version_minor": 0
      },
      "text/plain": [
       "HBox(children=(FloatProgress(value=0.0, description='Iteration', max=7170.0, style=ProgressStyle(description_w…"
      ]
     },
     "metadata": {},
     "output_type": "display_data"
    },
    {
     "name": "stdout",
     "output_type": "stream",
     "text": [
      "{'loss': 3.45978125, 'learning_rate': 3.98884239888424e-05, 'epoch': 4.044630404463041, 'total_flos': 5075749645824000, 'step': 29000}\n",
      "{'loss': 3.413328125, 'learning_rate': 3.971408647140865e-05, 'epoch': 4.114365411436541, 'total_flos': 5163262570752000, 'step': 29500}\n",
      "{'loss': 3.433203125, 'learning_rate': 3.95397489539749e-05, 'epoch': 4.184100418410042, 'total_flos': 5250775495680000, 'step': 30000}\n",
      "{'loss': 3.454484375, 'learning_rate': 3.936541143654114e-05, 'epoch': 4.253835425383542, 'total_flos': 5338288420608000, 'step': 30500}\n",
      "{'loss': 3.42278125, 'learning_rate': 3.91910739191074e-05, 'epoch': 4.323570432357044, 'total_flos': 5425801345536000, 'step': 31000}\n",
      "{'loss': 3.4821875, 'learning_rate': 3.901673640167364e-05, 'epoch': 4.393305439330544, 'total_flos': 5513314270464000, 'step': 31500}\n",
      "{'loss': 3.47496875, 'learning_rate': 3.8842398884239886e-05, 'epoch': 4.463040446304045, 'total_flos': 5600827195392000, 'step': 32000}\n",
      "{'loss': 3.456515625, 'learning_rate': 3.8668061366806144e-05, 'epoch': 4.532775453277545, 'total_flos': 5688340120320000, 'step': 32500}\n",
      "{'loss': 3.426328125, 'learning_rate': 3.849372384937239e-05, 'epoch': 4.602510460251046, 'total_flos': 5775853045248000, 'step': 33000}\n",
      "{'loss': 3.4134375, 'learning_rate': 3.831938633193863e-05, 'epoch': 4.672245467224546, 'total_flos': 5863365970176000, 'step': 33500}\n",
      "{'loss': 3.418, 'learning_rate': 3.814504881450488e-05, 'epoch': 4.741980474198048, 'total_flos': 5950878895104000, 'step': 34000}\n",
      "{'loss': 3.43028125, 'learning_rate': 3.779637377963738e-05, 'epoch': 4.881450488145049, 'total_flos': 6125904744960000, 'step': 35000}\n",
      "{'loss': 3.44465625, 'learning_rate': 3.762203626220363e-05, 'epoch': 4.951185495118549, 'total_flos': 6213417669888000, 'step': 35500}\n",
      "\n"
     ]
    },
    {
     "data": {
      "application/vnd.jupyter.widget-view+json": {
       "model_id": "19e2c7c89c8745a99e491389a2e15f78",
       "version_major": 2,
       "version_minor": 0
      },
      "text/plain": [
       "HBox(children=(FloatProgress(value=0.0, description='Iteration', max=7170.0, style=ProgressStyle(description_w…"
      ]
     },
     "metadata": {},
     "output_type": "display_data"
    },
    {
     "name": "stdout",
     "output_type": "stream",
     "text": [
      "{'loss': 3.40596875, 'learning_rate': 3.744769874476988e-05, 'epoch': 5.02092050209205, 'total_flos': 6300930594816000, 'step': 36000}\n",
      "{'loss': 3.21928125, 'learning_rate': 3.727336122733612e-05, 'epoch': 5.0906555090655505, 'total_flos': 6388443519744000, 'step': 36500}\n",
      "{'loss': 3.4185625, 'learning_rate': 3.7099023709902373e-05, 'epoch': 5.160390516039052, 'total_flos': 6475956444672000, 'step': 37000}\n",
      "{'loss': 3.36803125, 'learning_rate': 3.6924686192468624e-05, 'epoch': 5.2301255230125525, 'total_flos': 6563469369600000, 'step': 37500}\n",
      "{'loss': 3.38671875, 'learning_rate': 3.675034867503487e-05, 'epoch': 5.299860529986053, 'total_flos': 6650982294528000, 'step': 38000}\n",
      "{'loss': 3.30371875, 'learning_rate': 3.657601115760112e-05, 'epoch': 5.369595536959554, 'total_flos': 6738495219456000, 'step': 38500}\n",
      "{'loss': 3.32553125, 'learning_rate': 3.640167364016737e-05, 'epoch': 5.439330543933054, 'total_flos': 6826008144384000, 'step': 39000}\n",
      "{'loss': 3.34209375, 'learning_rate': 3.6227336122733613e-05, 'epoch': 5.509065550906556, 'total_flos': 6913521069312000, 'step': 39500}\n",
      "{'loss': 3.26459375, 'learning_rate': 3.6052998605299864e-05, 'epoch': 5.578800557880056, 'total_flos': 7001033994240000, 'step': 40000}\n",
      "{'loss': 3.31340625, 'learning_rate': 3.587866108786611e-05, 'epoch': 5.648535564853557, 'total_flos': 7088546919168000, 'step': 40500}\n",
      "{'loss': 3.33984375, 'learning_rate': 3.570432357043236e-05, 'epoch': 5.718270571827057, 'total_flos': 7176059844096000, 'step': 41000}\n",
      "{'loss': 3.34546875, 'learning_rate': 3.552998605299861e-05, 'epoch': 5.788005578800558, 'total_flos': 7263572769024000, 'step': 41500}\n",
      "{'loss': 3.3648125, 'learning_rate': 3.5355648535564854e-05, 'epoch': 5.857740585774058, 'total_flos': 7351085693952000, 'step': 42000}\n",
      "{'loss': 3.3820625, 'learning_rate': 3.5181311018131104e-05, 'epoch': 5.927475592747559, 'total_flos': 7438598618880000, 'step': 42500}\n",
      "{'loss': 3.35696875, 'learning_rate': 3.5006973500697355e-05, 'epoch': 5.99721059972106, 'total_flos': 7526111543808000, 'step': 43000}\n",
      "\n"
     ]
    },
    {
     "data": {
      "application/vnd.jupyter.widget-view+json": {
       "model_id": "09ccf8bde5a5438fabbf4cfa73557929",
       "version_major": 2,
       "version_minor": 0
      },
      "text/plain": [
       "HBox(children=(FloatProgress(value=0.0, description='Iteration', max=7170.0, style=ProgressStyle(description_w…"
      ]
     },
     "metadata": {},
     "output_type": "display_data"
    },
    {
     "name": "stdout",
     "output_type": "stream",
     "text": [
      "{'loss': 3.2825625, 'learning_rate': 3.48326359832636e-05, 'epoch': 6.066945606694561, 'total_flos': 7613624468736000, 'step': 43500}\n",
      "{'loss': 3.2624375, 'learning_rate': 3.465829846582985e-05, 'epoch': 6.136680613668061, 'total_flos': 7701137393664000, 'step': 44000}\n",
      "{'loss': 3.2026875, 'learning_rate': 3.44839609483961e-05, 'epoch': 6.206415620641562, 'total_flos': 7788650318592000, 'step': 44500}\n",
      "{'loss': 3.198375, 'learning_rate': 3.4309623430962344e-05, 'epoch': 6.2761506276150625, 'total_flos': 7876163243520000, 'step': 45000}\n",
      "{'loss': 3.26803125, 'learning_rate': 3.4135285913528595e-05, 'epoch': 6.345885634588564, 'total_flos': 7963676168448000, 'step': 45500}\n",
      "{'loss': 3.24565625, 'learning_rate': 3.3960948396094846e-05, 'epoch': 6.4156206415620645, 'total_flos': 8051189093376000, 'step': 46000}\n",
      "{'loss': 3.27075, 'learning_rate': 3.378661087866109e-05, 'epoch': 6.485355648535565, 'total_flos': 8138702018304000, 'step': 46500}\n",
      "{'loss': 3.229875, 'learning_rate': 3.3612273361227334e-05, 'epoch': 6.5550906555090656, 'total_flos': 8226214943232000, 'step': 47000}\n",
      "{'loss': 3.29734375, 'learning_rate': 3.343793584379359e-05, 'epoch': 6.624825662482566, 'total_flos': 8313727868160000, 'step': 47500}\n",
      "{'loss': 3.27146875, 'learning_rate': 3.3263598326359835e-05, 'epoch': 6.694560669456067, 'total_flos': 8401240793088000, 'step': 48000}\n",
      "{'loss': 3.26553125, 'learning_rate': 3.308926080892608e-05, 'epoch': 6.764295676429567, 'total_flos': 8488753718016000, 'step': 48500}\n",
      "{'loss': 3.2506875, 'learning_rate': 3.291492329149234e-05, 'epoch': 6.834030683403069, 'total_flos': 8576266642944000, 'step': 49000}\n",
      "{'loss': 3.23725, 'learning_rate': 3.274058577405858e-05, 'epoch': 6.903765690376569, 'total_flos': 8663779567872000, 'step': 49500}\n",
      "{'loss': 3.25175, 'learning_rate': 3.2566248256624825e-05, 'epoch': 6.97350069735007, 'total_flos': 8751292492800000, 'step': 50000}\n",
      "\n"
     ]
    },
    {
     "data": {
      "application/vnd.jupyter.widget-view+json": {
       "model_id": "82c8f5abd63547e6bb4fbd94524e1bee",
       "version_major": 2,
       "version_minor": 0
      },
      "text/plain": [
       "HBox(children=(FloatProgress(value=0.0, description='Iteration', max=7170.0, style=ProgressStyle(description_w…"
      ]
     },
     "metadata": {},
     "output_type": "display_data"
    },
    {
     "name": "stdout",
     "output_type": "stream",
     "text": [
      "{'loss': 3.16875, 'learning_rate': 3.2391910739191075e-05, 'epoch': 7.04323570432357, 'total_flos': 8838805417728000, 'step': 50500}\n",
      "{'loss': 3.15125, 'learning_rate': 3.2217573221757326e-05, 'epoch': 7.112970711297071, 'total_flos': 8926318342656000, 'step': 51000}\n",
      "{'loss': 3.18384375, 'learning_rate': 3.204323570432357e-05, 'epoch': 7.182705718270572, 'total_flos': 9013831267584000, 'step': 51500}\n",
      "{'loss': 3.21553125, 'learning_rate': 3.186889818688982e-05, 'epoch': 7.252440725244073, 'total_flos': 9101344192512000, 'step': 52000}\n",
      "{'loss': 3.1563125, 'learning_rate': 3.169456066945607e-05, 'epoch': 7.322175732217573, 'total_flos': 9188857117440000, 'step': 52500}\n",
      "{'loss': 3.20509375, 'learning_rate': 3.1520223152022315e-05, 'epoch': 7.391910739191074, 'total_flos': 9276370042368000, 'step': 53000}\n",
      "{'loss': 3.19340625, 'learning_rate': 3.1345885634588566e-05, 'epoch': 7.461645746164574, 'total_flos': 9363882967296000, 'step': 53500}\n",
      "{'loss': 3.17734375, 'learning_rate': 3.117154811715482e-05, 'epoch': 7.531380753138075, 'total_flos': 9451395892224000, 'step': 54000}\n",
      "{'loss': 3.14475, 'learning_rate': 3.099721059972106e-05, 'epoch': 7.6011157601115755, 'total_flos': 9538908817152000, 'step': 54500}\n",
      "{'loss': 3.18584375, 'learning_rate': 3.082287308228731e-05, 'epoch': 7.670850767085077, 'total_flos': 9626421742080000, 'step': 55000}\n",
      "{'loss': 3.19184375, 'learning_rate': 3.0648535564853556e-05, 'epoch': 7.7405857740585775, 'total_flos': 9713934667008000, 'step': 55500}\n",
      "{'loss': 3.2193125, 'learning_rate': 3.0474198047419806e-05, 'epoch': 7.810320781032078, 'total_flos': 9801447591936000, 'step': 56000}\n",
      "{'loss': 3.1665625, 'learning_rate': 3.0299860529986057e-05, 'epoch': 7.880055788005579, 'total_flos': 9888960516864000, 'step': 56500}\n",
      "{'loss': 3.17240625, 'learning_rate': 3.0125523012552304e-05, 'epoch': 7.949790794979079, 'total_flos': 9976473441792000, 'step': 57000}\n",
      "\n"
     ]
    },
    {
     "data": {
      "application/vnd.jupyter.widget-view+json": {
       "model_id": "0ead9e4a63c94757a9fec508a1c378df",
       "version_major": 2,
       "version_minor": 0
      },
      "text/plain": [
       "HBox(children=(FloatProgress(value=0.0, description='Iteration', max=7170.0, style=ProgressStyle(description_w…"
      ]
     },
     "metadata": {},
     "output_type": "display_data"
    },
    {
     "name": "stdout",
     "output_type": "stream",
     "text": [
      "{'loss': 3.15396875, 'learning_rate': 2.995118549511855e-05, 'epoch': 8.01952580195258, 'total_flos': 10063986366720000, 'step': 57500}\n",
      "{'loss': 3.1109375, 'learning_rate': 2.9776847977684802e-05, 'epoch': 8.089260808926081, 'total_flos': 10151499291648000, 'step': 58000}\n",
      "{'loss': 3.0875625, 'learning_rate': 2.960251046025105e-05, 'epoch': 8.158995815899582, 'total_flos': 10239012216576000, 'step': 58500}\n",
      "{'loss': 3.1081875, 'learning_rate': 2.9428172942817294e-05, 'epoch': 8.228730822873082, 'total_flos': 10326525141504000, 'step': 59000}\n",
      "{'loss': 3.143125, 'learning_rate': 2.9253835425383548e-05, 'epoch': 8.298465829846583, 'total_flos': 10414038066432000, 'step': 59500}\n",
      "{'loss': 3.0785625, 'learning_rate': 2.9079497907949792e-05, 'epoch': 8.368200836820083, 'total_flos': 10501550991360000, 'step': 60000}\n",
      "{'loss': 3.10921875, 'learning_rate': 2.890516039051604e-05, 'epoch': 8.437935843793584, 'total_flos': 10589063916288000, 'step': 60500}\n",
      "{'loss': 3.156125, 'learning_rate': 2.8730822873082286e-05, 'epoch': 8.507670850767084, 'total_flos': 10676576841216000, 'step': 61000}\n",
      "{'loss': 3.1229375, 'learning_rate': 2.8556485355648537e-05, 'epoch': 8.577405857740585, 'total_flos': 10764089766144000, 'step': 61500}\n",
      "{'loss': 3.069625, 'learning_rate': 2.8382147838214784e-05, 'epoch': 8.647140864714087, 'total_flos': 10851602691072000, 'step': 62000}\n",
      "{'loss': 3.09034375, 'learning_rate': 2.8207810320781032e-05, 'epoch': 8.716875871687588, 'total_flos': 10939115616000000, 'step': 62500}\n",
      "{'loss': 3.11503125, 'learning_rate': 2.8033472803347283e-05, 'epoch': 8.786610878661088, 'total_flos': 11026628540928000, 'step': 63000}\n",
      "{'loss': 3.1398125, 'learning_rate': 2.785913528591353e-05, 'epoch': 8.856345885634589, 'total_flos': 11114141465856000, 'step': 63500}\n",
      "{'loss': 3.0606875, 'learning_rate': 2.7684797768479774e-05, 'epoch': 8.92608089260809, 'total_flos': 11201654390784000, 'step': 64000}\n",
      "{'loss': 3.1306875, 'learning_rate': 2.7510460251046028e-05, 'epoch': 8.99581589958159, 'total_flos': 11289167315712000, 'step': 64500}\n",
      "\n"
     ]
    },
    {
     "data": {
      "application/vnd.jupyter.widget-view+json": {
       "model_id": "7f7640646f7746a1a17daef80b54c7b9",
       "version_major": 2,
       "version_minor": 0
      },
      "text/plain": [
       "HBox(children=(FloatProgress(value=0.0, description='Iteration', max=7170.0, style=ProgressStyle(description_w…"
      ]
     },
     "metadata": {},
     "output_type": "display_data"
    },
    {
     "name": "stdout",
     "output_type": "stream",
     "text": [
      "{'loss': 3.032625, 'learning_rate': 2.7336122733612275e-05, 'epoch': 9.06555090655509, 'total_flos': 11376680240640000, 'step': 65000}\n",
      "{'loss': 3.1238125, 'learning_rate': 2.716178521617852e-05, 'epoch': 9.135285913528591, 'total_flos': 11464193165568000, 'step': 65500}\n",
      "{'loss': 3.0245, 'learning_rate': 2.6987447698744773e-05, 'epoch': 9.205020920502092, 'total_flos': 11551706090496000, 'step': 66000}\n",
      "{'loss': 3.0774375, 'learning_rate': 2.6813110181311017e-05, 'epoch': 9.274755927475592, 'total_flos': 11639219015424000, 'step': 66500}\n",
      "{'loss': 3.0651875, 'learning_rate': 2.6638772663877265e-05, 'epoch': 9.344490934449093, 'total_flos': 11726731940352000, 'step': 67000}\n",
      "{'loss': 3.04271875, 'learning_rate': 2.6464435146443515e-05, 'epoch': 9.414225941422593, 'total_flos': 11814244865280000, 'step': 67500}\n",
      "{'loss': 2.9585, 'learning_rate': 2.6290097629009763e-05, 'epoch': 9.483960948396096, 'total_flos': 11901757790208000, 'step': 68000}\n",
      "{'loss': 3.0226875, 'learning_rate': 2.611576011157601e-05, 'epoch': 9.553695955369596, 'total_flos': 11989270715136000, 'step': 68500}\n",
      "{'loss': 3.0193125, 'learning_rate': 2.594142259414226e-05, 'epoch': 9.623430962343097, 'total_flos': 12076783640064000, 'step': 69000}\n",
      "{'loss': 3.05021875, 'learning_rate': 2.5767085076708508e-05, 'epoch': 9.693165969316597, 'total_flos': 12164296564992000, 'step': 69500}\n",
      "{'loss': 3.06740625, 'learning_rate': 2.5592747559274755e-05, 'epoch': 9.762900976290098, 'total_flos': 12251809489920000, 'step': 70000}\n",
      "{'loss': 3.03015625, 'learning_rate': 2.5418410041841006e-05, 'epoch': 9.832635983263598, 'total_flos': 12339322414848000, 'step': 70500}\n",
      "{'loss': 3.06415625, 'learning_rate': 2.5244072524407254e-05, 'epoch': 9.902370990237099, 'total_flos': 12426835339776000, 'step': 71000}\n",
      "{'loss': 3.0018125, 'learning_rate': 2.50697350069735e-05, 'epoch': 9.9721059972106, 'total_flos': 12514348264704000, 'step': 71500}\n",
      "\n"
     ]
    },
    {
     "data": {
      "application/vnd.jupyter.widget-view+json": {
       "model_id": "ae39a58b64804538bdbad09859228c3e",
       "version_major": 2,
       "version_minor": 0
      },
      "text/plain": [
       "HBox(children=(FloatProgress(value=0.0, description='Iteration', max=7170.0, style=ProgressStyle(description_w…"
      ]
     },
     "metadata": {},
     "output_type": "display_data"
    },
    {
     "name": "stdout",
     "output_type": "stream",
     "text": [
      "{'loss': 2.97359375, 'learning_rate': 2.489539748953975e-05, 'epoch': 10.0418410041841, 'total_flos': 12601861189632000, 'step': 72000}\n",
      "{'loss': 3.00228125, 'learning_rate': 2.4721059972106e-05, 'epoch': 10.1115760111576, 'total_flos': 12689374114560000, 'step': 72500}\n",
      "{'loss': 2.96125, 'learning_rate': 2.4546722454672246e-05, 'epoch': 10.181311018131101, 'total_flos': 12776887039488000, 'step': 73000}\n",
      "{'loss': 2.9653125, 'learning_rate': 2.4372384937238497e-05, 'epoch': 10.251046025104603, 'total_flos': 12864399964416000, 'step': 73500}\n",
      "{'loss': 2.9760625, 'learning_rate': 2.419804741980474e-05, 'epoch': 10.320781032078104, 'total_flos': 12951912889344000, 'step': 74000}\n",
      "{'loss': 2.99315625, 'learning_rate': 2.4023709902370992e-05, 'epoch': 10.390516039051604, 'total_flos': 13039425814272000, 'step': 74500}\n",
      "{'loss': 2.9490625, 'learning_rate': 2.3849372384937242e-05, 'epoch': 10.460251046025105, 'total_flos': 13126938739200000, 'step': 75000}\n",
      "{'loss': 2.93840625, 'learning_rate': 2.3675034867503486e-05, 'epoch': 10.529986052998606, 'total_flos': 13214451664128000, 'step': 75500}\n",
      "{'loss': 2.9955625, 'learning_rate': 2.3500697350069737e-05, 'epoch': 10.599721059972106, 'total_flos': 13301964589056000, 'step': 76000}\n",
      "{'loss': 2.9918125, 'learning_rate': 2.3326359832635984e-05, 'epoch': 10.669456066945607, 'total_flos': 13389477513984000, 'step': 76500}\n",
      "{'loss': 2.9565, 'learning_rate': 2.3152022315202232e-05, 'epoch': 10.739191073919107, 'total_flos': 13476990438912000, 'step': 77000}\n",
      "{'loss': 2.9715, 'learning_rate': 2.2977684797768483e-05, 'epoch': 10.808926080892608, 'total_flos': 13564503363840000, 'step': 77500}\n",
      "{'loss': 2.9986875, 'learning_rate': 2.280334728033473e-05, 'epoch': 10.878661087866108, 'total_flos': 13652016288768000, 'step': 78000}\n",
      "{'loss': 2.953125, 'learning_rate': 2.2629009762900977e-05, 'epoch': 10.948396094839609, 'total_flos': 13739529213696000, 'step': 78500}\n",
      "\n"
     ]
    },
    {
     "data": {
      "application/vnd.jupyter.widget-view+json": {
       "model_id": "30bd8bce0f694dbda160dd212c1c6400",
       "version_major": 2,
       "version_minor": 0
      },
      "text/plain": [
       "HBox(children=(FloatProgress(value=0.0, description='Iteration', max=7170.0, style=ProgressStyle(description_w…"
      ]
     },
     "metadata": {},
     "output_type": "display_data"
    },
    {
     "name": "stdout",
     "output_type": "stream",
     "text": [
      "{'loss': 2.9156875, 'learning_rate': 2.2454672245467225e-05, 'epoch': 11.01813110181311, 'total_flos': 13827042138624000, 'step': 79000}\n",
      "{'loss': 2.857625, 'learning_rate': 2.2280334728033475e-05, 'epoch': 11.087866108786612, 'total_flos': 13914555063552000, 'step': 79500}\n",
      "{'loss': 2.8651875, 'learning_rate': 2.2105997210599723e-05, 'epoch': 11.157601115760112, 'total_flos': 14002067988480000, 'step': 80000}\n",
      "{'loss': 2.948125, 'learning_rate': 2.193165969316597e-05, 'epoch': 11.227336122733613, 'total_flos': 14089580913408000, 'step': 80500}\n",
      "{'loss': 2.8740625, 'learning_rate': 2.175732217573222e-05, 'epoch': 11.297071129707113, 'total_flos': 14177093838336000, 'step': 81000}\n",
      "{'loss': 2.842875, 'learning_rate': 2.1582984658298465e-05, 'epoch': 11.366806136680614, 'total_flos': 14264606763264000, 'step': 81500}\n",
      "{'loss': 2.9383125, 'learning_rate': 2.1408647140864715e-05, 'epoch': 11.436541143654114, 'total_flos': 14352119688192000, 'step': 82000}\n",
      "{'loss': 2.880375, 'learning_rate': 2.1234309623430966e-05, 'epoch': 11.506276150627615, 'total_flos': 14439632613120000, 'step': 82500}\n",
      "{'loss': 2.9110625, 'learning_rate': 2.105997210599721e-05, 'epoch': 11.576011157601116, 'total_flos': 14527145538048000, 'step': 83000}\n",
      "{'loss': 2.902375, 'learning_rate': 2.088563458856346e-05, 'epoch': 11.645746164574616, 'total_flos': 14614658462976000, 'step': 83500}\n",
      "{'loss': 2.914125, 'learning_rate': 2.0711297071129708e-05, 'epoch': 11.715481171548117, 'total_flos': 14702171387904000, 'step': 84000}\n",
      "{'loss': 2.90475, 'learning_rate': 2.0536959553695955e-05, 'epoch': 11.785216178521617, 'total_flos': 14789684312832000, 'step': 84500}\n",
      "{'loss': 2.8888125, 'learning_rate': 2.0362622036262206e-05, 'epoch': 11.854951185495118, 'total_flos': 14877197237760000, 'step': 85000}\n",
      "{'loss': 2.9708125, 'learning_rate': 2.0188284518828454e-05, 'epoch': 11.92468619246862, 'total_flos': 14964710162688000, 'step': 85500}\n",
      "{'loss': 2.91175, 'learning_rate': 2.00139470013947e-05, 'epoch': 11.99442119944212, 'total_flos': 15052223087616000, 'step': 86000}\n",
      "\n"
     ]
    },
    {
     "data": {
      "application/vnd.jupyter.widget-view+json": {
       "model_id": "eade3841cd8f4047b45c76a3ca4b0f42",
       "version_major": 2,
       "version_minor": 0
      },
      "text/plain": [
       "HBox(children=(FloatProgress(value=0.0, description='Iteration', max=7170.0, style=ProgressStyle(description_w…"
      ]
     },
     "metadata": {},
     "output_type": "display_data"
    },
    {
     "name": "stdout",
     "output_type": "stream",
     "text": [
      "{'loss': 2.8461875, 'learning_rate': 1.9839609483960948e-05, 'epoch': 12.064156206415621, 'total_flos': 15139736012544000, 'step': 86500}\n",
      "{'loss': 2.842375, 'learning_rate': 1.96652719665272e-05, 'epoch': 12.133891213389122, 'total_flos': 15227248937472000, 'step': 87000}\n",
      "{'loss': 2.8266875, 'learning_rate': 1.9490934449093446e-05, 'epoch': 12.203626220362622, 'total_flos': 15314761862400000, 'step': 87500}\n",
      "{'loss': 2.815125, 'learning_rate': 1.9316596931659694e-05, 'epoch': 12.273361227336123, 'total_flos': 15402274787328000, 'step': 88000}\n",
      "{'loss': 2.8264375, 'learning_rate': 1.9142259414225944e-05, 'epoch': 12.343096234309623, 'total_flos': 15489787712256000, 'step': 88500}\n",
      "{'loss': 2.8715625, 'learning_rate': 1.8967921896792192e-05, 'epoch': 12.412831241283124, 'total_flos': 15577300637184000, 'step': 89000}\n",
      "{'loss': 2.855375, 'learning_rate': 1.879358437935844e-05, 'epoch': 12.482566248256624, 'total_flos': 15664813562112000, 'step': 89500}\n",
      "{'loss': 2.8875, 'learning_rate': 1.8619246861924686e-05, 'epoch': 12.552301255230125, 'total_flos': 15752326487040000, 'step': 90000}\n",
      "{'loss': 2.8591875, 'learning_rate': 1.8444909344490934e-05, 'epoch': 12.622036262203626, 'total_flos': 15839839411968000, 'step': 90500}\n",
      "{'loss': 2.851375, 'learning_rate': 1.8270571827057184e-05, 'epoch': 12.691771269177128, 'total_flos': 15927352336896000, 'step': 91000}\n",
      "{'loss': 2.9158125, 'learning_rate': 1.8096234309623432e-05, 'epoch': 12.761506276150628, 'total_flos': 16014865261824000, 'step': 91500}\n",
      "{'loss': 2.8071875, 'learning_rate': 1.792189679218968e-05, 'epoch': 12.831241283124129, 'total_flos': 16102378186752000, 'step': 92000}\n",
      "{'loss': 2.8823125, 'learning_rate': 1.774755927475593e-05, 'epoch': 12.90097629009763, 'total_flos': 16189891111680000, 'step': 92500}\n",
      "{'loss': 2.7745625, 'learning_rate': 1.7573221757322174e-05, 'epoch': 12.97071129707113, 'total_flos': 16277404036608000, 'step': 93000}\n",
      "\n"
     ]
    },
    {
     "data": {
      "application/vnd.jupyter.widget-view+json": {
       "model_id": "e5ba73c583ac47299443f8d6d95b27e4",
       "version_major": 2,
       "version_minor": 0
      },
      "text/plain": [
       "HBox(children=(FloatProgress(value=0.0, description='Iteration', max=7170.0, style=ProgressStyle(description_w…"
      ]
     },
     "metadata": {},
     "output_type": "display_data"
    },
    {
     "name": "stdout",
     "output_type": "stream",
     "text": [
      "{'loss': 2.7785, 'learning_rate': 1.7398884239888425e-05, 'epoch': 13.04044630404463, 'total_flos': 16364916961536000, 'step': 93500}\n",
      "{'loss': 2.751875, 'learning_rate': 1.7224546722454672e-05, 'epoch': 13.110181311018131, 'total_flos': 16452429886464000, 'step': 94000}\n",
      "{'loss': 2.7639375, 'learning_rate': 1.705020920502092e-05, 'epoch': 13.179916317991632, 'total_flos': 16539942811392000, 'step': 94500}\n",
      "{'loss': 2.800625, 'learning_rate': 1.687587168758717e-05, 'epoch': 13.249651324965132, 'total_flos': 16627455736320000, 'step': 95000}\n",
      "{'loss': 2.8115625, 'learning_rate': 1.6701534170153417e-05, 'epoch': 13.319386331938633, 'total_flos': 16714968661248000, 'step': 95500}\n",
      "{'loss': 2.7735625, 'learning_rate': 1.6527196652719665e-05, 'epoch': 13.389121338912133, 'total_flos': 16802481586176000, 'step': 96000}\n",
      "{'loss': 2.7926875, 'learning_rate': 1.6352859135285915e-05, 'epoch': 13.458856345885634, 'total_flos': 16889994511104000, 'step': 96500}\n",
      "{'loss': 2.829, 'learning_rate': 1.6178521617852163e-05, 'epoch': 13.528591352859134, 'total_flos': 16977507436032000, 'step': 97000}\n",
      "{'loss': 2.8086875, 'learning_rate': 1.600418410041841e-05, 'epoch': 13.598326359832637, 'total_flos': 17065020360960000, 'step': 97500}\n",
      "{'loss': 2.7460625, 'learning_rate': 1.5829846582984657e-05, 'epoch': 13.668061366806137, 'total_flos': 17152533285888000, 'step': 98000}\n",
      "{'loss': 2.7956875, 'learning_rate': 1.5655509065550908e-05, 'epoch': 13.737796373779638, 'total_flos': 17240046210816000, 'step': 98500}\n",
      "{'loss': 2.790375, 'learning_rate': 1.5481171548117155e-05, 'epoch': 13.807531380753138, 'total_flos': 17327559135744000, 'step': 99000}\n",
      "{'loss': 2.758, 'learning_rate': 1.5306834030683403e-05, 'epoch': 13.877266387726639, 'total_flos': 17415072060672000, 'step': 99500}\n",
      "{'loss': 2.791125, 'learning_rate': 1.5132496513249652e-05, 'epoch': 13.94700139470014, 'total_flos': 17502584985600000, 'step': 100000}\n",
      "\n"
     ]
    },
    {
     "data": {
      "application/vnd.jupyter.widget-view+json": {
       "model_id": "6254e81cb6074b0c86c656696583f112",
       "version_major": 2,
       "version_minor": 0
      },
      "text/plain": [
       "HBox(children=(FloatProgress(value=0.0, description='Iteration', max=7170.0, style=ProgressStyle(description_w…"
      ]
     },
     "metadata": {},
     "output_type": "display_data"
    },
    {
     "name": "stdout",
     "output_type": "stream",
     "text": [
      "{'loss': 2.7670625, 'learning_rate': 1.49581589958159e-05, 'epoch': 14.01673640167364, 'total_flos': 17590097910528000, 'step': 100500}\n",
      "{'loss': 2.7289375, 'learning_rate': 1.4783821478382148e-05, 'epoch': 14.08647140864714, 'total_flos': 17677610835456000, 'step': 101000}\n",
      "{'loss': 2.7565625, 'learning_rate': 1.4609483960948397e-05, 'epoch': 14.156206415620641, 'total_flos': 17765123760384000, 'step': 101500}\n",
      "{'loss': 2.7595625, 'learning_rate': 1.4435146443514645e-05, 'epoch': 14.225941422594142, 'total_flos': 17852636685312000, 'step': 102000}\n",
      "{'loss': 2.741375, 'learning_rate': 1.4260808926080894e-05, 'epoch': 14.295676429567642, 'total_flos': 17940149610240000, 'step': 102500}\n",
      "{'loss': 2.81175, 'learning_rate': 1.4086471408647143e-05, 'epoch': 14.365411436541144, 'total_flos': 18027662535168000, 'step': 103000}\n",
      "{'loss': 2.6976875, 'learning_rate': 1.3912133891213388e-05, 'epoch': 14.435146443514645, 'total_flos': 18115175460096000, 'step': 103500}\n",
      "{'loss': 2.7704375, 'learning_rate': 1.3737796373779637e-05, 'epoch': 14.504881450488146, 'total_flos': 18202688385024000, 'step': 104000}\n",
      "{'loss': 2.657375, 'learning_rate': 1.3563458856345886e-05, 'epoch': 14.574616457461646, 'total_flos': 18290201309952000, 'step': 104500}\n",
      "{'loss': 2.7595, 'learning_rate': 1.3389121338912134e-05, 'epoch': 14.644351464435147, 'total_flos': 18377714234880000, 'step': 105000}\n",
      "{'loss': 2.718, 'learning_rate': 1.3214783821478383e-05, 'epoch': 14.714086471408647, 'total_flos': 18465227159808000, 'step': 105500}\n",
      "{'loss': 2.690375, 'learning_rate': 1.3040446304044632e-05, 'epoch': 14.783821478382148, 'total_flos': 18552740084736000, 'step': 106000}\n",
      "{'loss': 2.7168125, 'learning_rate': 1.2866108786610877e-05, 'epoch': 14.853556485355648, 'total_flos': 18640253009664000, 'step': 106500}\n",
      "{'loss': 2.7408125, 'learning_rate': 1.2691771269177126e-05, 'epoch': 14.923291492329149, 'total_flos': 18727765934592000, 'step': 107000}\n",
      "{'loss': 2.742, 'learning_rate': 1.2517433751743377e-05, 'epoch': 14.99302649930265, 'total_flos': 18815278859520000, 'step': 107500}\n",
      "\n"
     ]
    },
    {
     "data": {
      "application/vnd.jupyter.widget-view+json": {
       "model_id": "e897f87211fb47b684824dc3d2915009",
       "version_major": 2,
       "version_minor": 0
      },
      "text/plain": [
       "HBox(children=(FloatProgress(value=0.0, description='Iteration', max=7170.0, style=ProgressStyle(description_w…"
      ]
     },
     "metadata": {},
     "output_type": "display_data"
    },
    {
     "name": "stdout",
     "output_type": "stream",
     "text": [
      "{'loss': 2.7471875, 'learning_rate': 1.2343096234309625e-05, 'epoch': 15.06276150627615, 'total_flos': 18902791784448000, 'step': 108000}\n",
      "{'loss': 2.692, 'learning_rate': 1.2168758716875872e-05, 'epoch': 15.13249651324965, 'total_flos': 18990304709376000, 'step': 108500}\n",
      "{'loss': 2.6835, 'learning_rate': 1.199442119944212e-05, 'epoch': 15.202231520223153, 'total_flos': 19077817634304000, 'step': 109000}\n",
      "{'loss': 2.70325, 'learning_rate': 1.1820083682008368e-05, 'epoch': 15.271966527196653, 'total_flos': 19165330559232000, 'step': 109500}\n",
      "{'loss': 2.6871875, 'learning_rate': 1.1645746164574617e-05, 'epoch': 15.341701534170154, 'total_flos': 19252843484160000, 'step': 110000}\n",
      "{'loss': 2.69925, 'learning_rate': 1.1471408647140865e-05, 'epoch': 15.411436541143654, 'total_flos': 19340356409088000, 'step': 110500}\n",
      "{'loss': 2.665875, 'learning_rate': 1.1297071129707114e-05, 'epoch': 15.481171548117155, 'total_flos': 19427869334016000, 'step': 111000}\n",
      "{'loss': 2.6655, 'learning_rate': 1.1122733612273361e-05, 'epoch': 15.550906555090656, 'total_flos': 19515382258944000, 'step': 111500}\n",
      "{'loss': 2.7044375, 'learning_rate': 1.094839609483961e-05, 'epoch': 15.620641562064156, 'total_flos': 19602895183872000, 'step': 112000}\n",
      "{'loss': 2.7445, 'learning_rate': 1.0774058577405859e-05, 'epoch': 15.690376569037657, 'total_flos': 19690408108800000, 'step': 112500}\n",
      "{'loss': 2.7648125, 'learning_rate': 1.0599721059972106e-05, 'epoch': 15.760111576011157, 'total_flos': 19777921033728000, 'step': 113000}\n",
      "{'loss': 2.712625, 'learning_rate': 1.0425383542538354e-05, 'epoch': 15.829846582984658, 'total_flos': 19865433958656000, 'step': 113500}\n",
      "{'loss': 2.6935, 'learning_rate': 1.0251046025104603e-05, 'epoch': 15.899581589958158, 'total_flos': 19952946883584000, 'step': 114000}\n",
      "{'loss': 2.677625, 'learning_rate': 1.0076708507670852e-05, 'epoch': 15.969316596931659, 'total_flos': 20040459808512000, 'step': 114500}\n",
      "\n"
     ]
    },
    {
     "data": {
      "application/vnd.jupyter.widget-view+json": {
       "model_id": "19b94b7abbad40d9846e48413adb71d6",
       "version_major": 2,
       "version_minor": 0
      },
      "text/plain": [
       "HBox(children=(FloatProgress(value=0.0, description='Iteration', max=7170.0, style=ProgressStyle(description_w…"
      ]
     },
     "metadata": {},
     "output_type": "display_data"
    },
    {
     "name": "stdout",
     "output_type": "stream",
     "text": [
      "{'loss': 2.7176875, 'learning_rate': 9.9023709902371e-06, 'epoch': 16.03905160390516, 'total_flos': 20127972733440000, 'step': 115000}\n",
      "{'loss': 2.6479375, 'learning_rate': 9.728033472803348e-06, 'epoch': 16.10878661087866, 'total_flos': 20215485658368000, 'step': 115500}\n",
      "{'loss': 2.6415, 'learning_rate': 9.553695955369596e-06, 'epoch': 16.178521617852162, 'total_flos': 20302998583296000, 'step': 116000}\n",
      "{'loss': 2.5889375, 'learning_rate': 9.379358437935843e-06, 'epoch': 16.24825662482566, 'total_flos': 20390511508224000, 'step': 116500}\n",
      "{'loss': 2.7016875, 'learning_rate': 9.205020920502094e-06, 'epoch': 16.317991631799163, 'total_flos': 20478024433152000, 'step': 117000}\n",
      "{'loss': 2.633125, 'learning_rate': 9.030683403068341e-06, 'epoch': 16.387726638772662, 'total_flos': 20565537358080000, 'step': 117500}\n",
      "{'loss': 2.7150625, 'learning_rate': 8.856345885634588e-06, 'epoch': 16.457461645746164, 'total_flos': 20653050283008000, 'step': 118000}\n",
      "{'loss': 2.65525, 'learning_rate': 8.682008368200837e-06, 'epoch': 16.527196652719667, 'total_flos': 20740563207936000, 'step': 118500}\n",
      "{'loss': 2.6758125, 'learning_rate': 8.507670850767085e-06, 'epoch': 16.596931659693166, 'total_flos': 20828076132864000, 'step': 119000}\n",
      "{'loss': 2.6323125, 'learning_rate': 8.333333333333334e-06, 'epoch': 16.666666666666668, 'total_flos': 20915589057792000, 'step': 119500}\n",
      "{'loss': 2.614875, 'learning_rate': 8.158995815899583e-06, 'epoch': 16.736401673640167, 'total_flos': 21003101982720000, 'step': 120000}\n",
      "{'loss': 2.6385625, 'learning_rate': 7.98465829846583e-06, 'epoch': 16.80613668061367, 'total_flos': 21090614907648000, 'step': 120500}\n",
      "{'loss': 2.64025, 'learning_rate': 7.810320781032077e-06, 'epoch': 16.875871687587168, 'total_flos': 21178127832576000, 'step': 121000}\n",
      "{'loss': 2.629625, 'learning_rate': 7.635983263598326e-06, 'epoch': 16.94560669456067, 'total_flos': 21265640757504000, 'step': 121500}\n",
      "\n"
     ]
    },
    {
     "data": {
      "application/vnd.jupyter.widget-view+json": {
       "model_id": "f66d156d704043a2bc8a63a823ad2143",
       "version_major": 2,
       "version_minor": 0
      },
      "text/plain": [
       "HBox(children=(FloatProgress(value=0.0, description='Iteration', max=7170.0, style=ProgressStyle(description_w…"
      ]
     },
     "metadata": {},
     "output_type": "display_data"
    },
    {
     "name": "stdout",
     "output_type": "stream",
     "text": [
      "{'loss': 2.6475, 'learning_rate': 7.461645746164575e-06, 'epoch': 17.01534170153417, 'total_flos': 21353153682432000, 'step': 122000}\n",
      "{'loss': 2.6516875, 'learning_rate': 7.287308228730823e-06, 'epoch': 17.08507670850767, 'total_flos': 21440666607360000, 'step': 122500}\n",
      "{'loss': 2.626625, 'learning_rate': 7.112970711297072e-06, 'epoch': 17.15481171548117, 'total_flos': 21528179532288000, 'step': 123000}\n",
      "{'loss': 2.6019375, 'learning_rate': 6.93863319386332e-06, 'epoch': 17.224546722454672, 'total_flos': 21615692457216000, 'step': 123500}\n",
      "{'loss': 2.6725, 'learning_rate': 6.7642956764295674e-06, 'epoch': 17.294281729428175, 'total_flos': 21703205382144000, 'step': 124000}\n",
      "{'loss': 2.567625, 'learning_rate': 6.5899581589958165e-06, 'epoch': 17.364016736401673, 'total_flos': 21790718307072000, 'step': 124500}\n",
      "{'loss': 2.6620625, 'learning_rate': 6.415620641562065e-06, 'epoch': 17.433751743375176, 'total_flos': 21878231232000000, 'step': 125000}\n",
      "{'loss': 2.6303125, 'learning_rate': 6.241283124128313e-06, 'epoch': 17.503486750348674, 'total_flos': 21965744156928000, 'step': 125500}\n",
      "{'loss': 2.6081875, 'learning_rate': 6.066945606694561e-06, 'epoch': 17.573221757322177, 'total_flos': 22053257081856000, 'step': 126000}\n",
      "{'loss': 2.63075, 'learning_rate': 5.892608089260809e-06, 'epoch': 17.642956764295675, 'total_flos': 22140770006784000, 'step': 126500}\n",
      "{'loss': 2.5791875, 'learning_rate': 5.718270571827057e-06, 'epoch': 17.712691771269178, 'total_flos': 22228282931712000, 'step': 127000}\n",
      "{'loss': 2.61325, 'learning_rate': 5.543933054393306e-06, 'epoch': 17.782426778242677, 'total_flos': 22315795856640000, 'step': 127500}\n",
      "{'loss': 2.6606875, 'learning_rate': 5.369595536959554e-06, 'epoch': 17.85216178521618, 'total_flos': 22403308781568000, 'step': 128000}\n",
      "{'loss': 2.5568125, 'learning_rate': 5.195258019525802e-06, 'epoch': 17.921896792189678, 'total_flos': 22490821706496000, 'step': 128500}\n",
      "{'loss': 2.5805, 'learning_rate': 5.02092050209205e-06, 'epoch': 17.99163179916318, 'total_flos': 22578334631424000, 'step': 129000}\n",
      "\n"
     ]
    },
    {
     "data": {
      "application/vnd.jupyter.widget-view+json": {
       "model_id": "4807d239e0ce4736b351ceb76e689975",
       "version_major": 2,
       "version_minor": 0
      },
      "text/plain": [
       "HBox(children=(FloatProgress(value=0.0, description='Iteration', max=7170.0, style=ProgressStyle(description_w…"
      ]
     },
     "metadata": {},
     "output_type": "display_data"
    },
    {
     "name": "stdout",
     "output_type": "stream",
     "text": [
      "{'loss': 2.633625, 'learning_rate': 4.846582984658299e-06, 'epoch': 18.061366806136682, 'total_flos': 22665847556352000, 'step': 129500}\n",
      "{'loss': 2.621125, 'learning_rate': 4.6722454672245465e-06, 'epoch': 18.13110181311018, 'total_flos': 22753360481280000, 'step': 130000}\n",
      "{'loss': 2.6181875, 'learning_rate': 4.497907949790795e-06, 'epoch': 18.200836820083683, 'total_flos': 22840873406208000, 'step': 130500}\n",
      "{'loss': 2.6068125, 'learning_rate': 4.323570432357044e-06, 'epoch': 18.270571827057182, 'total_flos': 22928386331136000, 'step': 131000}\n",
      "{'loss': 2.614125, 'learning_rate': 4.149232914923291e-06, 'epoch': 18.340306834030685, 'total_flos': 23015899256064000, 'step': 131500}\n",
      "{'loss': 2.6053125, 'learning_rate': 3.97489539748954e-06, 'epoch': 18.410041841004183, 'total_flos': 23103412180992000, 'step': 132000}\n",
      "{'loss': 2.511375, 'learning_rate': 3.8005578800557883e-06, 'epoch': 18.479776847977686, 'total_flos': 23190925105920000, 'step': 132500}\n",
      "{'loss': 2.5771875, 'learning_rate': 3.626220362622036e-06, 'epoch': 18.549511854951184, 'total_flos': 23278438030848000, 'step': 133000}\n",
      "{'loss': 2.6239375, 'learning_rate': 3.4518828451882847e-06, 'epoch': 18.619246861924687, 'total_flos': 23365950955776000, 'step': 133500}\n",
      "{'loss': 2.554625, 'learning_rate': 3.2775453277545333e-06, 'epoch': 18.688981868898185, 'total_flos': 23453463880704000, 'step': 134000}\n",
      "{'loss': 2.582125, 'learning_rate': 3.1032078103207815e-06, 'epoch': 18.758716875871688, 'total_flos': 23540976805632000, 'step': 134500}\n",
      "{'loss': 2.57925, 'learning_rate': 2.9288702928870293e-06, 'epoch': 18.828451882845187, 'total_flos': 23628489730560000, 'step': 135000}\n",
      "{'loss': 2.582125, 'learning_rate': 2.7545327754532774e-06, 'epoch': 18.89818688981869, 'total_flos': 23716002655488000, 'step': 135500}\n",
      "{'loss': 2.5839375, 'learning_rate': 2.580195258019526e-06, 'epoch': 18.96792189679219, 'total_flos': 23803515580416000, 'step': 136000}\n",
      "\n"
     ]
    },
    {
     "data": {
      "application/vnd.jupyter.widget-view+json": {
       "model_id": "4e3f34beb11f445588b6e70460c4eab3",
       "version_major": 2,
       "version_minor": 0
      },
      "text/plain": [
       "HBox(children=(FloatProgress(value=0.0, description='Iteration', max=7170.0, style=ProgressStyle(description_w…"
      ]
     },
     "metadata": {},
     "output_type": "display_data"
    },
    {
     "name": "stdout",
     "output_type": "stream",
     "text": [
      "{'loss': 2.5181875, 'learning_rate': 2.4058577405857742e-06, 'epoch': 19.03765690376569, 'total_flos': 23891028505344000, 'step': 136500}\n",
      "{'loss': 2.5429375, 'learning_rate': 2.2315202231520224e-06, 'epoch': 19.107391910739192, 'total_flos': 23978541430272000, 'step': 137000}\n",
      "{'loss': 2.5803125, 'learning_rate': 2.057182705718271e-06, 'epoch': 19.17712691771269, 'total_flos': 24066054355200000, 'step': 137500}\n",
      "{'loss': 2.521375, 'learning_rate': 1.882845188284519e-06, 'epoch': 19.246861924686193, 'total_flos': 24153567280128000, 'step': 138000}\n",
      "{'loss': 2.55575, 'learning_rate': 1.7085076708507672e-06, 'epoch': 19.316596931659692, 'total_flos': 24241080205056000, 'step': 138500}\n",
      "{'loss': 2.5885625, 'learning_rate': 1.5341701534170154e-06, 'epoch': 19.386331938633194, 'total_flos': 24328593129984000, 'step': 139000}\n",
      "{'loss': 2.5526875, 'learning_rate': 1.3598326359832638e-06, 'epoch': 19.456066945606693, 'total_flos': 24416106054912000, 'step': 139500}\n",
      "{'loss': 2.537875, 'learning_rate': 1.185495118549512e-06, 'epoch': 19.525801952580196, 'total_flos': 24503618979840000, 'step': 140000}\n",
      "{'loss': 2.6083125, 'learning_rate': 1.0111576011157602e-06, 'epoch': 19.595536959553694, 'total_flos': 24591131904768000, 'step': 140500}\n",
      "{'loss': 2.5279375, 'learning_rate': 8.368200836820084e-07, 'epoch': 19.665271966527197, 'total_flos': 24678644829696000, 'step': 141000}\n",
      "{'loss': 2.5591875, 'learning_rate': 6.624825662482567e-07, 'epoch': 19.7350069735007, 'total_flos': 24766157754624000, 'step': 141500}\n",
      "{'loss': 2.61925, 'learning_rate': 4.881450488145048e-07, 'epoch': 19.804741980474198, 'total_flos': 24853670679552000, 'step': 142000}\n",
      "{'loss': 2.5994375, 'learning_rate': 3.1380753138075313e-07, 'epoch': 19.8744769874477, 'total_flos': 24941183604480000, 'step': 142500}\n",
      "{'loss': 2.6399375, 'learning_rate': 1.394700139470014e-07, 'epoch': 19.9442119944212, 'total_flos': 25028696529408000, 'step': 143000}\n",
      "\n",
      "\n"
     ]
    },
    {
     "data": {
      "text/plain": [
       "TrainOutput(global_step=143400, training_loss=3.116657078103208)"
      ]
     },
     "execution_count": 18,
     "metadata": {},
     "output_type": "execute_result"
    }
   ],
   "source": [
    "trainer.train()"
   ]
  },
  {
   "cell_type": "code",
   "execution_count": 19,
   "metadata": {
    "jupyter": {
     "outputs_hidden": false,
     "source_hidden": false
    },
    "nteract": {
     "transient": {
      "deleting": false
     }
    }
   },
   "outputs": [],
   "source": [
    "trainer.save_model(\"amd_bert-base-uncased\")"
   ]
  },
  {
   "cell_type": "code",
   "execution_count": null,
   "metadata": {
    "jupyter": {
     "outputs_hidden": false,
     "source_hidden": false
    },
    "nteract": {
     "transient": {
      "deleting": false
     }
    }
   },
   "outputs": [],
   "source": []
  },
  {
   "cell_type": "code",
   "execution_count": null,
   "metadata": {},
   "outputs": [],
   "source": []
  }
 ],
 "metadata": {
  "kernel_info": {
   "name": "python3-azureml"
  },
  "kernelspec": {
   "display_name": "Python 3.6 - AzureML",
   "language": "python",
   "name": "python3-azureml"
  },
  "language_info": {
   "codemirror_mode": {
    "name": "ipython",
    "version": 3
   },
   "file_extension": ".py",
   "mimetype": "text/x-python",
   "name": "python",
   "nbconvert_exporter": "python",
   "pygments_lexer": "ipython3",
   "version": "3.6.9"
  },
  "nteract": {
   "version": "nteract-front-end@1.0.0"
  }
 },
 "nbformat": 4,
 "nbformat_minor": 2
}
