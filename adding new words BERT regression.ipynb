{
 "cells": [
  {
   "cell_type": "code",
   "execution_count": 1,
   "metadata": {
    "gather": {
     "logged": 1602088170955
    }
   },
   "outputs": [],
   "source": [
    "# Importing the libraries needed\n",
    "import pandas as pd\n",
    "import numpy as np\n",
    "import torch\n",
    "import transformers\n",
    "from torch.utils.data import Dataset, DataLoader\n",
    "from transformers import DistilBertModel, DistilBertTokenizer\n",
    "from nltk.stem import PorterStemmer \n",
    "from nltk.stem import WordNetLemmatizer \n",
    "import nltk as nltk\n",
    "import re\n",
    "from bs4 import BeautifulSoup\n",
    "from nltk.corpus import stopwords\n",
    "from wordcloud import WordCloud, STOPWORDS, ImageColorGenerator\n",
    "import string\n",
    "from nltk.tokenize import word_tokenize"
   ]
  },
  {
   "cell_type": "code",
   "execution_count": 2,
   "metadata": {
    "gather": {
     "logged": 1602088263164
    },
    "jupyter": {
     "outputs_hidden": false,
     "source_hidden": false
    },
    "nteract": {
     "transient": {
      "deleting": false
     }
    }
   },
   "outputs": [
    {
     "name": "stdout",
     "output_type": "stream",
     "text": [
      "\n",
      "\n",
      "Null Value list \n",
      " Title                        0\n",
      "Domain                       0\n",
      "Area                      2444\n",
      "BudgetLine                1728\n",
      "ProjectName                  0\n",
      "ProjectDescription           0\n",
      "Region                    1441\n",
      "RequirementDescription      71\n",
      "SolutionSummary           3994\n",
      "SolutionDescription       3790\n",
      "SolutionAssumption        6955\n",
      "ProductName               3093\n",
      "RecommendedPricing         264\n",
      "Sizing_bins               3765\n",
      "dtype: int64\n",
      "\n",
      "\n",
      "<class 'pandas.core.frame.DataFrame'>\n",
      "RangeIndex: 11113 entries, 0 to 11112\n",
      "Data columns (total 14 columns):\n",
      "Title                     11113 non-null object\n",
      "Domain                    11113 non-null object\n",
      "Area                      8669 non-null object\n",
      "BudgetLine                9385 non-null object\n",
      "ProjectName               11113 non-null object\n",
      "ProjectDescription        11113 non-null object\n",
      "Region                    9672 non-null object\n",
      "RequirementDescription    11042 non-null object\n",
      "SolutionSummary           7119 non-null object\n",
      "SolutionDescription       7323 non-null object\n",
      "SolutionAssumption        4158 non-null object\n",
      "ProductName               8020 non-null object\n",
      "RecommendedPricing        10849 non-null object\n",
      "Sizing_bins               7348 non-null float64\n",
      "dtypes: float64(1), object(13)\n",
      "memory usage: 1.2+ MB\n",
      "None\n"
     ]
    }
   ],
   "source": [
    "df=pd.read_excel('data_sizing_bin1.xlsx')\n",
    "df=df.drop(['Unnamed: 0',\n",
    " 'Unnamed: 0.1',\n",
    " 'TaskID',\n",
    "'BudgetLineID',\n",
    " 'ProjectID',\n",
    " 'RegionID','CurrentProcess',\n",
    " 'PCPNumber',\n",
    " 'CR',\n",
    " 'PCPType','TaskStatus',\n",
    " 'DescopeReason','OOM',\n",
    " 'OOMStr', 'CategoryKeyword',\n",
    " 'LateUATJustification',\n",
    " 'OOMForumReview',\n",
    " 'OOMForumApproved',\n",
    " 'ExpiryFlag',\n",
    " 'DateOpen',\n",
    " 'OpenYear',\n",
    " 'AssessmentMode',\n",
    " 'OOMForumComments',\n",
    " 'OOMComments',\n",
    " 'AssessmentInfoComments',\n",
    " 'PCPComments','PCPCategory',\n",
    " 'Itemization',\n",
    " 'UpdatedDate','Sizing_cpy','UATDuration','AssessmentCategory','DomainID','AreaID','FundingSolution','totalwords_RequirementDescription','Sizing'],axis=1)\n",
    "cname=list(df.columns)\n",
    "df=df.reset_index(drop = True)\n",
    "df['Sizing_bins']=df['Sizing_bins'].replace(['Very Small','Small','Medium','Large'], [0,1,2,3])\n",
    "#df=df.drop(['Sizing_bins'],axis=1)\n",
    "print('\\n')\n",
    "print('Null Value list \\n',df.isnull().sum())\n",
    "print('\\n') \n",
    "print(df.info())"
   ]
  },
  {
   "cell_type": "code",
   "execution_count": 3,
   "metadata": {
    "gather": {
     "logged": 1602088306459
    },
    "jupyter": {
     "outputs_hidden": false,
     "source_hidden": false
    },
    "nteract": {
     "transient": {
      "deleting": false
     }
    }
   },
   "outputs": [
    {
     "name": "stdout",
     "output_type": "stream",
     "text": [
      "<class 'pandas.core.frame.DataFrame'>\n",
      "RangeIndex: 11113 entries, 0 to 11112\n",
      "Data columns (total 14 columns):\n",
      "Title                     11113 non-null object\n",
      "Domain                    11113 non-null object\n",
      "Area                      8669 non-null object\n",
      "BudgetLine                9385 non-null object\n",
      "ProjectName               11113 non-null object\n",
      "ProjectDescription        11113 non-null object\n",
      "Region                    9672 non-null object\n",
      "RequirementDescription    11042 non-null object\n",
      "SolutionSummary           7119 non-null object\n",
      "SolutionDescription       7323 non-null object\n",
      "SolutionAssumption        4158 non-null object\n",
      "ProductName               8020 non-null object\n",
      "RecommendedPricing        10849 non-null object\n",
      "Sizing_bins               7348 non-null float64\n",
      "dtypes: float64(1), object(13)\n",
      "memory usage: 1.2+ MB\n"
     ]
    }
   ],
   "source": [
    "df.info()"
   ]
  },
  {
   "cell_type": "code",
   "execution_count": 4,
   "metadata": {
    "gather": {
     "logged": 1602088324218
    },
    "jupyter": {
     "outputs_hidden": false,
     "source_hidden": false
    },
    "nteract": {
     "transient": {
      "deleting": false
     }
    }
   },
   "outputs": [
    {
     "name": "stdout",
     "output_type": "stream",
     "text": [
      "<class 'pandas.core.frame.DataFrame'>\n",
      "RangeIndex: 11113 entries, 0 to 11112\n",
      "Data columns (total 14 columns):\n",
      "Title                     11113 non-null object\n",
      "Domain                    11113 non-null object\n",
      "Area                      11113 non-null object\n",
      "BudgetLine                11113 non-null object\n",
      "ProjectName               11113 non-null object\n",
      "ProjectDescription        11113 non-null object\n",
      "Region                    11113 non-null object\n",
      "RequirementDescription    11113 non-null object\n",
      "SolutionSummary           11113 non-null object\n",
      "SolutionDescription       11113 non-null object\n",
      "SolutionAssumption        11113 non-null object\n",
      "ProductName               11113 non-null object\n",
      "RecommendedPricing        11113 non-null object\n",
      "Sizing_bins               11113 non-null object\n",
      "dtypes: object(14)\n",
      "memory usage: 1.2+ MB\n"
     ]
    }
   ],
   "source": [
    "df=df.astype(str)\n",
    "df.info()"
   ]
  },
  {
   "cell_type": "code",
   "execution_count": 5,
   "metadata": {
    "gather": {
     "logged": 1602088341314
    },
    "jupyter": {
     "outputs_hidden": false,
     "source_hidden": false
    },
    "nteract": {
     "transient": {
      "deleting": false
     }
    }
   },
   "outputs": [],
   "source": [
    "REPLACE_BY_SPACE_RE = re.compile('[/(){}\\[\\]\\|@,;]')\n",
    "BAD_SYMBOLS_RE = re.compile('[^0-9a-z #+_]')\n",
    "REMOVE_NUMBERS =re.compile(\"[\\d+]\")\n",
    "STOPWORDS = set(stopwords.words('english'))\n",
    "\n",
    "\n",
    "def clean_text(text):\n",
    "    \"\"\"\n",
    "        text: a string\n",
    "        \n",
    "        return: modified initial string\n",
    "    \"\"\"\n",
    "    text = BeautifulSoup(text, \"lxml\").text # HTML decoding\n",
    "    text = text.lower() # lowercase text\n",
    "    text = REPLACE_BY_SPACE_RE.sub(' ', text) # replace REPLACE_BY_SPACE_RE symbols by space in text\n",
    "    text = REMOVE_NUMBERS.sub('',text) # replace REMOVE_NUMBERS by space in text\n",
    "    text = BAD_SYMBOLS_RE.sub('', text) # delete symbols which are in BAD_SYMBOLS_RE from text\n",
    "    text = ' '.join(word for word in text.split() if word not in STOPWORDS)# delete stopwors from text\n",
    "    #text = ' '.join(word for word in text.split() if word not in common_words)\n",
    "    return text"
   ]
  },
  {
   "cell_type": "code",
   "execution_count": 6,
   "metadata": {
    "gather": {
     "logged": 1602088437366
    },
    "jupyter": {
     "outputs_hidden": false,
     "source_hidden": false
    },
    "nteract": {
     "transient": {
      "deleting": false
     }
    }
   },
   "outputs": [
    {
     "name": "stderr",
     "output_type": "stream",
     "text": [
      "/anaconda/envs/azureml_py36/lib/python3.6/site-packages/bs4/__init__.py:333: MarkupResemblesLocatorWarning: \".\" looks like a filename, not markup. You should probably open this file and pass the filehandle into Beautiful Soup.\n",
      "  MarkupResemblesLocatorWarning\n",
      "/anaconda/envs/azureml_py36/lib/python3.6/site-packages/bs4/__init__.py:421: MarkupResemblesLocatorWarning: \"https://rndwww.nce.amadeus.net/agile/browse/HITPP-1238\" looks like a URL. Beautiful Soup is not an HTTP client. You should probably use an HTTP client like requests to get the document behind the URL, and feed that document to Beautiful Soup.\n",
      "  MarkupResemblesLocatorWarning\n",
      "/anaconda/envs/azureml_py36/lib/python3.6/site-packages/bs4/__init__.py:421: MarkupResemblesLocatorWarning: \"https://rndwww.nce.amadeus.net/agile/browse/HITPP-1239\" looks like a URL. Beautiful Soup is not an HTTP client. You should probably use an HTTP client like requests to get the document behind the URL, and feed that document to Beautiful Soup.\n",
      "  MarkupResemblesLocatorWarning\n",
      "/anaconda/envs/azureml_py36/lib/python3.6/site-packages/bs4/__init__.py:421: MarkupResemblesLocatorWarning: \"https://rndwww.nce.amadeus.net/agile/browse/HITPP-1243\" looks like a URL. Beautiful Soup is not an HTTP client. You should probably use an HTTP client like requests to get the document behind the URL, and feed that document to Beautiful Soup.\n",
      "  MarkupResemblesLocatorWarning\n",
      "/anaconda/envs/azureml_py36/lib/python3.6/site-packages/bs4/__init__.py:421: MarkupResemblesLocatorWarning: \"https://rndwww.nce.amadeus.net/agile/browse/HITPP-1240\" looks like a URL. Beautiful Soup is not an HTTP client. You should probably use an HTTP client like requests to get the document behind the URL, and feed that document to Beautiful Soup.\n",
      "  MarkupResemblesLocatorWarning\n",
      "/anaconda/envs/azureml_py36/lib/python3.6/site-packages/bs4/__init__.py:421: MarkupResemblesLocatorWarning: \"https://rndwww.nce.amadeus.net/agile/browse/HITPP-1241\" looks like a URL. Beautiful Soup is not an HTTP client. You should probably use an HTTP client like requests to get the document behind the URL, and feed that document to Beautiful Soup.\n",
      "  MarkupResemblesLocatorWarning\n",
      "/anaconda/envs/azureml_py36/lib/python3.6/site-packages/bs4/__init__.py:421: MarkupResemblesLocatorWarning: \"https://rndwww.nce.amadeus.net/agile/browse/HITPP-1242\" looks like a URL. Beautiful Soup is not an HTTP client. You should probably use an HTTP client like requests to get the document behind the URL, and feed that document to Beautiful Soup.\n",
      "  MarkupResemblesLocatorWarning\n",
      "/anaconda/envs/azureml_py36/lib/python3.6/site-packages/bs4/__init__.py:421: MarkupResemblesLocatorWarning: \"https://share.amadeus.com/sites/Impacted_Systems/AirlineDocsandPages/SK%20Sizing%20-%20e-retail%20XML%20Implementation%20-%20FP%20EBANK%2015348622.docx\" looks like a URL. Beautiful Soup is not an HTTP client. You should probably use an HTTP client like requests to get the document behind the URL, and feed that document to Beautiful Soup.\n",
      "  MarkupResemblesLocatorWarning\n",
      "/anaconda/envs/azureml_py36/lib/python3.6/site-packages/bs4/__init__.py:421: MarkupResemblesLocatorWarning: \"https://partner.amadeus.com/pmo/IHG/Lists/V2%20Action%20Items/DispForm.aspx?ID=1154\" looks like a URL. Beautiful Soup is not an HTTP client. You should probably use an HTTP client like requests to get the document behind the URL, and feed that document to Beautiful Soup.\n",
      "  MarkupResemblesLocatorWarning\n",
      "/anaconda/envs/azureml_py36/lib/python3.6/site-packages/bs4/__init__.py:421: MarkupResemblesLocatorWarning: \"https://amadeusworkplace.sharepoint.com/sites/IHG/Lists/V2%20Action%20Items/DispForm.aspx?ID=2043\" looks like a URL. Beautiful Soup is not an HTTP client. You should probably use an HTTP client like requests to get the document behind the URL, and feed that document to Beautiful Soup.\n",
      "  MarkupResemblesLocatorWarning\n",
      "/anaconda/envs/azureml_py36/lib/python3.6/site-packages/bs4/__init__.py:421: MarkupResemblesLocatorWarning: \"https://rndwww.nce.amadeus.net/confluence/download/attachments/1358853297/SAS%20Sizing%20-%20eretail%20XML%20Implementation%20-%203DS%20v2%20_%2019189692.docx?version=1&amp;modificationDate=1588155886318&amp;api=v2\" looks like a URL. Beautiful Soup is not an HTTP client. You should probably use an HTTP client like requests to get the document behind the URL, and feed that document to Beautiful Soup.\n",
      "  MarkupResemblesLocatorWarning\n",
      "/anaconda/envs/azureml_py36/lib/python3.6/site-packages/bs4/__init__.py:421: MarkupResemblesLocatorWarning: \"https://ahppartners.amaext.tools/confluence/x/xED6AQ\" looks like a URL. Beautiful Soup is not an HTTP client. You should probably use an HTTP client like requests to get the document behind the URL, and feed that document to Beautiful Soup.\n",
      "  MarkupResemblesLocatorWarning\n",
      "/anaconda/envs/azureml_py36/lib/python3.6/site-packages/bs4/__init__.py:421: MarkupResemblesLocatorWarning: \"https://9m0jkj.axshare.com/#g=1&amp;p=lookup_control__pcp_81465__pcp_97212_\" looks like a URL. Beautiful Soup is not an HTTP client. You should probably use an HTTP client like requests to get the document behind the URL, and feed that document to Beautiful Soup.\n",
      "  MarkupResemblesLocatorWarning\n",
      "/anaconda/envs/azureml_py36/lib/python3.6/site-packages/bs4/__init__.py:421: MarkupResemblesLocatorWarning: \"https://rndwww.nce.amadeus.net/confluence/pages/viewpage.action?pageId=37954635&amp;preview=%2F37954635%2F208640628%2FAF+KL+DL+Seats+S3+Validation+-+3.0.pptx\" looks like a URL. Beautiful Soup is not an HTTP client. You should probably use an HTTP client like requests to get the document behind the URL, and feed that document to Beautiful Soup.\n",
      "  MarkupResemblesLocatorWarning\n",
      "/anaconda/envs/azureml_py36/lib/python3.6/site-packages/bs4/__init__.py:421: MarkupResemblesLocatorWarning: \"https://rndwww.nce.amadeus.net/confluence/display/GRP/Compute+Mixed+Itinerary?preview=%2F373883766%2F373883762%2FAGM-84+Mixed+cabin+itinerary.pptx\" looks like a URL. Beautiful Soup is not an HTTP client. You should probably use an HTTP client like requests to get the document behind the URL, and feed that document to Beautiful Soup.\n",
      "  MarkupResemblesLocatorWarning\n",
      "/anaconda/envs/azureml_py36/lib/python3.6/site-packages/bs4/__init__.py:421: MarkupResemblesLocatorWarning: \"https://rndwww.nce.amadeus.net/confluence/pages/editpage.action?pageId=294322446\" looks like a URL. Beautiful Soup is not an HTTP client. You should probably use an HTTP client like requests to get the document behind the URL, and feed that document to Beautiful Soup.\n",
      "  MarkupResemblesLocatorWarning\n",
      "/anaconda/envs/azureml_py36/lib/python3.6/site-packages/bs4/__init__.py:421: MarkupResemblesLocatorWarning: \"https://rndwww.nce.amadeus.net/confluence/display/ALBAEKDEV/JL-PCP-442%3AINV%3AARD+Flex+Pricer+Display+of+pricing+result+on+upsell+page+for+each+PTC+specified\" looks like a URL. Beautiful Soup is not an HTTP client. You should probably use an HTTP client like requests to get the document behind the URL, and feed that document to Beautiful Soup.\n",
      "  MarkupResemblesLocatorWarning\n",
      "/anaconda/envs/azureml_py36/lib/python3.6/site-packages/bs4/__init__.py:421: MarkupResemblesLocatorWarning: \"https://rndwww.nce.amadeus.net/confluence/pages/viewpage.action?pageId=403808137\" looks like a URL. Beautiful Soup is not an HTTP client. You should probably use an HTTP client like requests to get the document behind the URL, and feed that document to Beautiful Soup.\n",
      "  MarkupResemblesLocatorWarning\n",
      "/anaconda/envs/azureml_py36/lib/python3.6/site-packages/bs4/__init__.py:421: MarkupResemblesLocatorWarning: \"http://9m0jkj.axshare.com/#p=scrollspy__pcp_88204_&amp;g=1\" looks like a URL. Beautiful Soup is not an HTTP client. You should probably use an HTTP client like requests to get the document behind the URL, and feed that document to Beautiful Soup.\n",
      "  MarkupResemblesLocatorWarning\n",
      "/anaconda/envs/azureml_py36/lib/python3.6/site-packages/bs4/__init__.py:421: MarkupResemblesLocatorWarning: \"https://rndwww.nce.amadeus.net/confluence/pages/viewpage.action?pageId=452045330\" looks like a URL. Beautiful Soup is not an HTTP client. You should probably use an HTTP client like requests to get the document behind the URL, and feed that document to Beautiful Soup.\n",
      "  MarkupResemblesLocatorWarning\n",
      "/anaconda/envs/azureml_py36/lib/python3.6/site-packages/bs4/__init__.py:421: MarkupResemblesLocatorWarning: \"https://rndwww.nce.amadeus.net/confluence/pages/viewpage.action?pageId=437485811\" looks like a URL. Beautiful Soup is not an HTTP client. You should probably use an HTTP client like requests to get the document behind the URL, and feed that document to Beautiful Soup.\n",
      "  MarkupResemblesLocatorWarning\n",
      "/anaconda/envs/azureml_py36/lib/python3.6/site-packages/bs4/__init__.py:421: MarkupResemblesLocatorWarning: \"https://rndwww.nce.amadeus.net/confluence/display/ARDWSOL/CP+13816807+%3A+Amadeus+must+send+CPF+information+to+ARDWEB\" looks like a URL. Beautiful Soup is not an HTTP client. You should probably use an HTTP client like requests to get the document behind the URL, and feed that document to Beautiful Soup.\n",
      "  MarkupResemblesLocatorWarning\n"
     ]
    },
    {
     "name": "stderr",
     "output_type": "stream",
     "text": [
      "/anaconda/envs/azureml_py36/lib/python3.6/site-packages/bs4/__init__.py:421: MarkupResemblesLocatorWarning: \"https://rndwww.nce.amadeus.net/confluence/display/PDA/ST+89616+BR%3A+TKT%3A+Revalidation+control+for+name+ID+code+and+associated+condition\" looks like a URL. Beautiful Soup is not an HTTP client. You should probably use an HTTP client like requests to get the document behind the URL, and feed that document to Beautiful Soup.\n",
      "  MarkupResemblesLocatorWarning\n",
      "/anaconda/envs/azureml_py36/lib/python3.6/site-packages/bs4/__init__.py:421: MarkupResemblesLocatorWarning: \"https://rndwww.nce.amadeus.net/confluence/display/PDA/ST+89671+CI%3A+TKT%3A+Enhancement+of+Revalidation+Function\" looks like a URL. Beautiful Soup is not an HTTP client. You should probably use an HTTP client like requests to get the document behind the URL, and feed that document to Beautiful Soup.\n",
      "  MarkupResemblesLocatorWarning\n",
      "/anaconda/envs/azureml_py36/lib/python3.6/site-packages/bs4/__init__.py:421: MarkupResemblesLocatorWarning: \"https://rndwww.nce.amadeus.net/confluence/display/MERTPC/Rule+priority\" looks like a URL. Beautiful Soup is not an HTTP client. You should probably use an HTTP client like requests to get the document behind the URL, and feed that document to Beautiful Soup.\n",
      "  MarkupResemblesLocatorWarning\n",
      "/anaconda/envs/azureml_py36/lib/python3.6/site-packages/bs4/__init__.py:421: MarkupResemblesLocatorWarning: \"https://rndwww.nce.amadeus.net/confluence/pages/viewpage.action?pageId=445370053\" looks like a URL. Beautiful Soup is not an HTTP client. You should probably use an HTTP client like requests to get the document behind the URL, and feed that document to Beautiful Soup.\n",
      "  MarkupResemblesLocatorWarning\n",
      "/anaconda/envs/azureml_py36/lib/python3.6/site-packages/bs4/__init__.py:421: MarkupResemblesLocatorWarning: \"https://rndwww.nce.amadeus.net/confluence/display/MERTPC/Ability+to+sell+TPC+without+flight\" looks like a URL. Beautiful Soup is not an HTTP client. You should probably use an HTTP client like requests to get the document behind the URL, and feed that document to Beautiful Soup.\n",
      "  MarkupResemblesLocatorWarning\n",
      "/anaconda/envs/azureml_py36/lib/python3.6/site-packages/bs4/__init__.py:421: MarkupResemblesLocatorWarning: \"https://rndwww.nce.amadeus.net/confluence/display/ANAAHP/Booking+Tool+-+WaitList%2C+ForceSell+and+ForceOverride+workflows\" looks like a URL. Beautiful Soup is not an HTTP client. You should probably use an HTTP client like requests to get the document behind the URL, and feed that document to Beautiful Soup.\n",
      "  MarkupResemblesLocatorWarning\n",
      "/anaconda/envs/azureml_py36/lib/python3.6/site-packages/bs4/__init__.py:421: MarkupResemblesLocatorWarning: \"https://rndwww.nce.amadeus.net/confluence/display/PD/QF+to+EK+top+tier+file+format\" looks like a URL. Beautiful Soup is not an HTTP client. You should probably use an HTTP client like requests to get the document behind the URL, and feed that document to Beautiful Soup.\n",
      "  MarkupResemblesLocatorWarning\n",
      "/anaconda/envs/azureml_py36/lib/python3.6/site-packages/bs4/__init__.py:421: MarkupResemblesLocatorWarning: \"https://rndwww.nce.amadeus.net/confluence/display/DCSpec/CR14924954+v1.1\" looks like a URL. Beautiful Soup is not an HTTP client. You should probably use an HTTP client like requests to get the document behind the URL, and feed that document to Beautiful Soup.\n",
      "  MarkupResemblesLocatorWarning\n",
      "/anaconda/envs/azureml_py36/lib/python3.6/site-packages/bs4/__init__.py:421: MarkupResemblesLocatorWarning: \"https://rndwww.nce.amadeus.net/confluence/display/ARDWS/WN+-+PCP+98663+-+WN%3A1211%3ASecure+the+Special+Traveler+link+in+ARD+web+by+Office+ID\" looks like a URL. Beautiful Soup is not an HTTP client. You should probably use an HTTP client like requests to get the document behind the URL, and feed that document to Beautiful Soup.\n",
      "  MarkupResemblesLocatorWarning\n",
      "/anaconda/envs/azureml_py36/lib/python3.6/site-packages/bs4/__init__.py:421: MarkupResemblesLocatorWarning: \"https://amadeus.app.box.com/folder/48591969288\" looks like a URL. Beautiful Soup is not an HTTP client. You should probably use an HTTP client like requests to get the document behind the URL, and feed that document to Beautiful Soup.\n",
      "  MarkupResemblesLocatorWarning\n",
      "/anaconda/envs/azureml_py36/lib/python3.6/site-packages/bs4/__init__.py:421: MarkupResemblesLocatorWarning: \"https://rndwww.nce.amadeus.net/confluence/display/RDRDMCBTCMCAS/WN1219+ATC+Refund%3A+Passenger+Accepted+with+Bags-+Overall+Sequence+Diagram\" looks like a URL. Beautiful Soup is not an HTTP client. You should probably use an HTTP client like requests to get the document behind the URL, and feed that document to Beautiful Soup.\n",
      "  MarkupResemblesLocatorWarning\n",
      "/anaconda/envs/azureml_py36/lib/python3.6/site-packages/bs4/__init__.py:421: MarkupResemblesLocatorWarning: \"https://rndwww.nce.amadeus.net/confluence/pages/viewpage.action?spaceKey=BIGPNR&amp;title=Reduced+%28agreed%29+scope\" looks like a URL. Beautiful Soup is not an HTTP client. You should probably use an HTTP client like requests to get the document behind the URL, and feed that document to Beautiful Soup.\n",
      "  MarkupResemblesLocatorWarning\n",
      "/anaconda/envs/azureml_py36/lib/python3.6/site-packages/bs4/__init__.py:421: MarkupResemblesLocatorWarning: \"https://amadeus.app.box.com/file/298025336411\" looks like a URL. Beautiful Soup is not an HTTP client. You should probably use an HTTP client like requests to get the document behind the URL, and feed that document to Beautiful Soup.\n",
      "  MarkupResemblesLocatorWarning\n",
      "/anaconda/envs/azureml_py36/lib/python3.6/site-packages/bs4/__init__.py:421: MarkupResemblesLocatorWarning: \"https://rndwww.nce.amadeus.net/confluence/display/RDAIRTDFBTF/Option+1_Workaround+-+TASK+100914+-+Feasibility+Study\" looks like a URL. Beautiful Soup is not an HTTP client. You should probably use an HTTP client like requests to get the document behind the URL, and feed that document to Beautiful Soup.\n",
      "  MarkupResemblesLocatorWarning\n",
      "/anaconda/envs/azureml_py36/lib/python3.6/site-packages/bs4/__init__.py:421: MarkupResemblesLocatorWarning: \"https://rndwww.nce.amadeus.net/confluence/display/ANDCT/AV+NDC+CP+15295635+Send+Fraud+parameters\" looks like a URL. Beautiful Soup is not an HTTP client. You should probably use an HTTP client like requests to get the document behind the URL, and feed that document to Beautiful Soup.\n",
      "  MarkupResemblesLocatorWarning\n",
      "/anaconda/envs/azureml_py36/lib/python3.6/site-packages/bs4/__init__.py:421: MarkupResemblesLocatorWarning: \"https://rndwww.nce.amadeus.net/confluence/display/RDAIRTDFBTF/OOM+for+CPR+15442464+TI%3AAIRLINE%3A+TI+Product+Management%3A+QR%3A+RTTF+-+Frequent+flyer+number%2C+type+and+Airline\" looks like a URL. Beautiful Soup is not an HTTP client. You should probably use an HTTP client like requests to get the document behind the URL, and feed that document to Beautiful Soup.\n",
      "  MarkupResemblesLocatorWarning\n",
      "/anaconda/envs/azureml_py36/lib/python3.6/site-packages/bs4/__init__.py:421: MarkupResemblesLocatorWarning: \"https://rndwww.nce.amadeus.net/confluence/display/RDAIRTDFBTF/OOM+for+CPR+15442544+TI%3AAIRLINE%3A+TI+Product+Management%3A+QR%3A+RTTF+-+Fare+calculation+details+are+missing\" looks like a URL. Beautiful Soup is not an HTTP client. You should probably use an HTTP client like requests to get the document behind the URL, and feed that document to Beautiful Soup.\n",
      "  MarkupResemblesLocatorWarning\n",
      "/anaconda/envs/azureml_py36/lib/python3.6/site-packages/bs4/__init__.py:421: MarkupResemblesLocatorWarning: \"https://rndwww.nce.amadeus.net/confluence/display/RDAIRTDFBTF/OOM+for+CPR+15442645+TI%3AAIRLINE%3A+TI+Product+Management%3A+QR%3A+RTTF+-+Service+fee+is+missing\" looks like a URL. Beautiful Soup is not an HTTP client. You should probably use an HTTP client like requests to get the document behind the URL, and feed that document to Beautiful Soup.\n",
      "  MarkupResemblesLocatorWarning\n",
      "/anaconda/envs/azureml_py36/lib/python3.6/site-packages/bs4/__init__.py:421: MarkupResemblesLocatorWarning: \"https://rndwww.nce.amadeus.net/confluence/display/RDAIRTDFBTF/OOM+for+CPR+15442725+TI%3AAIRLINE%3A+TI+Product+Management%3A+QR%3A+RTTF+-+Net+Refund+details+are+missing+in+REFUNDs\" looks like a URL. Beautiful Soup is not an HTTP client. You should probably use an HTTP client like requests to get the document behind the URL, and feed that document to Beautiful Soup.\n",
      "  MarkupResemblesLocatorWarning\n",
      "/anaconda/envs/azureml_py36/lib/python3.6/site-packages/bs4/__init__.py:421: MarkupResemblesLocatorWarning: \"https://rndwww.nce.amadeus.net/confluence/pages/viewpage.action?pageId=607223858\" looks like a URL. Beautiful Soup is not an HTTP client. You should probably use an HTTP client like requests to get the document behind the URL, and feed that document to Beautiful Soup.\n",
      "  MarkupResemblesLocatorWarning\n"
     ]
    },
    {
     "name": "stderr",
     "output_type": "stream",
     "text": [
      "/anaconda/envs/azureml_py36/lib/python3.6/site-packages/bs4/__init__.py:421: MarkupResemblesLocatorWarning: \"https://rndwww.nce.amadeus.net/confluence/display/MERTPC/PCP%2315491994+-+Hotel+chain+provider+in+the+Teaser+Criteria\" looks like a URL. Beautiful Soup is not an HTTP client. You should probably use an HTTP client like requests to get the document behind the URL, and feed that document to Beautiful Soup.\n",
      "  MarkupResemblesLocatorWarning\n",
      "/anaconda/envs/azureml_py36/lib/python3.6/site-packages/bs4/__init__.py:421: MarkupResemblesLocatorWarning: \"https://rndwww.nce.amadeus.net/confluence/display/RDAIRTDFBTF/Feasibility+Study+-+CP+16075543\" looks like a URL. Beautiful Soup is not an HTTP client. You should probably use an HTTP client like requests to get the document behind the URL, and feed that document to Beautiful Soup.\n",
      "  MarkupResemblesLocatorWarning\n",
      "/anaconda/envs/azureml_py36/lib/python3.6/site-packages/bs4/__init__.py:421: MarkupResemblesLocatorWarning: \"https://rndwww.nce.amadeus.net/confluence/display/ARDWS/WN%3A1363%3ADivorce+-+Pricing+and+Repricing+by+Fare+Family\" looks like a URL. Beautiful Soup is not an HTTP client. You should probably use an HTTP client like requests to get the document behind the URL, and feed that document to Beautiful Soup.\n",
      "  MarkupResemblesLocatorWarning\n",
      "/anaconda/envs/azureml_py36/lib/python3.6/site-packages/bs4/__init__.py:421: MarkupResemblesLocatorWarning: \"https://rndwww.nce.amadeus.net/confluence/display/MERTPC/PCP%2315120295+-+Hotel+Dynamic+Descriptive+Content\" looks like a URL. Beautiful Soup is not an HTTP client. You should probably use an HTTP client like requests to get the document behind the URL, and feed that document to Beautiful Soup.\n",
      "  MarkupResemblesLocatorWarning\n",
      "/anaconda/envs/azureml_py36/lib/python3.6/site-packages/bs4/__init__.py:421: MarkupResemblesLocatorWarning: \"https://rndwww.nce.amadeus.net/confluence/pages/viewpage.action?pageId=781560261\" looks like a URL. Beautiful Soup is not an HTTP client. You should probably use an HTTP client like requests to get the document behind the URL, and feed that document to Beautiful Soup.\n",
      "  MarkupResemblesLocatorWarning\n",
      "/anaconda/envs/azureml_py36/lib/python3.6/site-packages/bs4/__init__.py:421: MarkupResemblesLocatorWarning: \"https://partner.amadeus.com/sites/Whitbread_Impl/Solution%20Workstream/Outbooking%20Solution%20Sizing%20-%2022MAR.pptx\" looks like a URL. Beautiful Soup is not an HTTP client. You should probably use an HTTP client like requests to get the document behind the URL, and feed that document to Beautiful Soup.\n",
      "  MarkupResemblesLocatorWarning\n",
      "/anaconda/envs/azureml_py36/lib/python3.6/site-packages/bs4/__init__.py:421: MarkupResemblesLocatorWarning: \"https://partner.amadeus.com/sites/Whitbread_Impl/Solution%20Workstream/NEXT_Groups_MultiSegmentSolutionSizing.pptx\" looks like a URL. Beautiful Soup is not an HTTP client. You should probably use an HTTP client like requests to get the document behind the URL, and feed that document to Beautiful Soup.\n",
      "  MarkupResemblesLocatorWarning\n",
      "/anaconda/envs/azureml_py36/lib/python3.6/site-packages/bs4/__init__.py:421: MarkupResemblesLocatorWarning: \"https://rndwww.nce.amadeus.net/confluence/display/RDAIRTDFBTF/16609482+-+NDC%3A+Improve+ISOC+field+in+the+header+line+of+CTR+RET-HOT+files+to+be+customizable+per+ailine+and+file+format\" looks like a URL. Beautiful Soup is not an HTTP client. You should probably use an HTTP client like requests to get the document behind the URL, and feed that document to Beautiful Soup.\n",
      "  MarkupResemblesLocatorWarning\n",
      "/anaconda/envs/azureml_py36/lib/python3.6/site-packages/bs4/__init__.py:421: MarkupResemblesLocatorWarning: \"https://rndwww.nce.amadeus.net/confluence/display/SWACC/WN1464+-+Gap+analysis\" looks like a URL. Beautiful Soup is not an HTTP client. You should probably use an HTTP client like requests to get the document behind the URL, and feed that document to Beautiful Soup.\n",
      "  MarkupResemblesLocatorWarning\n",
      "/anaconda/envs/azureml_py36/lib/python3.6/site-packages/bs4/__init__.py:421: MarkupResemblesLocatorWarning: \"https://share.amadeus.com/sites/Impacted_Systems/AirlineDocsandPages/New%20Branded%20Fares%20CR%2016730431.docx\" looks like a URL. Beautiful Soup is not an HTTP client. You should probably use an HTTP client like requests to get the document behind the URL, and feed that document to Beautiful Soup.\n",
      "  MarkupResemblesLocatorWarning\n",
      "/anaconda/envs/azureml_py36/lib/python3.6/site-packages/bs4/__init__.py:421: MarkupResemblesLocatorWarning: \"https://rndwww.nce.amadeus.net/confluence/pages/viewpage.action?spaceKey=SWACC&amp;title=WN1482%3AGDS+-+Trigger+Customer+Cancel+Notification+based+on+Segment\" looks like a URL. Beautiful Soup is not an HTTP client. You should probably use an HTTP client like requests to get the document behind the URL, and feed that document to Beautiful Soup.\n",
      "  MarkupResemblesLocatorWarning\n",
      "/anaconda/envs/azureml_py36/lib/python3.6/site-packages/bs4/__init__.py:421: MarkupResemblesLocatorWarning: \"https://partner.amadeus.com/pmo/IHG/ProjectDocuments/IHG%20-%20Amadeus%20Change%20Order%202019-Rally-ACSP%20v02.docx\" looks like a URL. Beautiful Soup is not an HTTP client. You should probably use an HTTP client like requests to get the document behind the URL, and feed that document to Beautiful Soup.\n",
      "  MarkupResemblesLocatorWarning\n",
      "/anaconda/envs/azureml_py36/lib/python3.6/site-packages/bs4/__init__.py:333: MarkupResemblesLocatorWarning: \"..\" looks like a filename, not markup. You should probably open this file and pass the filehandle into Beautiful Soup.\n",
      "  MarkupResemblesLocatorWarning\n",
      "/anaconda/envs/azureml_py36/lib/python3.6/site-packages/bs4/__init__.py:421: MarkupResemblesLocatorWarning: \"https://rndwww.nce.amadeus.net/confluence/x/XhxITQ\" looks like a URL. Beautiful Soup is not an HTTP client. You should probably use an HTTP client like requests to get the document behind the URL, and feed that document to Beautiful Soup.\n",
      "  MarkupResemblesLocatorWarning\n",
      "/anaconda/envs/azureml_py36/lib/python3.6/site-packages/bs4/__init__.py:421: MarkupResemblesLocatorWarning: \"https://ahppartners.amaext.tools/confluence/display/ICC/CR1278+-+136659+-+BESPOKE%3A+QDR+Shopping+Increase\" looks like a URL. Beautiful Soup is not an HTTP client. You should probably use an HTTP client like requests to get the document behind the URL, and feed that document to Beautiful Soup.\n",
      "  MarkupResemblesLocatorWarning\n",
      "/anaconda/envs/azureml_py36/lib/python3.6/site-packages/bs4/__init__.py:421: MarkupResemblesLocatorWarning: \"https://rndwww.nce.amadeus.net/confluence/x/WR1ITQ\" looks like a URL. Beautiful Soup is not an HTTP client. You should probably use an HTTP client like requests to get the document behind the URL, and feed that document to Beautiful Soup.\n",
      "  MarkupResemblesLocatorWarning\n",
      "/anaconda/envs/azureml_py36/lib/python3.6/site-packages/bs4/__init__.py:421: MarkupResemblesLocatorWarning: \"https://rndwww.nce.amadeus.net/confluence/display/SCHED/CP+19222324+AFKLDC043+-+Variations+to+schedule+publication\" looks like a URL. Beautiful Soup is not an HTTP client. You should probably use an HTTP client like requests to get the document behind the URL, and feed that document to Beautiful Soup.\n",
      "  MarkupResemblesLocatorWarning\n",
      "/anaconda/envs/azureml_py36/lib/python3.6/site-packages/bs4/__init__.py:421: MarkupResemblesLocatorWarning: \"https://rndwww.nce.amadeus.net/confluence/display/RDAIRTDFBTF/82152+-+NIT+printed+and+reported\" looks like a URL. Beautiful Soup is not an HTTP client. You should probably use an HTTP client like requests to get the document behind the URL, and feed that document to Beautiful Soup.\n",
      "  MarkupResemblesLocatorWarning\n",
      "/anaconda/envs/azureml_py36/lib/python3.6/site-packages/bs4/__init__.py:421: MarkupResemblesLocatorWarning: \"https://rndwww.nce.amadeus.net/confluence/display/ANAAHP/PCP+82572\" looks like a URL. Beautiful Soup is not an HTTP client. You should probably use an HTTP client like requests to get the document behind the URL, and feed that document to Beautiful Soup.\n",
      "  MarkupResemblesLocatorWarning\n",
      "/anaconda/envs/azureml_py36/lib/python3.6/site-packages/bs4/__init__.py:421: MarkupResemblesLocatorWarning: \"https://rndwww.nce.amadeus.net/confluence/pages/viewpage.action?pageId=234554162\" looks like a URL. Beautiful Soup is not an HTTP client. You should probably use an HTTP client like requests to get the document behind the URL, and feed that document to Beautiful Soup.\n",
      "  MarkupResemblesLocatorWarning\n"
     ]
    },
    {
     "name": "stderr",
     "output_type": "stream",
     "text": [
      "/anaconda/envs/azureml_py36/lib/python3.6/site-packages/bs4/__init__.py:421: MarkupResemblesLocatorWarning: \"https://rndwww.nce.amadeus.net/confluence/display/RDAIRTDFBTF/13484525%3A+Feasibility+study\" looks like a URL. Beautiful Soup is not an HTTP client. You should probably use an HTTP client like requests to get the document behind the URL, and feed that document to Beautiful Soup.\n",
      "  MarkupResemblesLocatorWarning\n",
      "/anaconda/envs/azureml_py36/lib/python3.6/site-packages/bs4/__init__.py:421: MarkupResemblesLocatorWarning: \"https://rndwww.nce.amadeus.net/confluence/display/ARDWSOL/SWA%3A0754%3AARD%3AAdd+SGA+Banner+in+ARD+shopping+and+availability+screens\" looks like a URL. Beautiful Soup is not an HTTP client. You should probably use an HTTP client like requests to get the document behind the URL, and feed that document to Beautiful Soup.\n",
      "  MarkupResemblesLocatorWarning\n",
      "/anaconda/envs/azureml_py36/lib/python3.6/site-packages/bs4/__init__.py:421: MarkupResemblesLocatorWarning: \"https://rndwww.nce.amadeus.net/confluence/display/ANAAHP/PCP+88202\" looks like a URL. Beautiful Soup is not an HTTP client. You should probably use an HTTP client like requests to get the document behind the URL, and feed that document to Beautiful Soup.\n",
      "  MarkupResemblesLocatorWarning\n",
      "/anaconda/envs/azureml_py36/lib/python3.6/site-packages/bs4/__init__.py:421: MarkupResemblesLocatorWarning: \"https://rndwww.nce.amadeus.net/agile/browse/OUIII-2518\" looks like a URL. Beautiful Soup is not an HTTP client. You should probably use an HTTP client like requests to get the document behind the URL, and feed that document to Beautiful Soup.\n",
      "  MarkupResemblesLocatorWarning\n",
      "/anaconda/envs/azureml_py36/lib/python3.6/site-packages/bs4/__init__.py:421: MarkupResemblesLocatorWarning: \"https://rndwww.nce.amadeus.net/confluence/display/RDAIRTDFBTF/14310535+-+My+feasibility+study\" looks like a URL. Beautiful Soup is not an HTTP client. You should probably use an HTTP client like requests to get the document behind the URL, and feed that document to Beautiful Soup.\n",
      "  MarkupResemblesLocatorWarning\n",
      "/anaconda/envs/azureml_py36/lib/python3.6/site-packages/bs4/__init__.py:421: MarkupResemblesLocatorWarning: \"https://rndwww.nce.amadeus.net/confluence/display/ANAAHP/PCP+98273\" looks like a URL. Beautiful Soup is not an HTTP client. You should probably use an HTTP client like requests to get the document behind the URL, and feed that document to Beautiful Soup.\n",
      "  MarkupResemblesLocatorWarning\n",
      "/anaconda/envs/azureml_py36/lib/python3.6/site-packages/bs4/__init__.py:421: MarkupResemblesLocatorWarning: \"https://rndwww.nce.amadeus.net/confluence/pages/viewpage.action?pageId=692626260\" looks like a URL. Beautiful Soup is not an HTTP client. You should probably use an HTTP client like requests to get the document behind the URL, and feed that document to Beautiful Soup.\n",
      "  MarkupResemblesLocatorWarning\n",
      "/anaconda/envs/azureml_py36/lib/python3.6/site-packages/bs4/__init__.py:421: MarkupResemblesLocatorWarning: \"https://rndwww.nce.amadeus.net/confluence/display/ANAAHP/Training+Environment+Visual+Identification\" looks like a URL. Beautiful Soup is not an HTTP client. You should probably use an HTTP client like requests to get the document behind the URL, and feed that document to Beautiful Soup.\n",
      "  MarkupResemblesLocatorWarning\n",
      "/anaconda/envs/azureml_py36/lib/python3.6/site-packages/bs4/__init__.py:421: MarkupResemblesLocatorWarning: \"https://rndwww.nce.amadeus.net/confluence/display/ANAAHP/Reservations+injector\" looks like a URL. Beautiful Soup is not an HTTP client. You should probably use an HTTP client like requests to get the document behind the URL, and feed that document to Beautiful Soup.\n",
      "  MarkupResemblesLocatorWarning\n",
      "/anaconda/envs/azureml_py36/lib/python3.6/site-packages/bs4/__init__.py:421: MarkupResemblesLocatorWarning: \"https://rndwww.nce.amadeus.net/confluence/display/ANAAHP/Training+env+external+connectivity\" looks like a URL. Beautiful Soup is not an HTTP client. You should probably use an HTTP client like requests to get the document behind the URL, and feed that document to Beautiful Soup.\n",
      "  MarkupResemblesLocatorWarning\n",
      "/anaconda/envs/azureml_py36/lib/python3.6/site-packages/bs4/__init__.py:421: MarkupResemblesLocatorWarning: \"https://rndwww.nce.amadeus.net/confluence/display/RDAIRTDFBTF/CP15284048+-+A3%3A+TKT%3A+TCM+-+Interline+-+HCSP+rule+-+EMD+document+-+Allow+FCS+from+O+to+E\" looks like a URL. Beautiful Soup is not an HTTP client. You should probably use an HTTP client like requests to get the document behind the URL, and feed that document to Beautiful Soup.\n",
      "  MarkupResemblesLocatorWarning\n",
      "/anaconda/envs/azureml_py36/lib/python3.6/site-packages/bs4/__init__.py:421: MarkupResemblesLocatorWarning: \"https://rndwww.nce.amadeus.net/confluence/pages/viewpage.action?pageId=570170259\" looks like a URL. Beautiful Soup is not an HTTP client. You should probably use an HTTP client like requests to get the document behind the URL, and feed that document to Beautiful Soup.\n",
      "  MarkupResemblesLocatorWarning\n",
      "/anaconda/envs/azureml_py36/lib/python3.6/site-packages/bs4/__init__.py:421: MarkupResemblesLocatorWarning: \"https://rndwww.nce.amadeus.net/confluence/pages/viewpage.action?pageId=570518618\" looks like a URL. Beautiful Soup is not an HTTP client. You should probably use an HTTP client like requests to get the document behind the URL, and feed that document to Beautiful Soup.\n",
      "  MarkupResemblesLocatorWarning\n",
      "/anaconda/envs/azureml_py36/lib/python3.6/site-packages/bs4/__init__.py:421: MarkupResemblesLocatorWarning: \"https://rndwww.nce.amadeus.net/confluence/display/RDAIRTDFBTF/OOM+for+CPR+15442782+TI%3AAIRLINE%3A+TI+Product+Management%3A+QR%3A+RTTF+-+Feed+daily+Statistics\" looks like a URL. Beautiful Soup is not an HTTP client. You should probably use an HTTP client like requests to get the document behind the URL, and feed that document to Beautiful Soup.\n",
      "  MarkupResemblesLocatorWarning\n",
      "/anaconda/envs/azureml_py36/lib/python3.6/site-packages/bs4/__init__.py:421: MarkupResemblesLocatorWarning: \"https://rndwww.nce.amadeus.net/confluence/display/DISTRIBE/LX-DIS013+-+Avoid+OPR+optimization+on+feeder+flights+from+specific+airlines\" looks like a URL. Beautiful Soup is not an HTTP client. You should probably use an HTTP client like requests to get the document behind the URL, and feed that document to Beautiful Soup.\n",
      "  MarkupResemblesLocatorWarning\n",
      "/anaconda/envs/azureml_py36/lib/python3.6/site-packages/bs4/__init__.py:421: MarkupResemblesLocatorWarning: \"https://rndwww.nce.amadeus.net/confluence/pages/viewpage.action?pageId=655725963\" looks like a URL. Beautiful Soup is not an HTTP client. You should probably use an HTTP client like requests to get the document behind the URL, and feed that document to Beautiful Soup.\n",
      "  MarkupResemblesLocatorWarning\n",
      "/anaconda/envs/azureml_py36/lib/python3.6/site-packages/bs4/__init__.py:421: MarkupResemblesLocatorWarning: \"https://rndwww.nce.amadeus.net/confluence/display/RDAIRTDFBTF/15499135%3A+feasibility+study\" looks like a URL. Beautiful Soup is not an HTTP client. You should probably use an HTTP client like requests to get the document behind the URL, and feed that document to Beautiful Soup.\n",
      "  MarkupResemblesLocatorWarning\n",
      "/anaconda/envs/azureml_py36/lib/python3.6/site-packages/bs4/__init__.py:421: MarkupResemblesLocatorWarning: \"https://rndwww.nce.amadeus.net/confluence/pages/viewpage.action?pageId=691945168\" looks like a URL. Beautiful Soup is not an HTTP client. You should probably use an HTTP client like requests to get the document behind the URL, and feed that document to Beautiful Soup.\n",
      "  MarkupResemblesLocatorWarning\n",
      "/anaconda/envs/azureml_py36/lib/python3.6/site-packages/bs4/__init__.py:421: MarkupResemblesLocatorWarning: \"https://rndwww.nce.amadeus.net/confluence/display/RDAIRTDFBTF/15878180%3A+AY%3A+TKT%3A+Migrate+AY+own+ticket+sales+from+RET+to+HOT\" looks like a URL. Beautiful Soup is not an HTTP client. You should probably use an HTTP client like requests to get the document behind the URL, and feed that document to Beautiful Soup.\n",
      "  MarkupResemblesLocatorWarning\n",
      "/anaconda/envs/azureml_py36/lib/python3.6/site-packages/bs4/__init__.py:421: MarkupResemblesLocatorWarning: \"https://rndwww.nce.amadeus.net/confluence/display/HRM/PCP+104826+-+FIG%3A+Meals+product+setting+in+V2I1\" looks like a URL. Beautiful Soup is not an HTTP client. You should probably use an HTTP client like requests to get the document behind the URL, and feed that document to Beautiful Soup.\n",
      "  MarkupResemblesLocatorWarning\n"
     ]
    },
    {
     "name": "stderr",
     "output_type": "stream",
     "text": [
      "/anaconda/envs/azureml_py36/lib/python3.6/site-packages/bs4/__init__.py:421: MarkupResemblesLocatorWarning: \"https://rndwww.nce.amadeus.net/confluence/display/HITREPORTING/106045+%5BCLARIFIED%5D+-+Migration+Status+Report\" looks like a URL. Beautiful Soup is not an HTTP client. You should probably use an HTTP client like requests to get the document behind the URL, and feed that document to Beautiful Soup.\n",
      "  MarkupResemblesLocatorWarning\n",
      "/anaconda/envs/azureml_py36/lib/python3.6/site-packages/bs4/__init__.py:421: MarkupResemblesLocatorWarning: \"https://rndwww.nce.amadeus.net/confluence/pages/viewpage.action?pageId=913927071\" looks like a URL. Beautiful Soup is not an HTTP client. You should probably use an HTTP client like requests to get the document behind the URL, and feed that document to Beautiful Soup.\n",
      "  MarkupResemblesLocatorWarning\n",
      "/anaconda/envs/azureml_py36/lib/python3.6/site-packages/bs4/__init__.py:421: MarkupResemblesLocatorWarning: \"https://rndwww.nce.amadeus.net/confluence/display/MERTPC/PCP%2316211078+-++Insurance+Price+Adjustment+-+AIG+price+check\" looks like a URL. Beautiful Soup is not an HTTP client. You should probably use an HTTP client like requests to get the document behind the URL, and feed that document to Beautiful Soup.\n",
      "  MarkupResemblesLocatorWarning\n",
      "/anaconda/envs/azureml_py36/lib/python3.6/site-packages/bs4/__init__.py:421: MarkupResemblesLocatorWarning: \"https://rndwww.nce.amadeus.net/confluence/display/MERTPC/PCP%2316542434+-+Insurance+Price+Adjustment+-+AIG+price+calculation\" looks like a URL. Beautiful Soup is not an HTTP client. You should probably use an HTTP client like requests to get the document behind the URL, and feed that document to Beautiful Soup.\n",
      "  MarkupResemblesLocatorWarning\n",
      "/anaconda/envs/azureml_py36/lib/python3.6/site-packages/bs4/__init__.py:421: MarkupResemblesLocatorWarning: \"https://rndwww.nce.amadeus.net/confluence/display/RDAIRTDFBTF/CP+16998466%3A+9B%3A+Lift+file+-+addition+of+pax+type\" looks like a URL. Beautiful Soup is not an HTTP client. You should probably use an HTTP client like requests to get the document behind the URL, and feed that document to Beautiful Soup.\n",
      "  MarkupResemblesLocatorWarning\n",
      "/anaconda/envs/azureml_py36/lib/python3.6/site-packages/bs4/__init__.py:421: MarkupResemblesLocatorWarning: \"https://rndwww.nce.amadeus.net/confluence/pages/viewpage.action?pageId=224038942\" looks like a URL. Beautiful Soup is not an HTTP client. You should probably use an HTTP client like requests to get the document behind the URL, and feed that document to Beautiful Soup.\n",
      "  MarkupResemblesLocatorWarning\n",
      "/anaconda/envs/azureml_py36/lib/python3.6/site-packages/bs4/__init__.py:421: MarkupResemblesLocatorWarning: \"https://rndwww.nce.amadeus.net/confluence/pages/viewpage.action?pageId=1010262197\" looks like a URL. Beautiful Soup is not an HTTP client. You should probably use an HTTP client like requests to get the document behind the URL, and feed that document to Beautiful Soup.\n",
      "  MarkupResemblesLocatorWarning\n",
      "/anaconda/envs/azureml_py36/lib/python3.6/site-packages/bs4/__init__.py:421: MarkupResemblesLocatorWarning: \"https://rndwww.nce.amadeus.net/confluence/pages/viewpage.action?pageId=1012870897\" looks like a URL. Beautiful Soup is not an HTTP client. You should probably use an HTTP client like requests to get the document behind the URL, and feed that document to Beautiful Soup.\n",
      "  MarkupResemblesLocatorWarning\n",
      "/anaconda/envs/azureml_py36/lib/python3.6/site-packages/bs4/__init__.py:421: MarkupResemblesLocatorWarning: \"https://rndwww.nce.amadeus.net/confluence/display/RDAIRTDFBTF/17570316%3A+QF%3A+OTHER%3A+Implement+New+Payment+Gateway\" looks like a URL. Beautiful Soup is not an HTTP client. You should probably use an HTTP client like requests to get the document behind the URL, and feed that document to Beautiful Soup.\n",
      "  MarkupResemblesLocatorWarning\n",
      "/anaconda/envs/azureml_py36/lib/python3.6/site-packages/bs4/__init__.py:333: MarkupResemblesLocatorWarning: \"/\" looks like a filename, not markup. You should probably open this file and pass the filehandle into Beautiful Soup.\n",
      "  MarkupResemblesLocatorWarning\n"
     ]
    }
   ],
   "source": [
    "cname=list(df.columns)\n",
    "for i in cname:\n",
    "    df[i]=df[i].apply(clean_text)"
   ]
  },
  {
   "cell_type": "code",
   "execution_count": 7,
   "metadata": {
    "gather": {
     "logged": 1602088492847
    },
    "jupyter": {
     "outputs_hidden": false,
     "source_hidden": false
    },
    "nteract": {
     "transient": {
      "deleting": false
     }
    }
   },
   "outputs": [],
   "source": [
    "corpus_df = df['Title']+ \" \" + df['Domain'] + \" \" + df['Area'] + \" \" + df['BudgetLine'] + \" \" + df['ProjectName'] + \" \" + df['ProjectDescription'] +\" \"+ df['Region'] + \" \" +df['RequirementDescription'] + df['SolutionSummary'] +' '+df['SolutionDescription']+' '+df['SolutionAssumption']+' '+df['ProductName']+' '+df['RecommendedPricing']"
   ]
  },
  {
   "cell_type": "code",
   "execution_count": 8,
   "metadata": {
    "gather": {
     "logged": 1602088505563
    },
    "jupyter": {
     "outputs_hidden": false,
     "source_hidden": false
    },
    "nteract": {
     "transient": {
      "deleting": false
     }
    }
   },
   "outputs": [],
   "source": [
    "corpus_df = corpus_df.str.split(' ')"
   ]
  },
  {
   "cell_type": "code",
   "execution_count": 9,
   "metadata": {
    "gather": {
     "logged": 1602088521698
    },
    "jupyter": {
     "outputs_hidden": false,
     "source_hidden": false
    },
    "nteract": {
     "transient": {
      "deleting": false
     }
    }
   },
   "outputs": [
    {
     "data": {
      "text/plain": [
       "'time spent reporting airline bespoke cp detailed assessment srb gui airline private development  amadeus nan time spent reporting airline bespoke cp detailed assessmenttime spent reporting airline bespoke cp detailed assessment task automatically created importing cr winaproach time spent reporting airline bespoke cp detailed assessment altea time rptg assessment time spent reporting airline bespoke cp oom assessment srb oui airline private development  amadeus nan time spent reporting airline b'"
      ]
     },
     "execution_count": 9,
     "metadata": {},
     "output_type": "execute_result"
    }
   ],
   "source": [
    "cleaned = []\n",
    "\n",
    "for text in corpus_df:\n",
    "    text = [x.strip(string.punctuation) for x in text]\n",
    "    cleaned.append(text)\n",
    "\n",
    "cleaned[0]\n",
    "\n",
    "text_spam = [\" \".join(text) for text in cleaned]\n",
    "final_text = \" \".join(text_spam)\n",
    "final_text[:500]"
   ]
  },
  {
   "cell_type": "code",
   "execution_count": 10,
   "metadata": {
    "gather": {
     "logged": 1602088558221
    },
    "jupyter": {
     "outputs_hidden": false,
     "source_hidden": false
    },
    "nteract": {
     "transient": {
      "deleting": false
     }
    }
   },
   "outputs": [],
   "source": [
    "tok_final_text=word_tokenize(final_text)"
   ]
  },
  {
   "cell_type": "code",
   "execution_count": 11,
   "metadata": {
    "gather": {
     "logged": 1602088569714
    },
    "jupyter": {
     "outputs_hidden": false,
     "source_hidden": false
    },
    "nteract": {
     "transient": {
      "deleting": false
     }
    }
   },
   "outputs": [
    {
     "data": {
      "text/plain": [
       "('nan', 19725)"
      ]
     },
     "execution_count": 11,
     "metadata": {},
     "output_type": "execute_result"
    }
   ],
   "source": [
    "from collections import Counter\n",
    "word_counts = Counter(tok_final_text)\n",
    "words = list(word_counts.most_common(5000))\n",
    "words.pop(0)"
   ]
  },
  {
   "cell_type": "code",
   "execution_count": 12,
   "metadata": {
    "gather": {
     "logged": 1602088586963
    },
    "jupyter": {
     "outputs_hidden": false,
     "source_hidden": false
    },
    "nteract": {
     "transient": {
      "deleting": false
     }
    }
   },
   "outputs": [
    {
     "data": {
      "text/plain": [
       "[('sold', 18811),\n",
       " ('added', 15656),\n",
       " ('new', 11728),\n",
       " ('airlines', 11027),\n",
       " ('cp', 11021),\n",
       " ('fee', 10472),\n",
       " ('fees', 10027),\n",
       " ('customer', 9845),\n",
       " ('requesting', 9799),\n",
       " ('airline', 9711),\n",
       " ('change', 7881),\n",
       " ('dcs', 7273),\n",
       " ('development', 6990),\n",
       " ('flight', 6875),\n",
       " ('amadeus', 6277),\n",
       " ('solution', 6261),\n",
       " ('created', 5987),\n",
       " ('code', 5974),\n",
       " ('task', 5519),\n",
       " ('automatically', 5214),\n",
       " ('pnr', 5153),\n",
       " ('document', 4886),\n",
       " ('apac', 4764),\n",
       " ('altea', 4607),\n",
       " ('importing', 4526),\n",
       " ('data', 4393),\n",
       " ('number', 4257),\n",
       " ('n', 4220),\n",
       " ('time', 4197),\n",
       " ('cm', 4152),\n",
       " ('information', 4140),\n",
       " ('would', 4061),\n",
       " ('res', 3988),\n",
       " ('update', 3752),\n",
       " ('display', 3701),\n",
       " ('one', 3673),\n",
       " ('addedusage', 3641),\n",
       " ('airlinesmaintenance', 3596),\n",
       " ('date', 3582),\n",
       " ('fare', 3569),\n",
       " ('seat', 3475),\n",
       " ('use', 3469),\n",
       " ('process', 3450),\n",
       " ('air', 3433),\n",
       " ('need', 3424),\n",
       " ('rule', 3410),\n",
       " ('boarding', 3392),\n",
       " ('customerhow', 3380),\n",
       " ('check', 3357),\n",
       " ('add', 3346),\n",
       " ('private', 3220),\n",
       " ('scope', 3194),\n",
       " ('requirement', 3190),\n",
       " ('web', 3160),\n",
       " ('based', 3084),\n",
       " ('per', 3052),\n",
       " ('booking', 3017),\n",
       " ('support', 3015),\n",
       " ('passenger', 2983),\n",
       " ('inv', 2975),\n",
       " ('case', 2963),\n",
       " ('user', 2953),\n",
       " ('service', 2883),\n",
       " ('flow', 2877),\n",
       " ('implementation', 2863),\n",
       " ('request', 2847),\n",
       " ('status', 2761),\n",
       " ('list', 2757),\n",
       " ('name', 2752),\n",
       " ('ssr', 2740),\n",
       " ('tkt', 2738),\n",
       " ('baggage', 2719),\n",
       " ('message', 2695),\n",
       " ('group', 2688),\n",
       " ('available', 2671),\n",
       " ('business', 2668),\n",
       " ('done', 2633),\n",
       " ('used', 2599),\n",
       " ('flights', 2584),\n",
       " ('nousage', 2500),\n",
       " ('current', 2483),\n",
       " ('system', 2425),\n",
       " ('part', 2417),\n",
       " ('able', 2361),\n",
       " ('changes', 2347),\n",
       " ('like', 2339),\n",
       " ('existing', 2334),\n",
       " ('payment', 2296),\n",
       " ('pax', 2274),\n",
       " ('please', 2269),\n",
       " ('services', 2247),\n",
       " ('file', 2244),\n",
       " ('via', 2243),\n",
       " ('type', 2235),\n",
       " ('word', 2210),\n",
       " ('ticket', 2196),\n",
       " ('following', 2194),\n",
       " ('applicable', 2194),\n",
       " ('bag', 2185),\n",
       " ('refund', 2181),\n",
       " ('using', 2166),\n",
       " ('already', 2148),\n",
       " ('option', 2137),\n",
       " ('required', 2117),\n",
       " ('product', 2117),\n",
       " ('specific', 2112),\n",
       " ('set', 2100),\n",
       " ('sent', 2089),\n",
       " ('community', 2088),\n",
       " ('sq', 2081),\n",
       " ('pass', 2060),\n",
       " ('segment', 2060),\n",
       " ('emd', 2032),\n",
       " ('sizing', 2029),\n",
       " ('also', 2016),\n",
       " ('agent', 2012),\n",
       " ('must', 2010),\n",
       " ('level', 2001),\n",
       " ('description', 2001),\n",
       " ('cee', 2000),\n",
       " ('screen', 1997),\n",
       " ('format', 1982),\n",
       " ('allow', 1975),\n",
       " ('found', 1953),\n",
       " ('details', 1947),\n",
       " ('send', 1922),\n",
       " ('fm', 1917),\n",
       " ('template', 1916),\n",
       " ('text', 1915),\n",
       " ('americas', 1889),\n",
       " ('may', 1883),\n",
       " ('order', 1883),\n",
       " ('ac', 1869),\n",
       " ('account', 1867),\n",
       " ('bespoke', 1860),\n",
       " ('cost', 1850),\n",
       " ('oom', 1848),\n",
       " ('rate', 1843),\n",
       " ('sponsored', 1824),\n",
       " ('needs', 1823),\n",
       " ('displayed', 1822),\n",
       " ('maintenance', 1818),\n",
       " ('print', 1807),\n",
       " ('wn', 1804),\n",
       " ('lh', 1781),\n",
       " ('first', 1779),\n",
       " ('ssci', 1775),\n",
       " ('without', 1754),\n",
       " ('checkin', 1735),\n",
       " ('value', 1734),\n",
       " ('field', 1733),\n",
       " ('source', 1732),\n",
       " ('logic', 1723),\n",
       " ('page', 1717),\n",
       " ('load', 1711),\n",
       " ('functionality', 1698),\n",
       " ('apx', 1684),\n",
       " ('class', 1677),\n",
       " ('email', 1660),\n",
       " ('pay', 1646),\n",
       " ('manager', 1646),\n",
       " ('pricing', 1645),\n",
       " ('passengers', 1618),\n",
       " ('original', 1605),\n",
       " ('crs', 1603),\n",
       " ('side', 1590),\n",
       " ('updated', 1589),\n",
       " ('currently', 1583),\n",
       " ('impact', 1575),\n",
       " ('jal', 1571),\n",
       " ('jfe', 1568),\n",
       " ('hotel', 1565),\n",
       " ('provide', 1563),\n",
       " ('additional', 1562),\n",
       " ('carrier', 1544),\n",
       " ('cr', 1542),\n",
       " ('access', 1540),\n",
       " ('rules', 1523),\n",
       " ('create', 1509),\n",
       " ('feed', 1509),\n",
       " ('include', 1502),\n",
       " ('handling', 1498),\n",
       " ('cabin', 1490),\n",
       " ('see', 1485),\n",
       " ('itr', 1462),\n",
       " ('sk', 1436),\n",
       " ('activation', 1434),\n",
       " ('amount', 1423),\n",
       " ('id', 1413),\n",
       " ('want', 1412),\n",
       " ('provided', 1412),\n",
       " ('card', 1412),\n",
       " ('amaintenance', 1406),\n",
       " ('defined', 1391),\n",
       " ('different', 1391),\n",
       " ('ui', 1390),\n",
       " ('report', 1385),\n",
       " ('error', 1372),\n",
       " ('jl', 1364),\n",
       " ('pcp', 1355),\n",
       " ('platform', 1354),\n",
       " ('tax', 1354),\n",
       " ('availability', 1350),\n",
       " ('hit', 1340),\n",
       " ('link', 1327),\n",
       " ('mobile', 1326),\n",
       " ('nwe', 1315),\n",
       " ('indicator', 1314),\n",
       " ('search', 1304),\n",
       " ('call', 1302),\n",
       " ('attached', 1293),\n",
       " ('weight', 1286),\n",
       " ('qf', 1282),\n",
       " ('ard', 1277),\n",
       " ('atc', 1268),\n",
       " ('management', 1265),\n",
       " ('revenue', 1251),\n",
       " ('year', 1249),\n",
       " ('possible', 1240),\n",
       " ('sites', 1238),\n",
       " ('departure', 1232),\n",
       " ('standard', 1229),\n",
       " ('today', 1224),\n",
       " ('within', 1212),\n",
       " ('customers', 1207),\n",
       " ('version', 1205),\n",
       " ('fop', 1205),\n",
       " ('canada', 1205),\n",
       " ('apply', 1202),\n",
       " ('atb', 1202),\n",
       " ('pnrs', 1201),\n",
       " ('office', 1194),\n",
       " ('requested', 1193),\n",
       " ('reservation', 1189),\n",
       " ('b', 1188),\n",
       " ('needed', 1178),\n",
       " ('find', 1177),\n",
       " ('southwest', 1169),\n",
       " ('element', 1169),\n",
       " ('upgrade', 1166),\n",
       " ('v', 1160),\n",
       " ('europe', 1158),\n",
       " ('kiosk', 1154),\n",
       " ('full', 1143),\n",
       " ('afkl', 1125),\n",
       " ('table', 1117),\n",
       " ('requirements', 1114),\n",
       " ('dcscm', 1101),\n",
       " ('price', 1100),\n",
       " ('figaro', 1100),\n",
       " ('end', 1096),\n",
       " ('creation', 1081),\n",
       " ('ssp', 1077),\n",
       " ('notification', 1074),\n",
       " ('forum', 1072),\n",
       " ('ihg', 1066),\n",
       " ('complete', 1066),\n",
       " ('period', 1057),\n",
       " ('ecom', 1054),\n",
       " ('acceptance', 1054),\n",
       " ('airport', 1046),\n",
       " ('tier', 1043),\n",
       " ('reuse', 1042),\n",
       " ('transfer', 1041),\n",
       " ('eco', 1040),\n",
       " ('inventory', 1039),\n",
       " ('profile', 1039),\n",
       " ('included', 1038),\n",
       " ('usage', 1028),\n",
       " ('website', 1027),\n",
       " ('implement', 1021),\n",
       " ('itinerary', 1020),\n",
       " ('airways', 1020),\n",
       " ('retrieve', 1018),\n",
       " ('layout', 1016),\n",
       " ('criteria', 1013),\n",
       " ('instead', 1011),\n",
       " ('fields', 1008),\n",
       " ('shall', 1006),\n",
       " ('server', 1006),\n",
       " ('application', 1003),\n",
       " ('meta', 1001),\n",
       " ('another', 1000),\n",
       " ('present', 995),\n",
       " ('test', 995),\n",
       " ('ausage', 992),\n",
       " ('mh', 991),\n",
       " ('af', 989),\n",
       " ('similar', 988),\n",
       " ('eg', 982),\n",
       " ('potential', 982),\n",
       " ('addition', 982),\n",
       " ('received', 982),\n",
       " ('ahp', 981),\n",
       " ('lx', 981),\n",
       " ('cc', 978),\n",
       " ('could', 975),\n",
       " ('qualified', 973),\n",
       " ('messages', 973),\n",
       " ('due', 970),\n",
       " ('total', 970),\n",
       " ('ba', 968),\n",
       " ('get', 966),\n",
       " ('team', 961),\n",
       " ('travel', 948),\n",
       " ('issuance', 945),\n",
       " ('swa', 944),\n",
       " ('operating', 943),\n",
       " ('however', 942),\n",
       " ('miles', 942),\n",
       " ('chargeable', 940),\n",
       " ('disruption', 931),\n",
       " ('example', 930),\n",
       " ('input', 928),\n",
       " ('limit', 924),\n",
       " ('two', 922),\n",
       " ('reason', 920),\n",
       " ('returned', 917),\n",
       " ('cx', 912),\n",
       " ('manual', 912),\n",
       " ('make', 905),\n",
       " ('content', 897),\n",
       " ('printed', 889),\n",
       " ('trigger', 888),\n",
       " ('show', 884),\n",
       " ('action', 884),\n",
       " ('return', 883),\n",
       " ('channel', 882),\n",
       " ('issue', 880),\n",
       " ('last', 877),\n",
       " ('three', 874),\n",
       " ('requests', 871),\n",
       " ('cem', 866),\n",
       " ('seats', 865),\n",
       " ('partneramadeuscom', 865),\n",
       " ('coupon', 862),\n",
       " ('processing', 860),\n",
       " ('remove', 857),\n",
       " ('associated', 857),\n",
       " ('hotels', 855),\n",
       " ('loy', 854),\n",
       " ('day', 851),\n",
       " ('info', 849),\n",
       " ('multiple', 848),\n",
       " ('qr', 846),\n",
       " ('tag', 846),\n",
       " ('segments', 844),\n",
       " ('ca', 843),\n",
       " ('loyalty', 843),\n",
       " ('fares', 841),\n",
       " ('accounting', 838),\n",
       " ('well', 837),\n",
       " ('setup', 834),\n",
       " ('stored', 833),\n",
       " ('confluence', 830),\n",
       " ('impacted', 830),\n",
       " ('ie', 829),\n",
       " ('dds', 828),\n",
       " ('#', 826),\n",
       " ('rndwwwnceamadeusnet', 825),\n",
       " ('requires', 825),\n",
       " ('selected', 823),\n",
       " ('given', 821),\n",
       " ('c', 818),\n",
       " ('ticketing', 817),\n",
       " ('control', 812),\n",
       " ('https', 809),\n",
       " ('sales', 802),\n",
       " ('app', 798),\n",
       " ('www', 795),\n",
       " ('api', 793),\n",
       " ('related', 786),\n",
       " ('next', 785),\n",
       " ('configuration', 785),\n",
       " ('ground', 785),\n",
       " ('templates', 781),\n",
       " ('take', 779),\n",
       " ('journey', 776),\n",
       " ('including', 774),\n",
       " ('validation', 774),\n",
       " ('checks', 773),\n",
       " ('default', 773),\n",
       " ('sections', 773),\n",
       " ('implemented', 771),\n",
       " ('still', 767),\n",
       " ('point', 764),\n",
       " ('wbs', 762),\n",
       " ('options', 762),\n",
       " ('forms', 761),\n",
       " ('applies', 760),\n",
       " ('family', 759),\n",
       " ('applied', 759),\n",
       " ('changed', 757),\n",
       " ('external', 757),\n",
       " ('way', 755),\n",
       " ('leg', 751),\n",
       " ('sell', 749),\n",
       " ('kl', 747),\n",
       " ('phase', 747),\n",
       " ('response', 745),\n",
       " ('printing', 745),\n",
       " ('codeshare', 742),\n",
       " ('airlineit', 741),\n",
       " ('tickets', 740),\n",
       " ('transaction', 738),\n",
       " ('receipt', 737),\n",
       " ('schedule', 736),\n",
       " ('hot', 731),\n",
       " ('considered', 729),\n",
       " ('priority', 729),\n",
       " ('justification', 728),\n",
       " ('integration', 727),\n",
       " ('baseline', 722),\n",
       " ('feature', 719),\n",
       " ('refer', 715),\n",
       " ('thecommunity', 715),\n",
       " ('shopping', 715),\n",
       " ('attachit', 714),\n",
       " ('bzr', 713),\n",
       " ('final', 713),\n",
       " ('recordthe', 711),\n",
       " ('thecase', 711),\n",
       " ('background', 710),\n",
       " ('communitysharepoint', 710),\n",
       " ('categoryhttps', 709),\n",
       " ('airlinecommunity', 709),\n",
       " ('shareddocuments', 709),\n",
       " ('warning', 707),\n",
       " ('agents', 707),\n",
       " ('ff', 706),\n",
       " ('us', 705),\n",
       " ('partner', 704),\n",
       " ('flag', 703),\n",
       " ('post', 703),\n",
       " ('button', 700),\n",
       " ('values', 700),\n",
       " ('ke', 699),\n",
       " ('issued', 699),\n",
       " ('center', 699),\n",
       " ('uat', 699),\n",
       " ('migration', 698),\n",
       " ('activate', 698),\n",
       " ('gds', 695),\n",
       " ('md', 694),\n",
       " ('long', 694),\n",
       " ('record', 694),\n",
       " ('documentsbycategoryaspxcontact', 694),\n",
       " ('handle', 691),\n",
       " ('webservices', 690),\n",
       " ('dev', 689),\n",
       " ('open', 688),\n",
       " ('interface', 687),\n",
       " ('confirmed', 685),\n",
       " ('single', 684),\n",
       " ('domestic', 683),\n",
       " ('etc', 680),\n",
       " ('queue', 680),\n",
       " ('address', 679),\n",
       " ('parameter', 679),\n",
       " ('made', 676),\n",
       " ('winaproach', 675),\n",
       " ('section', 675),\n",
       " ('category', 674),\n",
       " ('ensure', 673),\n",
       " ('documents', 672),\n",
       " ('wants', 672),\n",
       " ('cases', 672),\n",
       " ('china', 671),\n",
       " ('aam', 671),\n",
       " ('activated', 670),\n",
       " ('av', 669),\n",
       " ('back', 669),\n",
       " ('xml', 668),\n",
       " ('ari', 666),\n",
       " ('free', 665),\n",
       " ('work', 663),\n",
       " ('controller', 660),\n",
       " ('online', 659),\n",
       " ('ramp', 659),\n",
       " ('not', 658),\n",
       " ('rms', 658),\n",
       " ('ability', 657),\n",
       " ('bags', 657),\n",
       " ('tool', 655),\n",
       " ('elements', 655),\n",
       " ('even', 654),\n",
       " ('select', 652),\n",
       " ('formats', 652),\n",
       " ('credit', 652),\n",
       " ('can', 651),\n",
       " ('sv', 650),\n",
       " ('aircraft', 647),\n",
       " ('ecommerce', 645),\n",
       " ('view', 644),\n",
       " ('yes', 644),\n",
       " ('voucher', 644),\n",
       " ('participants', 643),\n",
       " ('fqtv', 643),\n",
       " ('bp', 642),\n",
       " ('fra', 641),\n",
       " ('crew', 641),\n",
       " ('market', 639),\n",
       " ('history', 637),\n",
       " ('passport', 634),\n",
       " ('non', 633),\n",
       " ('intercontinental', 633),\n",
       " ('line', 630),\n",
       " ('codes', 630),\n",
       " ('onlyhow', 625),\n",
       " ('ahow', 625),\n",
       " ('special', 624),\n",
       " ('accepted', 624),\n",
       " ('japan', 620),\n",
       " ('proposed', 619),\n",
       " ('gate', 619),\n",
       " ('effort', 617),\n",
       " ('note', 617),\n",
       " ('project', 615),\n",
       " ('activity', 614),\n",
       " ('plan', 613),\n",
       " ('confirmation', 612),\n",
       " ('expected', 612),\n",
       " ('nh', 610),\n",
       " ('approved', 608),\n",
       " ('enterprise', 606),\n",
       " ('define', 603),\n",
       " ('enable', 602),\n",
       " ('event', 602),\n",
       " ('reacc', 601),\n",
       " ('permission', 600),\n",
       " ('suite', 599),\n",
       " ('acu', 598),\n",
       " ('start', 595),\n",
       " ('users', 595),\n",
       " ('interest', 595),\n",
       " ('iata', 594),\n",
       " ('gaps', 593),\n",
       " ('direct', 593),\n",
       " ('singapore', 591),\n",
       " ('cancel', 590),\n",
       " ('receive', 590),\n",
       " ('logo', 589),\n",
       " ('impacts', 587),\n",
       " ('ay', 586),\n",
       " ('staff', 585),\n",
       " ('exchange', 585),\n",
       " ('match', 584),\n",
       " ('summary', 584),\n",
       " ('ci', 584),\n",
       " ('flows', 581),\n",
       " ('eticket', 581),\n",
       " ('taxes', 580),\n",
       " ('identify', 578),\n",
       " ('currency', 578),\n",
       " ('manually', 576),\n",
       " ('either', 574),\n",
       " ('regional', 573),\n",
       " ('filter', 572),\n",
       " ('member', 572),\n",
       " ('since', 570),\n",
       " ('item', 569),\n",
       " ('delivery', 568),\n",
       " ('files', 567),\n",
       " ('override', 564),\n",
       " ('written', 563),\n",
       " ('room', 562),\n",
       " ('selection', 558),\n",
       " ('security', 558),\n",
       " ('top', 556),\n",
       " ('cpr', 555),\n",
       " ('plus', 554),\n",
       " ('reissue', 551),\n",
       " ('correct', 551),\n",
       " ('x', 551),\n",
       " ('column', 551),\n",
       " ('destination', 551),\n",
       " ('updates', 550),\n",
       " ('r', 550),\n",
       " ('redemption', 548),\n",
       " ('days', 547),\n",
       " ('types', 547),\n",
       " ('centre', 546),\n",
       " ('old', 544),\n",
       " ('inter', 543),\n",
       " ('wb', 542),\n",
       " ('marketing', 541),\n",
       " ('award', 541),\n",
       " ('internal', 539),\n",
       " ('bookings', 539),\n",
       " ('detailed', 535),\n",
       " ('booked', 535),\n",
       " ('international', 535),\n",
       " ('limited', 532),\n",
       " ('competency', 529),\n",
       " ('lufthansa', 528),\n",
       " ('lhg', 527),\n",
       " ('split', 526),\n",
       " ('distribution', 526),\n",
       " ('baselinemaintenance', 525),\n",
       " ('e', 524),\n",
       " ('handled', 524),\n",
       " ('limitation', 523),\n",
       " ('charged', 523),\n",
       " ('country', 523),\n",
       " ('discount', 523),\n",
       " ('br', 522),\n",
       " ('cutover', 520),\n",
       " ('enhanced', 520),\n",
       " ('supported', 519),\n",
       " ('result', 518),\n",
       " ('prime', 517),\n",
       " ('pages', 517),\n",
       " ('contact', 517),\n",
       " ('items', 516),\n",
       " ('perform', 515),\n",
       " ('size', 514),\n",
       " ('developments', 514),\n",
       " ('years', 514),\n",
       " ('place', 514),\n",
       " ('eretail', 514),\n",
       " ('points', 514),\n",
       " ('opr', 514),\n",
       " ('allowed', 513),\n",
       " ('eligible', 512),\n",
       " ('store', 512),\n",
       " ('engine', 511),\n",
       " ('matching', 509),\n",
       " ('checked', 507),\n",
       " ('testing', 507),\n",
       " ('dedicated', 505),\n",
       " ('st', 503),\n",
       " ('implementations', 503),\n",
       " ('require', 502),\n",
       " ('mode', 499),\n",
       " ('basis', 498),\n",
       " ('ndc', 498),\n",
       " ('channels', 494),\n",
       " ('characters', 494),\n",
       " ('oz', 492),\n",
       " ('calculation', 487),\n",
       " ('actions', 487),\n",
       " ('mandatory', 487),\n",
       " ('location', 487),\n",
       " ('behavior', 486),\n",
       " ('track', 486),\n",
       " ('corporate', 482),\n",
       " ('reporting', 481),\n",
       " ('term', 481),\n",
       " ('btp', 481),\n",
       " ('scenario', 481),\n",
       " ('dynamic', 481),\n",
       " ('rac', 480),\n",
       " ('reference', 480),\n",
       " ('abr', 479),\n",
       " ('base', 477),\n",
       " ('always', 477),\n",
       " ('pacific', 477),\n",
       " ('qantas', 477),\n",
       " ('performed', 476),\n",
       " ('actual', 476),\n",
       " ('might', 475),\n",
       " ('step', 473),\n",
       " ('star', 472),\n",
       " ('eligibility', 469),\n",
       " ('sending', 469),\n",
       " ('several', 469),\n",
       " ('yearly', 468),\n",
       " ('raised', 468),\n",
       " ('window', 467),\n",
       " ('modify', 466),\n",
       " ('previous', 464),\n",
       " ('range', 463),\n",
       " ('according', 463),\n",
       " ('possibility', 463),\n",
       " ('carriers', 462),\n",
       " ('interline', 461),\n",
       " ('manage', 460),\n",
       " ('form', 460),\n",
       " ('paid', 460),\n",
       " ('removed', 459),\n",
       " ('max', 458),\n",
       " ('drop', 457),\n",
       " ('p', 456),\n",
       " ('keep', 456),\n",
       " ('ancillary', 455),\n",
       " ('yesusage', 455),\n",
       " ('potentially', 454),\n",
       " ('ok', 453),\n",
       " ('shown', 453),\n",
       " ('frequent', 452),\n",
       " ('missing', 451),\n",
       " ('transactions', 450),\n",
       " ('offer', 449),\n",
       " ('study', 447),\n",
       " ('sole', 447),\n",
       " ('read', 447),\n",
       " ('separate', 446),\n",
       " ('production', 446),\n",
       " ('offices', 446),\n",
       " ('cancellation', 445),\n",
       " ('entry', 444),\n",
       " ('france', 443),\n",
       " ('equal', 443),\n",
       " ('taken', 443),\n",
       " ('k', 443),\n",
       " ('context', 442),\n",
       " ('connection', 442),\n",
       " ('valid', 441),\n",
       " ('future', 441),\n",
       " ('go', 440),\n",
       " ('pcv', 440),\n",
       " ('program', 439),\n",
       " ('target', 438),\n",
       " ('hk', 438),\n",
       " ('language', 438),\n",
       " ('webservice', 437),\n",
       " ('setting', 437),\n",
       " ('solutions', 435),\n",
       " ('zone', 433),\n",
       " ('od', 433),\n",
       " ('members', 433),\n",
       " ('compensation', 433),\n",
       " ('g', 433),\n",
       " ('gap', 432),\n",
       " ('gui', 431),\n",
       " ('entered', 428),\n",
       " ('includes', 428),\n",
       " ('accept', 428),\n",
       " ('adding', 427),\n",
       " ('klm', 426),\n",
       " ('identified', 426),\n",
       " ('opened', 426),\n",
       " ('loadsheet', 426),\n",
       " ('partial', 424),\n",
       " ('box', 424),\n",
       " ('aa', 420),\n",
       " ('funding', 420),\n",
       " ('vat', 420),\n",
       " ('nov', 420),\n",
       " ('mea', 419),\n",
       " ('maximum', 419),\n",
       " ('consider', 419),\n",
       " ('servicing', 419),\n",
       " ('numbers', 419),\n",
       " ('avianca', 416),\n",
       " ('excess', 416),\n",
       " ('aacc', 416),\n",
       " ('rebooking', 415),\n",
       " ('seatmap', 414),\n",
       " ('triggered', 413),\n",
       " ('allowance', 413),\n",
       " ('templatenan', 413),\n",
       " ('flyer', 412),\n",
       " ('lss', 410),\n",
       " ('cover', 410),\n",
       " ('main', 409),\n",
       " ('lms', 408),\n",
       " ('addedn', 406),\n",
       " ('flybe', 405),\n",
       " ('backend', 403),\n",
       " ('whether', 402),\n",
       " ('mapping', 402),\n",
       " ('fuel', 402),\n",
       " ('lhdcs', 401),\n",
       " ('ardw', 399),\n",
       " ('automatic', 398),\n",
       " ('rates', 398),\n",
       " ('rbd', 397),\n",
       " ('contain', 396),\n",
       " ('regulatory', 396),\n",
       " ('digital', 395),\n",
       " ('generated', 395),\n",
       " ('processed', 395),\n",
       " ('arrival', 395),\n",
       " ('dates', 394),\n",
       " ('billing', 394),\n",
       " ('enhancement', 394),\n",
       " ('problem', 393),\n",
       " ('offline', 392),\n",
       " ('move', 392),\n",
       " ('avoid', 391),\n",
       " ('conditions', 391),\n",
       " ('extra', 391),\n",
       " ('cryptic', 391),\n",
       " ('city', 391),\n",
       " ('export', 391),\n",
       " ('respect', 390),\n",
       " ('pms', 390),\n",
       " ('therefore', 389),\n",
       " ('panel', 389),\n",
       " ('loyal', 388),\n",
       " ('depending', 388),\n",
       " ('right', 387),\n",
       " ('popup', 387),\n",
       " ('ir', 387),\n",
       " ('general', 386),\n",
       " ('policy', 386),\n",
       " ('lounge', 386),\n",
       " ('force', 385),\n",
       " ('iatci', 384),\n",
       " ('behaviour', 384),\n",
       " ('function', 384),\n",
       " ('cpiscina', 383),\n",
       " ('pdf', 383),\n",
       " ('agreement', 382),\n",
       " ('doc', 381),\n",
       " ('bound', 381),\n",
       " ('cargo', 381),\n",
       " ('alliance', 380),\n",
       " ('corresponding', 378),\n",
       " ('f', 378),\n",
       " ('assumption', 377),\n",
       " ('rtdp', 377),\n",
       " ('uk', 375),\n",
       " ('sor', 375),\n",
       " ('generic', 374),\n",
       " ('contains', 374),\n",
       " ('called', 374),\n",
       " ('block', 372),\n",
       " ('enter', 371),\n",
       " ('si', 371),\n",
       " ('flex', 370),\n",
       " ('know', 370),\n",
       " ('site', 368),\n",
       " ('charge', 368),\n",
       " ('determine', 366),\n",
       " ('owner', 366),\n",
       " ('least', 366),\n",
       " ('functional', 365),\n",
       " ('events', 365),\n",
       " ('space', 364),\n",
       " ('db', 364),\n",
       " ('alms', 364),\n",
       " ('upon', 363),\n",
       " ('seating', 362),\n",
       " ('cash', 362),\n",
       " ('delete', 360),\n",
       " ('active', 360),\n",
       " ('mean', 359),\n",
       " ('rd', 359),\n",
       " ('regards', 359),\n",
       " ('parameters', 357),\n",
       " ('global', 356),\n",
       " ('review', 355),\n",
       " ('costs', 355),\n",
       " ('oa', 355),\n",
       " ('output', 354),\n",
       " ('continue', 354),\n",
       " ('commercial', 353),\n",
       " ('flown', 353),\n",
       " ('hours', 353),\n",
       " ('image', 353),\n",
       " ('dgsl', 353),\n",
       " ('high', 351),\n",
       " ('enhance', 351),\n",
       " ('design', 351),\n",
       " ('means', 350),\n",
       " ('hence', 350),\n",
       " ('best', 350),\n",
       " ('tty', 349),\n",
       " ('put', 349),\n",
       " ('icon', 348),\n",
       " ('database', 348),\n",
       " ('switch', 347),\n",
       " ('fast', 347),\n",
       " ('screens', 347),\n",
       " ('property', 347),\n",
       " ('reuses', 346),\n",
       " ('board', 346),\n",
       " ('classes', 346),\n",
       " ('uld', 346),\n",
       " ('delivered', 345),\n",
       " ('tp', 345),\n",
       " ('os', 343),\n",
       " ('position', 342),\n",
       " ('unilaterally', 341),\n",
       " ('cease', 341),\n",
       " ('sn', 340),\n",
       " ('increase', 340),\n",
       " ('ssrs', 339),\n",
       " ('jan', 339),\n",
       " ('dga', 339),\n",
       " ('definition', 338),\n",
       " ('admin', 337),\n",
       " ('feeds', 337),\n",
       " ('daily', 334),\n",
       " ('dbm', 334),\n",
       " ('operated', 333),\n",
       " ('scenarios', 333),\n",
       " ('cop', 333),\n",
       " ('partners', 332),\n",
       " ('aaas', 331),\n",
       " ('later', 330),\n",
       " ('pectab', 330),\n",
       " ('filing', 330),\n",
       " ('modification', 330),\n",
       " ('identification', 330),\n",
       " ('cmg', 329),\n",
       " ('developed', 329),\n",
       " ('run', 329),\n",
       " ('fi', 329),\n",
       " ('exclusivity', 328),\n",
       " ('eot', 328),\n",
       " ('closed', 328),\n",
       " ('comment', 327),\n",
       " ('wo', 326),\n",
       " ('reported', 326),\n",
       " ('optional', 326),\n",
       " ('exists', 325),\n",
       " ('j', 325),\n",
       " ('retrieved', 324),\n",
       " ('party', 324),\n",
       " ('dx', 323),\n",
       " ('results', 323),\n",
       " ('sale', 323),\n",
       " ('malaysia', 322),\n",
       " ('linked', 322),\n",
       " ('second', 322),\n",
       " ('containing', 321),\n",
       " ('confirm', 321),\n",
       " ('purpose', 321),\n",
       " ('traffic', 320),\n",
       " ('agreed', 320),\n",
       " ('l', 318),\n",
       " ('initial', 318),\n",
       " ('described', 317),\n",
       " ('necessary', 317),\n",
       " ('auto', 317),\n",
       " ('push', 317),\n",
       " ('acars', 317),\n",
       " ('follow', 316),\n",
       " ('capture', 316),\n",
       " ('ly', 316),\n",
       " ('asc', 315),\n",
       " ('dom', 315),\n",
       " ('method', 315),\n",
       " ('evolutions', 315),\n",
       " ('en', 315),\n",
       " ('budgetlineonly', 315),\n",
       " ('coupons', 314),\n",
       " ('configurable', 314),\n",
       " ('de', 314),\n",
       " ('mds', 314),\n",
       " ('edifact', 313),\n",
       " ('cathay', 313),\n",
       " ('row', 313),\n",
       " ('infant', 312),\n",
       " ('agm', 311),\n",
       " ('exist', 310),\n",
       " ('modified', 309),\n",
       " ('involuntary', 309),\n",
       " ('ghing', 308),\n",
       " ('processes', 306),\n",
       " ('remain', 306),\n",
       " ('directly', 306),\n",
       " ('tab', 306),\n",
       " ('impl', 306),\n",
       " ('attachment', 306),\n",
       " ('calls', 305),\n",
       " ('audit', 304),\n",
       " ('dl', 304),\n",
       " ('prd', 304),\n",
       " ('exemption', 304),\n",
       " ('copy', 303),\n",
       " ('query', 302),\n",
       " ('automated', 302),\n",
       " ('costhow', 302),\n",
       " ('amounts', 302),\n",
       " ('notice', 301),\n",
       " ('adc', 301),\n",
       " ('lg', 301),\n",
       " ('conversion', 301),\n",
       " ('count', 300),\n",
       " ('onload', 299),\n",
       " ('ptr', 299),\n",
       " ('applicablemaintenance', 299),\n",
       " ('whitbread', 298),\n",
       " ('assessment', 297),\n",
       " ('economy', 297),\n",
       " ('url', 297),\n",
       " ('invoice', 297),\n",
       " ('pos', 295),\n",
       " ('catalogue', 295),\n",
       " ('pm', 294),\n",
       " ('book', 293),\n",
       " ('functionalities', 293),\n",
       " ('trip', 293),\n",
       " ('ds', 293),\n",
       " ('yq', 293),\n",
       " ('proposal', 292),\n",
       " ('covered', 292),\n",
       " ('mentioned', 292),\n",
       " ('csx', 291),\n",
       " ('meal', 291),\n",
       " ('validate', 290),\n",
       " ('certification', 289),\n",
       " ('cancelled', 289),\n",
       " ('h', 289),\n",
       " ('authorization', 287),\n",
       " ('allows', 286),\n",
       " ...]"
      ]
     },
     "execution_count": 12,
     "metadata": {},
     "output_type": "execute_result"
    }
   ],
   "source": [
    "words"
   ]
  },
  {
   "cell_type": "code",
   "execution_count": 13,
   "metadata": {
    "gather": {
     "logged": 1602088667319
    },
    "jupyter": {
     "outputs_hidden": false,
     "source_hidden": false
    },
    "nteract": {
     "transient": {
      "deleting": false
     }
    }
   },
   "outputs": [
    {
     "name": "stdout",
     "output_type": "stream",
     "text": [
      "30522\n",
      "35521\n"
     ]
    },
    {
     "data": {
      "text/plain": [
       "Embedding(35521, 768)"
      ]
     },
     "execution_count": 13,
     "metadata": {},
     "output_type": "execute_result"
    }
   ],
   "source": [
    "import torch\n",
    "from transformers import BertTokenizer, BertModel\n",
    "tokenizer = BertTokenizer.from_pretrained(\"bert-base-uncased\")\n",
    "model = BertModel.from_pretrained(\"bert-base-uncased\")\n",
    "print(len(tokenizer))  # 28996\n",
    "tokenizer.add_tokens(words)\n",
    "print(len(tokenizer)) \n",
    "model.resize_token_embeddings(len(tokenizer)) "
   ]
  },
  {
   "cell_type": "code",
   "execution_count": 14,
   "metadata": {
    "gather": {
     "logged": 1602088842558
    },
    "jupyter": {
     "outputs_hidden": false,
     "source_hidden": false
    },
    "nteract": {
     "transient": {
      "deleting": false
     }
    }
   },
   "outputs": [],
   "source": [
    "import pandas as pd\n",
    "import numpy as np\n",
    "import torch\n",
    "from torch.utils.data import Dataset, DataLoader\n",
    "from transformers import BertModel, BertTokenizer\n",
    "from sklearn.model_selection import train_test_split\n",
    "from sklearn.preprocessing import MinMaxScaler\n",
    "from sklearn.metrics import mean_absolute_error, mean_squared_error, r2_score, median_absolute_error\n",
    "from tqdm import tqdm\n",
    "#from early_stopping import EarlyStopping\n",
    "import string"
   ]
  },
  {
   "cell_type": "code",
   "execution_count": 15,
   "metadata": {
    "gather": {
     "logged": 1602088747050
    },
    "jupyter": {
     "outputs_hidden": false,
     "source_hidden": false
    },
    "nteract": {
     "transient": {
      "deleting": false
     }
    }
   },
   "outputs": [],
   "source": [
    "class CustomDataset(Dataset):\n",
    "    def __init__(self, data, tokenizer, max_len):\n",
    "        data = data.reset_index()\n",
    "        self.tokenizer = tokenizer\n",
    "        self.text = data.text\n",
    "        self.targets = data.target\n",
    "        self.max_len = max_len\n",
    "\n",
    "    def __len__(self):\n",
    "        return len(self.text)\n",
    "\n",
    "    def __getitem__(self, index):\n",
    "        text = str(self.text[index])\n",
    "        text = \" \".join(text.split())\n",
    "\n",
    "        inputs = self.tokenizer.encode_plus(\n",
    "            text,\n",
    "            add_special_tokens=True,\n",
    "            max_length=self.max_len,\n",
    "            padding='max_length',\n",
    "            return_token_type_ids=True,\n",
    "            truncation=True\n",
    "        )\n",
    "\n",
    "        return {\n",
    "            'input_ids': torch.tensor(inputs['input_ids'], dtype=torch.long),\n",
    "            'attention_mask': torch.tensor(inputs['attention_mask'], dtype=torch.long),\n",
    "            'token_type_ids': torch.tensor(inputs[\"token_type_ids\"], dtype=torch.long),\n",
    "            'targets': torch.tensor(self.targets[index], dtype=torch.float)\n",
    "        }"
   ]
  },
  {
   "cell_type": "code",
   "execution_count": 16,
   "metadata": {
    "gather": {
     "logged": 1602088809850
    },
    "jupyter": {
     "outputs_hidden": false,
     "source_hidden": false
    },
    "nteract": {
     "transient": {
      "deleting": false
     }
    }
   },
   "outputs": [],
   "source": [
    "class BERTForRegression(torch.nn.Module):\n",
    "    def __init__(self, layer_size=768, dropout=0.3):\n",
    "        super(BERTForRegression, self).__init__()\n",
    "        self.bert = BertModel.from_pretrained(\"bert-base-uncased\")\n",
    "        self.hidden_layer = torch.nn.Linear(768, layer_size)\n",
    "        self.dropout = torch.nn.Dropout(dropout)\n",
    "        self.classifier = torch.nn.Linear(layer_size, 1)\n",
    "\n",
    "    def forward(self, input_ids, attention_mask, token_type_ids):\n",
    "        output_1 = self.bert(input_ids=input_ids, attention_mask=attention_mask)\n",
    "        # BERT \"pooling\": https://github.com/huggingface/transformers/issues/1535\n",
    "        bert_output = output_1[0][:, 0]\n",
    "        x = self.hidden_layer(bert_output)\n",
    "        x = torch.nn.ReLU()(x)\n",
    "        # With dropout\n",
    "        x = self.dropout(x)\n",
    "        # Final layer\n",
    "        x = self.classifier(x)\n",
    "        return torch.nn.ReLU()(x)\n",
    "\n",
    "    def eval_with_dict(self, data):\n",
    "        return self(\n",
    "            data['input_ids'].to(device, dtype=torch.long),\n",
    "            data['attention_mask'].to(device, dtype=torch.long),\n",
    "            data['token_type_ids'].to(device, dtype=torch.long)\n",
    "        ).squeeze(1)\n",
    "\n",
    "    def eval_with_loader(self, loader):\n",
    "        self.eval()\n",
    "        fin_targets = []\n",
    "        fin_outputs = []\n",
    "        with torch.no_grad():\n",
    "            for _, data in enumerate(loader, 0):\n",
    "                predictions = self.eval_with_dict(data)\n",
    "                fin_targets.extend(data['targets'].tolist())\n",
    "                fin_outputs.extend(torch.sigmoid(predictions).to(\"cpu\").detach().numpy().tolist())\n",
    "        return fin_outputs, fin_targets\n",
    "\n",
    "\n",
    "def compute_abs_error(predictions, targets, scaler):\n",
    "    return torch.abs(\n",
    "        untransform(predictions, scaler) - untransform(targets, scaler)\n",
    "    ).sum().data\n",
    "\n",
    "\n",
    "def untransform(y, scaler):\n",
    "    return torch.exp(\n",
    "        y * (scaler.data_max_[0] - scaler.data_min_[0]) + scaler.data_min_[0]\n",
    "    ) - 1"
   ]
  },
  {
   "cell_type": "code",
   "execution_count": 17,
   "metadata": {
    "gather": {
     "logged": 1602088896800
    },
    "jupyter": {
     "outputs_hidden": false,
     "source_hidden": false
    },
    "nteract": {
     "transient": {
      "deleting": false
     }
    }
   },
   "outputs": [],
   "source": [
    "class Trainer:\n",
    "    def __init__(self, dataset, tokenizer, learning_rate, patience, train_batch_size, test_batch_size):\n",
    "        self.tokenizer = tokenizer\n",
    "        self.learning_rate = learning_rate\n",
    "        self.patience = patience\n",
    "        self.train_batch_size = train_batch_size\n",
    "        self.test_batch_size = test_batch_size\n",
    "        self.max_length = tokenizer.model_max_length\n",
    "        self.loss = torch.nn.MSELoss()\n",
    "\n",
    "        self.prepare_data(dataset)\n",
    "\n",
    "    def prepare_data(self, dataset):\n",
    "        train_dataset, test_dataset = train_test_split(dataset, test_size=0.25, random_state=1)\n",
    "        test_dataset, valid_dataset = train_test_split(test_dataset, test_size=0.2, random_state=1)\n",
    "\n",
    "        # Normalization\n",
    "        self.scaler = MinMaxScaler()\n",
    "        self.scaler.fit(train_dataset[['target']])\n",
    "        train_dataset['target'] = self.scaler.transform(train_dataset[['target']])\n",
    "        test_dataset['target'] = self.scaler.transform(test_dataset[['target']])\n",
    "        valid_dataset['target'] = self.scaler.transform(valid_dataset[['target']])\n",
    "\n",
    "        # Create datasets\n",
    "        training_set = CustomDataset(train_dataset, self.tokenizer, self.max_length)\n",
    "        test_set = CustomDataset(test_dataset, self.tokenizer, self.max_length)\n",
    "        valid_set = CustomDataset(valid_dataset, self.tokenizer, self.max_length)\n",
    "\n",
    "        # Create data loaders\n",
    "        train_params = {\n",
    "            'batch_size': self.train_batch_size,\n",
    "            'shuffle': True\n",
    "        }\n",
    "        test_params = {\n",
    "            'batch_size': self.test_batch_size,\n",
    "            'shuffle': False\n",
    "        }\n",
    "        self.training_loader = DataLoader(training_set, **train_params)\n",
    "        self.test_loader = DataLoader(test_set, **test_params)\n",
    "        self.valid_loader = DataLoader(valid_set, **test_params)\n",
    "\n",
    "    def train(self, model, nb_epochs):\n",
    "        optimizer = torch.optim.Adam(params=model.parameters(), lr=self.learning_rate)\n",
    "\n",
    "        for epoch in range(nb_epochs):\n",
    "            # Training part\n",
    "            model.train()\n",
    "            training_abs_err, train_loss = 0, 0\n",
    "            for _, data in tqdm(\n",
    "                        enumerate(self.training_loader),\n",
    "                        total=len(self.training_loader),\n",
    "                        desc=f\"Epoch {epoch + 1}\",\n",
    "                        miniters=10\n",
    "                    ):\n",
    "                optimizer.zero_grad()\n",
    "\n",
    "                targets = data['targets'].to(device, dtype=torch.float)\n",
    "\n",
    "                outputs = model.eval_with_dict(data)\n",
    "\n",
    "                # Compute loss and other metrics\n",
    "                loss = self.loss(outputs, targets)\n",
    "                train_loss += loss.item()\n",
    "                training_abs_err += compute_abs_error(outputs, targets, self.scaler)\n",
    "\n",
    "                # compute gradients and perform one optimization step\n",
    "                loss.backward()\n",
    "                optimizer.step()\n",
    "\n",
    "            # End of epoch: run validation & print train and validation scores\n",
    "            # Validation part\n",
    "            model.eval()\n",
    "            valid_abs_error, valid_loss = 0, 0\n",
    "            for data in self.valid_loader:\n",
    "                targets = data['targets'].to(device, dtype=torch.float)\n",
    "                outputs = model.eval_with_dict(data)\n",
    "                loss = self.loss(outputs, targets)\n",
    "                valid_loss += loss.item()\n",
    "                valid_abs_error += compute_abs_error(outputs, targets, self.scaler)\n",
    "\n",
    "            # Scores\n",
    "            valid_mae = valid_abs_error / len(self.valid_loader.dataset)\n",
    "            valid_loss = valid_loss / len(self.valid_loader.dataset)\n",
    "\n",
    "            train_mae = training_abs_err / len(self.training_loader.dataset)\n",
    "            train_loss = train_loss / len(self.training_loader.dataset)\n",
    "            print((\n",
    "                f\"Epoch {epoch + 1} / {nb_epochs}, Loss: {train_loss:.3f}, MAE: {train_mae:.1f} \"\n",
    "                f\"- Validation Loss: {valid_loss:.3f}, Validation MAE: {valid_mae:.1f}\"))\n",
    "\n",
    "    \n",
    "\n",
    "        # Return best (checkpointed) model\n",
    "        model.load_state_dict(torch.load('checkpoint.pt'))\n",
    "        return model\n",
    "\n",
    "\n",
    "def mean_absolute_percentage_error(y_true, y_pred):\n",
    "    return np.mean(np.abs((y_true - y_pred)[y_true > 0] / (y_true + 1e-7)[y_true > 0])) * 100\n",
    "\n",
    "\n",
    "def max_absolute_error(y_true, y_pred):\n",
    "    return np.max(np.abs((y_true - y_pred)))\n",
    "\n",
    "\n",
    "def compute_metrics(y_test, y_pred):\n",
    "    print(f\"MSE: {mean_squared_error(y_test, y_pred)}\")\n",
    "    # print(f\"r2: {r2_score(y_test, y_pred)}\")\n",
    "    print(f\"MAE: {mean_absolute_error(y_test, y_pred)}\")\n",
    "    print(f\"MedAE: {median_absolute_error(y_test, y_pred)}\")\n",
    "    print(f\"MaxAE: {max_absolute_error(y_test, y_pred)}\")\n",
    "    print(f\"MAPE: {mean_absolute_percentage_error(y_test, y_pred)}\")"
   ]
  },
  {
   "cell_type": "code",
   "execution_count": 18,
   "metadata": {
    "gather": {
     "logged": 1602088944293
    },
    "jupyter": {
     "outputs_hidden": false,
     "source_hidden": false
    },
    "nteract": {
     "transient": {
      "deleting": false
     }
    }
   },
   "outputs": [],
   "source": [
    "device = 'cuda' if torch.cuda.is_available() else 'cpu'"
   ]
  },
  {
   "cell_type": "code",
   "execution_count": 19,
   "metadata": {
    "gather": {
     "logged": 1602088963227
    },
    "jupyter": {
     "outputs_hidden": false,
     "source_hidden": false
    },
    "nteract": {
     "transient": {
      "deleting": false
     }
    }
   },
   "outputs": [
    {
     "data": {
      "text/plain": [
       "BERTForRegression(\n",
       "  (bert): BertModel(\n",
       "    (embeddings): BertEmbeddings(\n",
       "      (word_embeddings): Embedding(30522, 768, padding_idx=0)\n",
       "      (position_embeddings): Embedding(512, 768)\n",
       "      (token_type_embeddings): Embedding(2, 768)\n",
       "      (LayerNorm): LayerNorm((768,), eps=1e-12, elementwise_affine=True)\n",
       "      (dropout): Dropout(p=0.1, inplace=False)\n",
       "    )\n",
       "    (encoder): BertEncoder(\n",
       "      (layer): ModuleList(\n",
       "        (0): BertLayer(\n",
       "          (attention): BertAttention(\n",
       "            (self): BertSelfAttention(\n",
       "              (query): Linear(in_features=768, out_features=768, bias=True)\n",
       "              (key): Linear(in_features=768, out_features=768, bias=True)\n",
       "              (value): Linear(in_features=768, out_features=768, bias=True)\n",
       "              (dropout): Dropout(p=0.1, inplace=False)\n",
       "            )\n",
       "            (output): BertSelfOutput(\n",
       "              (dense): Linear(in_features=768, out_features=768, bias=True)\n",
       "              (LayerNorm): LayerNorm((768,), eps=1e-12, elementwise_affine=True)\n",
       "              (dropout): Dropout(p=0.1, inplace=False)\n",
       "            )\n",
       "          )\n",
       "          (intermediate): BertIntermediate(\n",
       "            (dense): Linear(in_features=768, out_features=3072, bias=True)\n",
       "          )\n",
       "          (output): BertOutput(\n",
       "            (dense): Linear(in_features=3072, out_features=768, bias=True)\n",
       "            (LayerNorm): LayerNorm((768,), eps=1e-12, elementwise_affine=True)\n",
       "            (dropout): Dropout(p=0.1, inplace=False)\n",
       "          )\n",
       "        )\n",
       "        (1): BertLayer(\n",
       "          (attention): BertAttention(\n",
       "            (self): BertSelfAttention(\n",
       "              (query): Linear(in_features=768, out_features=768, bias=True)\n",
       "              (key): Linear(in_features=768, out_features=768, bias=True)\n",
       "              (value): Linear(in_features=768, out_features=768, bias=True)\n",
       "              (dropout): Dropout(p=0.1, inplace=False)\n",
       "            )\n",
       "            (output): BertSelfOutput(\n",
       "              (dense): Linear(in_features=768, out_features=768, bias=True)\n",
       "              (LayerNorm): LayerNorm((768,), eps=1e-12, elementwise_affine=True)\n",
       "              (dropout): Dropout(p=0.1, inplace=False)\n",
       "            )\n",
       "          )\n",
       "          (intermediate): BertIntermediate(\n",
       "            (dense): Linear(in_features=768, out_features=3072, bias=True)\n",
       "          )\n",
       "          (output): BertOutput(\n",
       "            (dense): Linear(in_features=3072, out_features=768, bias=True)\n",
       "            (LayerNorm): LayerNorm((768,), eps=1e-12, elementwise_affine=True)\n",
       "            (dropout): Dropout(p=0.1, inplace=False)\n",
       "          )\n",
       "        )\n",
       "        (2): BertLayer(\n",
       "          (attention): BertAttention(\n",
       "            (self): BertSelfAttention(\n",
       "              (query): Linear(in_features=768, out_features=768, bias=True)\n",
       "              (key): Linear(in_features=768, out_features=768, bias=True)\n",
       "              (value): Linear(in_features=768, out_features=768, bias=True)\n",
       "              (dropout): Dropout(p=0.1, inplace=False)\n",
       "            )\n",
       "            (output): BertSelfOutput(\n",
       "              (dense): Linear(in_features=768, out_features=768, bias=True)\n",
       "              (LayerNorm): LayerNorm((768,), eps=1e-12, elementwise_affine=True)\n",
       "              (dropout): Dropout(p=0.1, inplace=False)\n",
       "            )\n",
       "          )\n",
       "          (intermediate): BertIntermediate(\n",
       "            (dense): Linear(in_features=768, out_features=3072, bias=True)\n",
       "          )\n",
       "          (output): BertOutput(\n",
       "            (dense): Linear(in_features=3072, out_features=768, bias=True)\n",
       "            (LayerNorm): LayerNorm((768,), eps=1e-12, elementwise_affine=True)\n",
       "            (dropout): Dropout(p=0.1, inplace=False)\n",
       "          )\n",
       "        )\n",
       "        (3): BertLayer(\n",
       "          (attention): BertAttention(\n",
       "            (self): BertSelfAttention(\n",
       "              (query): Linear(in_features=768, out_features=768, bias=True)\n",
       "              (key): Linear(in_features=768, out_features=768, bias=True)\n",
       "              (value): Linear(in_features=768, out_features=768, bias=True)\n",
       "              (dropout): Dropout(p=0.1, inplace=False)\n",
       "            )\n",
       "            (output): BertSelfOutput(\n",
       "              (dense): Linear(in_features=768, out_features=768, bias=True)\n",
       "              (LayerNorm): LayerNorm((768,), eps=1e-12, elementwise_affine=True)\n",
       "              (dropout): Dropout(p=0.1, inplace=False)\n",
       "            )\n",
       "          )\n",
       "          (intermediate): BertIntermediate(\n",
       "            (dense): Linear(in_features=768, out_features=3072, bias=True)\n",
       "          )\n",
       "          (output): BertOutput(\n",
       "            (dense): Linear(in_features=3072, out_features=768, bias=True)\n",
       "            (LayerNorm): LayerNorm((768,), eps=1e-12, elementwise_affine=True)\n",
       "            (dropout): Dropout(p=0.1, inplace=False)\n",
       "          )\n",
       "        )\n",
       "        (4): BertLayer(\n",
       "          (attention): BertAttention(\n",
       "            (self): BertSelfAttention(\n",
       "              (query): Linear(in_features=768, out_features=768, bias=True)\n",
       "              (key): Linear(in_features=768, out_features=768, bias=True)\n",
       "              (value): Linear(in_features=768, out_features=768, bias=True)\n",
       "              (dropout): Dropout(p=0.1, inplace=False)\n",
       "            )\n",
       "            (output): BertSelfOutput(\n",
       "              (dense): Linear(in_features=768, out_features=768, bias=True)\n",
       "              (LayerNorm): LayerNorm((768,), eps=1e-12, elementwise_affine=True)\n",
       "              (dropout): Dropout(p=0.1, inplace=False)\n",
       "            )\n",
       "          )\n",
       "          (intermediate): BertIntermediate(\n",
       "            (dense): Linear(in_features=768, out_features=3072, bias=True)\n",
       "          )\n",
       "          (output): BertOutput(\n",
       "            (dense): Linear(in_features=3072, out_features=768, bias=True)\n",
       "            (LayerNorm): LayerNorm((768,), eps=1e-12, elementwise_affine=True)\n",
       "            (dropout): Dropout(p=0.1, inplace=False)\n",
       "          )\n",
       "        )\n",
       "        (5): BertLayer(\n",
       "          (attention): BertAttention(\n",
       "            (self): BertSelfAttention(\n",
       "              (query): Linear(in_features=768, out_features=768, bias=True)\n",
       "              (key): Linear(in_features=768, out_features=768, bias=True)\n",
       "              (value): Linear(in_features=768, out_features=768, bias=True)\n",
       "              (dropout): Dropout(p=0.1, inplace=False)\n",
       "            )\n",
       "            (output): BertSelfOutput(\n",
       "              (dense): Linear(in_features=768, out_features=768, bias=True)\n",
       "              (LayerNorm): LayerNorm((768,), eps=1e-12, elementwise_affine=True)\n",
       "              (dropout): Dropout(p=0.1, inplace=False)\n",
       "            )\n",
       "          )\n",
       "          (intermediate): BertIntermediate(\n",
       "            (dense): Linear(in_features=768, out_features=3072, bias=True)\n",
       "          )\n",
       "          (output): BertOutput(\n",
       "            (dense): Linear(in_features=3072, out_features=768, bias=True)\n",
       "            (LayerNorm): LayerNorm((768,), eps=1e-12, elementwise_affine=True)\n",
       "            (dropout): Dropout(p=0.1, inplace=False)\n",
       "          )\n",
       "        )\n",
       "        (6): BertLayer(\n",
       "          (attention): BertAttention(\n",
       "            (self): BertSelfAttention(\n",
       "              (query): Linear(in_features=768, out_features=768, bias=True)\n",
       "              (key): Linear(in_features=768, out_features=768, bias=True)\n",
       "              (value): Linear(in_features=768, out_features=768, bias=True)\n",
       "              (dropout): Dropout(p=0.1, inplace=False)\n",
       "            )\n",
       "            (output): BertSelfOutput(\n",
       "              (dense): Linear(in_features=768, out_features=768, bias=True)\n",
       "              (LayerNorm): LayerNorm((768,), eps=1e-12, elementwise_affine=True)\n",
       "              (dropout): Dropout(p=0.1, inplace=False)\n",
       "            )\n",
       "          )\n",
       "          (intermediate): BertIntermediate(\n",
       "            (dense): Linear(in_features=768, out_features=3072, bias=True)\n",
       "          )\n",
       "          (output): BertOutput(\n",
       "            (dense): Linear(in_features=3072, out_features=768, bias=True)\n",
       "            (LayerNorm): LayerNorm((768,), eps=1e-12, elementwise_affine=True)\n",
       "            (dropout): Dropout(p=0.1, inplace=False)\n",
       "          )\n",
       "        )\n",
       "        (7): BertLayer(\n",
       "          (attention): BertAttention(\n",
       "            (self): BertSelfAttention(\n",
       "              (query): Linear(in_features=768, out_features=768, bias=True)\n",
       "              (key): Linear(in_features=768, out_features=768, bias=True)\n",
       "              (value): Linear(in_features=768, out_features=768, bias=True)\n",
       "              (dropout): Dropout(p=0.1, inplace=False)\n",
       "            )\n",
       "            (output): BertSelfOutput(\n",
       "              (dense): Linear(in_features=768, out_features=768, bias=True)\n",
       "              (LayerNorm): LayerNorm((768,), eps=1e-12, elementwise_affine=True)\n",
       "              (dropout): Dropout(p=0.1, inplace=False)\n",
       "            )\n",
       "          )\n",
       "          (intermediate): BertIntermediate(\n",
       "            (dense): Linear(in_features=768, out_features=3072, bias=True)\n",
       "          )\n",
       "          (output): BertOutput(\n",
       "            (dense): Linear(in_features=3072, out_features=768, bias=True)\n",
       "            (LayerNorm): LayerNorm((768,), eps=1e-12, elementwise_affine=True)\n",
       "            (dropout): Dropout(p=0.1, inplace=False)\n",
       "          )\n",
       "        )\n",
       "        (8): BertLayer(\n",
       "          (attention): BertAttention(\n",
       "            (self): BertSelfAttention(\n",
       "              (query): Linear(in_features=768, out_features=768, bias=True)\n",
       "              (key): Linear(in_features=768, out_features=768, bias=True)\n",
       "              (value): Linear(in_features=768, out_features=768, bias=True)\n",
       "              (dropout): Dropout(p=0.1, inplace=False)\n",
       "            )\n",
       "            (output): BertSelfOutput(\n",
       "              (dense): Linear(in_features=768, out_features=768, bias=True)\n",
       "              (LayerNorm): LayerNorm((768,), eps=1e-12, elementwise_affine=True)\n",
       "              (dropout): Dropout(p=0.1, inplace=False)\n",
       "            )\n",
       "          )\n",
       "          (intermediate): BertIntermediate(\n",
       "            (dense): Linear(in_features=768, out_features=3072, bias=True)\n",
       "          )\n",
       "          (output): BertOutput(\n",
       "            (dense): Linear(in_features=3072, out_features=768, bias=True)\n",
       "            (LayerNorm): LayerNorm((768,), eps=1e-12, elementwise_affine=True)\n",
       "            (dropout): Dropout(p=0.1, inplace=False)\n",
       "          )\n",
       "        )\n",
       "        (9): BertLayer(\n",
       "          (attention): BertAttention(\n",
       "            (self): BertSelfAttention(\n",
       "              (query): Linear(in_features=768, out_features=768, bias=True)\n",
       "              (key): Linear(in_features=768, out_features=768, bias=True)\n",
       "              (value): Linear(in_features=768, out_features=768, bias=True)\n",
       "              (dropout): Dropout(p=0.1, inplace=False)\n",
       "            )\n",
       "            (output): BertSelfOutput(\n",
       "              (dense): Linear(in_features=768, out_features=768, bias=True)\n",
       "              (LayerNorm): LayerNorm((768,), eps=1e-12, elementwise_affine=True)\n",
       "              (dropout): Dropout(p=0.1, inplace=False)\n",
       "            )\n",
       "          )\n",
       "          (intermediate): BertIntermediate(\n",
       "            (dense): Linear(in_features=768, out_features=3072, bias=True)\n",
       "          )\n",
       "          (output): BertOutput(\n",
       "            (dense): Linear(in_features=3072, out_features=768, bias=True)\n",
       "            (LayerNorm): LayerNorm((768,), eps=1e-12, elementwise_affine=True)\n",
       "            (dropout): Dropout(p=0.1, inplace=False)\n",
       "          )\n",
       "        )\n",
       "        (10): BertLayer(\n",
       "          (attention): BertAttention(\n",
       "            (self): BertSelfAttention(\n",
       "              (query): Linear(in_features=768, out_features=768, bias=True)\n",
       "              (key): Linear(in_features=768, out_features=768, bias=True)\n",
       "              (value): Linear(in_features=768, out_features=768, bias=True)\n",
       "              (dropout): Dropout(p=0.1, inplace=False)\n",
       "            )\n",
       "            (output): BertSelfOutput(\n",
       "              (dense): Linear(in_features=768, out_features=768, bias=True)\n",
       "              (LayerNorm): LayerNorm((768,), eps=1e-12, elementwise_affine=True)\n",
       "              (dropout): Dropout(p=0.1, inplace=False)\n",
       "            )\n",
       "          )\n",
       "          (intermediate): BertIntermediate(\n",
       "            (dense): Linear(in_features=768, out_features=3072, bias=True)\n",
       "          )\n",
       "          (output): BertOutput(\n",
       "            (dense): Linear(in_features=3072, out_features=768, bias=True)\n",
       "            (LayerNorm): LayerNorm((768,), eps=1e-12, elementwise_affine=True)\n",
       "            (dropout): Dropout(p=0.1, inplace=False)\n",
       "          )\n",
       "        )\n",
       "        (11): BertLayer(\n",
       "          (attention): BertAttention(\n",
       "            (self): BertSelfAttention(\n",
       "              (query): Linear(in_features=768, out_features=768, bias=True)\n",
       "              (key): Linear(in_features=768, out_features=768, bias=True)\n",
       "              (value): Linear(in_features=768, out_features=768, bias=True)\n",
       "              (dropout): Dropout(p=0.1, inplace=False)\n",
       "            )\n",
       "            (output): BertSelfOutput(\n",
       "              (dense): Linear(in_features=768, out_features=768, bias=True)\n",
       "              (LayerNorm): LayerNorm((768,), eps=1e-12, elementwise_affine=True)\n",
       "              (dropout): Dropout(p=0.1, inplace=False)\n",
       "            )\n",
       "          )\n",
       "          (intermediate): BertIntermediate(\n",
       "            (dense): Linear(in_features=768, out_features=3072, bias=True)\n",
       "          )\n",
       "          (output): BertOutput(\n",
       "            (dense): Linear(in_features=3072, out_features=768, bias=True)\n",
       "            (LayerNorm): LayerNorm((768,), eps=1e-12, elementwise_affine=True)\n",
       "            (dropout): Dropout(p=0.1, inplace=False)\n",
       "          )\n",
       "        )\n",
       "      )\n",
       "    )\n",
       "    (pooler): BertPooler(\n",
       "      (dense): Linear(in_features=768, out_features=768, bias=True)\n",
       "      (activation): Tanh()\n",
       "    )\n",
       "  )\n",
       "  (hidden_layer): Linear(in_features=768, out_features=5, bias=True)\n",
       "  (dropout): Dropout(p=0.5, inplace=False)\n",
       "  (classifier): Linear(in_features=5, out_features=1, bias=True)\n",
       ")"
      ]
     },
     "execution_count": 19,
     "metadata": {},
     "output_type": "execute_result"
    }
   ],
   "source": [
    "model = BERTForRegression(\n",
    "        layer_size=5,\n",
    "        dropout=0.5\n",
    "    )\n",
    " \n",
    "model.to(device)"
   ]
  },
  {
   "cell_type": "code",
   "execution_count": 48,
   "metadata": {
    "gather": {
     "logged": 1602089013204
    },
    "jupyter": {
     "outputs_hidden": false,
     "source_hidden": false
    },
    "nteract": {
     "transient": {
      "deleting": false
     }
    }
   },
   "outputs": [],
   "source": [
    " # Load data\n",
    "    df = pd.read_excel(\"data_sizing_bin1.xlsx\")\n",
    "    df=df[df['ProductName']=='Web Check-in']\n",
    "    df = df[[\"RequirementDescription\", \"RecommendedPricing\", \"Title\",'PCPCategory',\"Sizing\"]]\n",
    "    #df[\"Sizing_bins\"].fillna(\"Very Large\", inplace=True)  # To be checked\n",
    "    df = df.dropna()\n",
    "    df = df.reset_index(drop=True)\n",
    "    df.columns = ['text', 'RecommendedPricing', 'Title','PCPCategory','target']\n",
    "\n",
    "    # Target pre-processing\n",
    "    df.target = np.log(df.target + 1)\n",
    "\n",
    "    # Text preprocessing\n",
    "    df['text'] = df['text'].str.lower()\n",
    "    # Remove some useless content\n",
    "    # df['text'] = df['text'].str.replace('winaproach', '', regex=False)\n",
    "    # df['text'] = df['text'].str.replace('this task has been automatically created', '', regex=False)\n",
    "    # Remove URLs\n",
    "    df['text'] = df['text'].str.replace(r'http\\S+', '', regex=True)\n",
    "    # Remove HTML tags\n",
    "    df['text'] = df['text'].str.replace(r'<.*?>', ' ', regex=True)\n",
    "    # Remove punctuation - is it useful?\n",
    "    df['text'] = df['text'].str.replace('-', ' ', regex=False)\n",
    "    df['text'] = df['text'].str.translate(str.maketrans('', '', string.punctuation))"
   ]
  },
  {
   "cell_type": "code",
   "execution_count": 49,
   "metadata": {
    "gather": {
     "logged": 1602089074946
    },
    "jupyter": {
     "outputs_hidden": false,
     "source_hidden": false
    },
    "nteract": {
     "transient": {
      "deleting": false
     }
    }
   },
   "outputs": [
    {
     "name": "stderr",
     "output_type": "stream",
     "text": [
      "/anaconda/envs/azureml_py36/lib/python3.6/site-packages/ipykernel_launcher.py:20: SettingWithCopyWarning: \n",
      "A value is trying to be set on a copy of a slice from a DataFrame.\n",
      "Try using .loc[row_indexer,col_indexer] = value instead\n",
      "\n",
      "See the caveats in the documentation: http://pandas.pydata.org/pandas-docs/stable/user_guide/indexing.html#returning-a-view-versus-a-copy\n"
     ]
    }
   ],
   "source": [
    "    # Training\n",
    "    trainer = Trainer(\n",
    "        dataset=df,\n",
    "        tokenizer=BertTokenizer.from_pretrained('bert-base-uncased'),\n",
    "        learning_rate=0.01,\n",
    "        patience=5,\n",
    "        train_batch_size=5,\n",
    "        test_batch_size=1\n",
    "    )"
   ]
  },
  {
   "cell_type": "code",
   "execution_count": null,
   "metadata": {
    "jupyter": {
     "outputs_hidden": false,
     "source_hidden": false
    },
    "nteract": {
     "transient": {
      "deleting": false
     }
    }
   },
   "outputs": [
    {
     "name": "stderr",
     "output_type": "stream",
     "text": [
      "Epoch 1: 100%|██████████| 4/4 [00:03<00:00,  1.14it/s]\n",
      "Epoch 2:   0%|          | 0/4 [00:00<?, ?it/s]"
     ]
    },
    {
     "name": "stdout",
     "output_type": "stream",
     "text": [
      "Epoch 1 / 150, Loss: 0.031, MAE: 78.1 - Validation Loss: 0.068, Validation MAE: 10.5\n"
     ]
    },
    {
     "name": "stderr",
     "output_type": "stream",
     "text": [
      "Epoch 2: 100%|██████████| 4/4 [00:03<00:00,  1.13it/s]\n",
      "Epoch 3:   0%|          | 0/4 [00:00<?, ?it/s]"
     ]
    },
    {
     "name": "stdout",
     "output_type": "stream",
     "text": [
      "Epoch 2 / 150, Loss: 0.031, MAE: 78.2 - Validation Loss: 0.068, Validation MAE: 10.5\n"
     ]
    },
    {
     "name": "stderr",
     "output_type": "stream",
     "text": [
      "Epoch 3: 100%|██████████| 4/4 [00:03<00:00,  1.13it/s]\n",
      "Epoch 4:   0%|          | 0/4 [00:00<?, ?it/s]"
     ]
    },
    {
     "name": "stdout",
     "output_type": "stream",
     "text": [
      "Epoch 3 / 150, Loss: 0.030, MAE: 78.0 - Validation Loss: 0.068, Validation MAE: 10.5\n"
     ]
    },
    {
     "name": "stderr",
     "output_type": "stream",
     "text": [
      "Epoch 4: 100%|██████████| 4/4 [00:03<00:00,  1.13it/s]\n",
      "Epoch 5:   0%|          | 0/4 [00:00<?, ?it/s]"
     ]
    },
    {
     "name": "stdout",
     "output_type": "stream",
     "text": [
      "Epoch 4 / 150, Loss: 0.035, MAE: 78.6 - Validation Loss: 0.068, Validation MAE: 10.5\n"
     ]
    },
    {
     "name": "stderr",
     "output_type": "stream",
     "text": [
      "Epoch 5: 100%|██████████| 4/4 [00:03<00:00,  1.13it/s]\n",
      "Epoch 6:   0%|          | 0/4 [00:00<?, ?it/s]"
     ]
    },
    {
     "name": "stdout",
     "output_type": "stream",
     "text": [
      "Epoch 5 / 150, Loss: 0.035, MAE: 78.6 - Validation Loss: 0.068, Validation MAE: 10.5\n"
     ]
    },
    {
     "name": "stderr",
     "output_type": "stream",
     "text": [
      "Epoch 6: 100%|██████████| 4/4 [00:03<00:00,  1.13it/s]\n",
      "Epoch 7:   0%|          | 0/4 [00:00<?, ?it/s]"
     ]
    },
    {
     "name": "stdout",
     "output_type": "stream",
     "text": [
      "Epoch 6 / 150, Loss: 0.040, MAE: 77.9 - Validation Loss: 0.068, Validation MAE: 10.5\n"
     ]
    },
    {
     "name": "stderr",
     "output_type": "stream",
     "text": [
      "Epoch 7: 100%|██████████| 4/4 [00:03<00:00,  1.13it/s]\n",
      "Epoch 8:   0%|          | 0/4 [00:00<?, ?it/s]"
     ]
    },
    {
     "name": "stdout",
     "output_type": "stream",
     "text": [
      "Epoch 7 / 150, Loss: 0.030, MAE: 77.9 - Validation Loss: 0.068, Validation MAE: 10.5\n"
     ]
    },
    {
     "name": "stderr",
     "output_type": "stream",
     "text": [
      "Epoch 8: 100%|██████████| 4/4 [00:03<00:00,  1.13it/s]\n",
      "Epoch 9:   0%|          | 0/4 [00:00<?, ?it/s]"
     ]
    },
    {
     "name": "stdout",
     "output_type": "stream",
     "text": [
      "Epoch 8 / 150, Loss: 0.029, MAE: 79.5 - Validation Loss: 0.068, Validation MAE: 10.5\n"
     ]
    },
    {
     "name": "stderr",
     "output_type": "stream",
     "text": [
      "Epoch 9: 100%|██████████| 4/4 [00:03<00:00,  1.13it/s]\n",
      "Epoch 10:   0%|          | 0/4 [00:00<?, ?it/s]"
     ]
    },
    {
     "name": "stdout",
     "output_type": "stream",
     "text": [
      "Epoch 9 / 150, Loss: 0.032, MAE: 78.3 - Validation Loss: 0.068, Validation MAE: 10.5\n"
     ]
    },
    {
     "name": "stderr",
     "output_type": "stream",
     "text": [
      "Epoch 10: 100%|██████████| 4/4 [00:03<00:00,  1.13it/s]\n",
      "Epoch 11:   0%|          | 0/4 [00:00<?, ?it/s]"
     ]
    },
    {
     "name": "stdout",
     "output_type": "stream",
     "text": [
      "Epoch 10 / 150, Loss: 0.026, MAE: 76.3 - Validation Loss: 0.068, Validation MAE: 10.5\n"
     ]
    },
    {
     "name": "stderr",
     "output_type": "stream",
     "text": [
      "Epoch 11: 100%|██████████| 4/4 [00:03<00:00,  1.13it/s]\n",
      "Epoch 12:   0%|          | 0/4 [00:00<?, ?it/s]"
     ]
    },
    {
     "name": "stdout",
     "output_type": "stream",
     "text": [
      "Epoch 11 / 150, Loss: 0.030, MAE: 78.0 - Validation Loss: 0.068, Validation MAE: 10.5\n"
     ]
    },
    {
     "name": "stderr",
     "output_type": "stream",
     "text": [
      "Epoch 12: 100%|██████████| 4/4 [00:03<00:00,  1.13it/s]\n",
      "Epoch 13:   0%|          | 0/4 [00:00<?, ?it/s]"
     ]
    },
    {
     "name": "stdout",
     "output_type": "stream",
     "text": [
      "Epoch 12 / 150, Loss: 0.026, MAE: 75.8 - Validation Loss: 0.068, Validation MAE: 10.5\n"
     ]
    },
    {
     "name": "stderr",
     "output_type": "stream",
     "text": [
      "Epoch 13: 100%|██████████| 4/4 [00:03<00:00,  1.13it/s]\n",
      "Epoch 14:   0%|          | 0/4 [00:00<?, ?it/s]"
     ]
    },
    {
     "name": "stdout",
     "output_type": "stream",
     "text": [
      "Epoch 13 / 150, Loss: 0.030, MAE: 78.0 - Validation Loss: 0.068, Validation MAE: 10.5\n"
     ]
    },
    {
     "name": "stderr",
     "output_type": "stream",
     "text": [
      "Epoch 14: 100%|██████████| 4/4 [00:03<00:00,  1.13it/s]\n",
      "Epoch 15:   0%|          | 0/4 [00:00<?, ?it/s]"
     ]
    },
    {
     "name": "stdout",
     "output_type": "stream",
     "text": [
      "Epoch 14 / 150, Loss: 0.027, MAE: 76.6 - Validation Loss: 0.068, Validation MAE: 10.5\n"
     ]
    },
    {
     "name": "stderr",
     "output_type": "stream",
     "text": [
      "Epoch 15: 100%|██████████| 4/4 [00:03<00:00,  1.12it/s]\n",
      "Epoch 16:   0%|          | 0/4 [00:00<?, ?it/s]"
     ]
    },
    {
     "name": "stdout",
     "output_type": "stream",
     "text": [
      "Epoch 15 / 150, Loss: 0.027, MAE: 77.0 - Validation Loss: 0.068, Validation MAE: 10.5\n"
     ]
    },
    {
     "name": "stderr",
     "output_type": "stream",
     "text": [
      "Epoch 16: 100%|██████████| 4/4 [00:03<00:00,  1.13it/s]\n",
      "Epoch 17:   0%|          | 0/4 [00:00<?, ?it/s]"
     ]
    },
    {
     "name": "stdout",
     "output_type": "stream",
     "text": [
      "Epoch 16 / 150, Loss: 0.033, MAE: 78.2 - Validation Loss: 0.068, Validation MAE: 10.5\n"
     ]
    },
    {
     "name": "stderr",
     "output_type": "stream",
     "text": [
      "Epoch 17: 100%|██████████| 4/4 [00:03<00:00,  1.13it/s]\n",
      "Epoch 18:   0%|          | 0/4 [00:00<?, ?it/s]"
     ]
    },
    {
     "name": "stdout",
     "output_type": "stream",
     "text": [
      "Epoch 17 / 150, Loss: 0.028, MAE: 76.2 - Validation Loss: 0.068, Validation MAE: 10.5\n"
     ]
    },
    {
     "name": "stderr",
     "output_type": "stream",
     "text": [
      "Epoch 18: 100%|██████████| 4/4 [00:03<00:00,  1.13it/s]\n",
      "Epoch 19:   0%|          | 0/4 [00:00<?, ?it/s]"
     ]
    },
    {
     "name": "stdout",
     "output_type": "stream",
     "text": [
      "Epoch 18 / 150, Loss: 0.027, MAE: 77.6 - Validation Loss: 0.068, Validation MAE: 10.5\n"
     ]
    },
    {
     "name": "stderr",
     "output_type": "stream",
     "text": [
      "Epoch 19: 100%|██████████| 4/4 [00:03<00:00,  1.13it/s]\n",
      "Epoch 20:   0%|          | 0/4 [00:00<?, ?it/s]"
     ]
    },
    {
     "name": "stdout",
     "output_type": "stream",
     "text": [
      "Epoch 19 / 150, Loss: 0.028, MAE: 77.6 - Validation Loss: 0.068, Validation MAE: 10.5\n"
     ]
    },
    {
     "name": "stderr",
     "output_type": "stream",
     "text": [
      "Epoch 20: 100%|██████████| 4/4 [00:03<00:00,  1.13it/s]\n",
      "Epoch 21:   0%|          | 0/4 [00:00<?, ?it/s]"
     ]
    },
    {
     "name": "stdout",
     "output_type": "stream",
     "text": [
      "Epoch 20 / 150, Loss: 0.022, MAE: 77.1 - Validation Loss: 0.068, Validation MAE: 10.5\n"
     ]
    },
    {
     "name": "stderr",
     "output_type": "stream",
     "text": [
      "Epoch 21: 100%|██████████| 4/4 [00:03<00:00,  1.13it/s]\n",
      "Epoch 22:   0%|          | 0/4 [00:00<?, ?it/s]"
     ]
    },
    {
     "name": "stdout",
     "output_type": "stream",
     "text": [
      "Epoch 21 / 150, Loss: 0.019, MAE: 77.2 - Validation Loss: 0.068, Validation MAE: 10.5\n"
     ]
    },
    {
     "name": "stderr",
     "output_type": "stream",
     "text": [
      "Epoch 22: 100%|██████████| 4/4 [00:03<00:00,  1.13it/s]\n",
      "Epoch 23:   0%|          | 0/4 [00:00<?, ?it/s]"
     ]
    },
    {
     "name": "stdout",
     "output_type": "stream",
     "text": [
      "Epoch 22 / 150, Loss: 0.036, MAE: 79.8 - Validation Loss: 0.068, Validation MAE: 10.5\n"
     ]
    },
    {
     "name": "stderr",
     "output_type": "stream",
     "text": [
      "Epoch 23: 100%|██████████| 4/4 [00:03<00:00,  1.13it/s]\n",
      "Epoch 24:   0%|          | 0/4 [00:00<?, ?it/s]"
     ]
    },
    {
     "name": "stdout",
     "output_type": "stream",
     "text": [
      "Epoch 23 / 150, Loss: 0.033, MAE: 77.7 - Validation Loss: 0.068, Validation MAE: 10.5\n"
     ]
    },
    {
     "name": "stderr",
     "output_type": "stream",
     "text": [
      "Epoch 24: 100%|██████████| 4/4 [00:03<00:00,  1.13it/s]\n",
      "Epoch 25:   0%|          | 0/4 [00:00<?, ?it/s]"
     ]
    },
    {
     "name": "stdout",
     "output_type": "stream",
     "text": [
      "Epoch 24 / 150, Loss: 0.031, MAE: 77.6 - Validation Loss: 0.068, Validation MAE: 10.5\n"
     ]
    },
    {
     "name": "stderr",
     "output_type": "stream",
     "text": [
      "Epoch 25: 100%|██████████| 4/4 [00:03<00:00,  1.13it/s]\n",
      "Epoch 26:   0%|          | 0/4 [00:00<?, ?it/s]"
     ]
    },
    {
     "name": "stdout",
     "output_type": "stream",
     "text": [
      "Epoch 25 / 150, Loss: 0.026, MAE: 76.5 - Validation Loss: 0.068, Validation MAE: 10.5\n"
     ]
    }
   ],
   "source": [
    "trainer.train(model, 150)"
   ]
  },
  {
   "cell_type": "code",
   "execution_count": null,
   "metadata": {
    "jupyter": {
     "outputs_hidden": false,
     "source_hidden": false
    },
    "nteract": {
     "transient": {
      "deleting": false
     }
    }
   },
   "outputs": [],
   "source": [
    "    # Evaluation\n",
    "    preds, targets = model.eval_with_loader(trainer.test_loader)\n",
    "    preds_untr = np.exp(\n",
    "        trainer.scaler.inverse_transform([preds])[0,:]\n",
    "    ) - 1\n",
    "    targets_untr = np.exp(\n",
    "        trainer.scaler.inverse_transform([targets])[0,:]\n",
    "    ) - 1\n",
    "    compute_metrics(preds_untr, targets_untr)"
   ]
  },
  {
   "cell_type": "code",
   "execution_count": null,
   "metadata": {
    "jupyter": {
     "outputs_hidden": false,
     "source_hidden": false
    },
    "nteract": {
     "transient": {
      "deleting": false
     }
    }
   },
   "outputs": [],
   "source": []
  },
  {
   "cell_type": "code",
   "execution_count": null,
   "metadata": {},
   "outputs": [],
   "source": []
  },
  {
   "cell_type": "code",
   "execution_count": null,
   "metadata": {},
   "outputs": [],
   "source": []
  }
 ],
 "metadata": {
  "kernel_info": {
   "name": "python3-azureml"
  },
  "kernelspec": {
   "display_name": "Python 3.6 - AzureML",
   "language": "python",
   "name": "python3-azureml"
  },
  "language_info": {
   "codemirror_mode": {
    "name": "ipython",
    "version": 3
   },
   "file_extension": ".py",
   "mimetype": "text/x-python",
   "name": "python",
   "nbconvert_exporter": "python",
   "pygments_lexer": "ipython3",
   "version": "3.6.9"
  },
  "nteract": {
   "version": "nteract-front-end@1.0.0"
  }
 },
 "nbformat": 4,
 "nbformat_minor": 2
}
